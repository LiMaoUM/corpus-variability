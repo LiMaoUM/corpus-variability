{
 "cells": [
  {
   "cell_type": "code",
   "execution_count": 1,
   "metadata": {},
   "outputs": [
    {
     "name": "stderr",
     "output_type": "stream",
     "text": [
      "C:\\Users\\Mao\\AppData\\Local\\Temp\\ipykernel_46032\\504452542.py:8: DtypeWarning: Columns (68) have mixed types. Specify dtype option on import or set low_memory=False.\n",
      "  data = pd.read_csv(file)\n",
      "C:\\Users\\Mao\\AppData\\Local\\Temp\\ipykernel_46032\\504452542.py:8: DtypeWarning: Columns (45,50,51,60) have mixed types. Specify dtype option on import or set low_memory=False.\n",
      "  data = pd.read_csv(file)\n",
      "C:\\Users\\Mao\\AppData\\Local\\Temp\\ipykernel_46032\\504452542.py:8: DtypeWarning: Columns (47,48) have mixed types. Specify dtype option on import or set low_memory=False.\n",
      "  data = pd.read_csv(file)\n",
      "C:\\Users\\Mao\\AppData\\Local\\Temp\\ipykernel_46032\\504452542.py:8: DtypeWarning: Columns (47,48) have mixed types. Specify dtype option on import or set low_memory=False.\n",
      "  data = pd.read_csv(file)\n",
      "C:\\Users\\Mao\\AppData\\Local\\Temp\\ipykernel_46032\\504452542.py:8: DtypeWarning: Columns (68) have mixed types. Specify dtype option on import or set low_memory=False.\n",
      "  data = pd.read_csv(file)\n",
      "C:\\Users\\Mao\\AppData\\Local\\Temp\\ipykernel_46032\\504452542.py:8: DtypeWarning: Columns (43,47,48) have mixed types. Specify dtype option on import or set low_memory=False.\n",
      "  data = pd.read_csv(file)\n",
      "C:\\Users\\Mao\\AppData\\Local\\Temp\\ipykernel_46032\\504452542.py:8: DtypeWarning: Columns (47,48) have mixed types. Specify dtype option on import or set low_memory=False.\n",
      "  data = pd.read_csv(file)\n",
      "C:\\Users\\Mao\\AppData\\Local\\Temp\\ipykernel_46032\\504452542.py:8: DtypeWarning: Columns (65) have mixed types. Specify dtype option on import or set low_memory=False.\n",
      "  data = pd.read_csv(file)\n",
      "C:\\Users\\Mao\\AppData\\Local\\Temp\\ipykernel_46032\\504452542.py:8: DtypeWarning: Columns (65) have mixed types. Specify dtype option on import or set low_memory=False.\n",
      "  data = pd.read_csv(file)\n",
      "C:\\Users\\Mao\\AppData\\Local\\Temp\\ipykernel_46032\\504452542.py:8: DtypeWarning: Columns (27,36,45,46,50,51,60,65,66,77) have mixed types. Specify dtype option on import or set low_memory=False.\n",
      "  data = pd.read_csv(file)\n",
      "C:\\Users\\Mao\\AppData\\Local\\Temp\\ipykernel_46032\\504452542.py:8: DtypeWarning: Columns (47,48) have mixed types. Specify dtype option on import or set low_memory=False.\n",
      "  data = pd.read_csv(file)\n",
      "C:\\Users\\Mao\\AppData\\Local\\Temp\\ipykernel_46032\\504452542.py:8: DtypeWarning: Columns (27,47,48,60,65,66,77) have mixed types. Specify dtype option on import or set low_memory=False.\n",
      "  data = pd.read_csv(file)\n",
      "C:\\Users\\Mao\\AppData\\Local\\Temp\\ipykernel_46032\\504452542.py:8: DtypeWarning: Columns (65) have mixed types. Specify dtype option on import or set low_memory=False.\n",
      "  data = pd.read_csv(file)\n",
      "C:\\Users\\Mao\\AppData\\Local\\Temp\\ipykernel_46032\\504452542.py:8: DtypeWarning: Columns (43,47,48) have mixed types. Specify dtype option on import or set low_memory=False.\n",
      "  data = pd.read_csv(file)\n",
      "C:\\Users\\Mao\\AppData\\Local\\Temp\\ipykernel_46032\\504452542.py:8: DtypeWarning: Columns (43,47,48) have mixed types. Specify dtype option on import or set low_memory=False.\n",
      "  data = pd.read_csv(file)\n",
      "C:\\Users\\Mao\\AppData\\Local\\Temp\\ipykernel_46032\\504452542.py:8: DtypeWarning: Columns (47,48) have mixed types. Specify dtype option on import or set low_memory=False.\n",
      "  data = pd.read_csv(file)\n",
      "C:\\Users\\Mao\\AppData\\Local\\Temp\\ipykernel_46032\\504452542.py:8: DtypeWarning: Columns (39) have mixed types. Specify dtype option on import or set low_memory=False.\n",
      "  data = pd.read_csv(file)\n",
      "C:\\Users\\Mao\\AppData\\Local\\Temp\\ipykernel_46032\\504452542.py:8: DtypeWarning: Columns (39) have mixed types. Specify dtype option on import or set low_memory=False.\n",
      "  data = pd.read_csv(file)\n",
      "C:\\Users\\Mao\\AppData\\Local\\Temp\\ipykernel_46032\\504452542.py:8: DtypeWarning: Columns (43,48) have mixed types. Specify dtype option on import or set low_memory=False.\n",
      "  data = pd.read_csv(file)\n",
      "C:\\Users\\Mao\\AppData\\Local\\Temp\\ipykernel_46032\\504452542.py:8: DtypeWarning: Columns (39,58,59,64) have mixed types. Specify dtype option on import or set low_memory=False.\n",
      "  data = pd.read_csv(file)\n",
      "C:\\Users\\Mao\\AppData\\Local\\Temp\\ipykernel_46032\\504452542.py:8: DtypeWarning: Columns (28,29,39,64) have mixed types. Specify dtype option on import or set low_memory=False.\n",
      "  data = pd.read_csv(file)\n",
      "C:\\Users\\Mao\\AppData\\Local\\Temp\\ipykernel_46032\\504452542.py:8: DtypeWarning: Columns (55,58,59,64) have mixed types. Specify dtype option on import or set low_memory=False.\n",
      "  data = pd.read_csv(file)\n",
      "C:\\Users\\Mao\\AppData\\Local\\Temp\\ipykernel_46032\\504452542.py:8: DtypeWarning: Columns (28,29,39,48,58,59,64,68) have mixed types. Specify dtype option on import or set low_memory=False.\n",
      "  data = pd.read_csv(file)\n",
      "C:\\Users\\Mao\\AppData\\Local\\Temp\\ipykernel_46032\\504452542.py:8: DtypeWarning: Columns (58,59,68) have mixed types. Specify dtype option on import or set low_memory=False.\n",
      "  data = pd.read_csv(file)\n",
      "C:\\Users\\Mao\\AppData\\Local\\Temp\\ipykernel_46032\\504452542.py:8: DtypeWarning: Columns (47,48,68) have mixed types. Specify dtype option on import or set low_memory=False.\n",
      "  data = pd.read_csv(file)\n",
      "C:\\Users\\Mao\\AppData\\Local\\Temp\\ipykernel_46032\\504452542.py:8: DtypeWarning: Columns (47,48) have mixed types. Specify dtype option on import or set low_memory=False.\n",
      "  data = pd.read_csv(file)\n",
      "C:\\Users\\Mao\\AppData\\Local\\Temp\\ipykernel_46032\\504452542.py:8: DtypeWarning: Columns (39,43,47,48,55,58,59,64,65) have mixed types. Specify dtype option on import or set low_memory=False.\n",
      "  data = pd.read_csv(file)\n",
      "C:\\Users\\Mao\\AppData\\Local\\Temp\\ipykernel_46032\\504452542.py:8: DtypeWarning: Columns (39,43,55,58,59) have mixed types. Specify dtype option on import or set low_memory=False.\n",
      "  data = pd.read_csv(file)\n",
      "C:\\Users\\Mao\\AppData\\Local\\Temp\\ipykernel_46032\\504452542.py:8: DtypeWarning: Columns (28,29,48,58,59,64) have mixed types. Specify dtype option on import or set low_memory=False.\n",
      "  data = pd.read_csv(file)\n",
      "C:\\Users\\Mao\\AppData\\Local\\Temp\\ipykernel_46032\\504452542.py:8: DtypeWarning: Columns (28,29,39,43,47,48,58,59,64,65) have mixed types. Specify dtype option on import or set low_memory=False.\n",
      "  data = pd.read_csv(file)\n",
      "C:\\Users\\Mao\\AppData\\Local\\Temp\\ipykernel_46032\\504452542.py:8: DtypeWarning: Columns (28,29,39,47,48,68) have mixed types. Specify dtype option on import or set low_memory=False.\n",
      "  data = pd.read_csv(file)\n",
      "C:\\Users\\Mao\\AppData\\Local\\Temp\\ipykernel_46032\\504452542.py:8: DtypeWarning: Columns (28,29) have mixed types. Specify dtype option on import or set low_memory=False.\n",
      "  data = pd.read_csv(file)\n",
      "C:\\Users\\Mao\\AppData\\Local\\Temp\\ipykernel_46032\\504452542.py:8: DtypeWarning: Columns (43,47,48,58) have mixed types. Specify dtype option on import or set low_memory=False.\n",
      "  data = pd.read_csv(file)\n",
      "C:\\Users\\Mao\\AppData\\Local\\Temp\\ipykernel_46032\\504452542.py:8: DtypeWarning: Columns (39) have mixed types. Specify dtype option on import or set low_memory=False.\n",
      "  data = pd.read_csv(file)\n",
      "C:\\Users\\Mao\\AppData\\Local\\Temp\\ipykernel_46032\\504452542.py:8: DtypeWarning: Columns (28,29,39,43,47,48) have mixed types. Specify dtype option on import or set low_memory=False.\n",
      "  data = pd.read_csv(file)\n",
      "C:\\Users\\Mao\\AppData\\Local\\Temp\\ipykernel_46032\\504452542.py:8: DtypeWarning: Columns (39,47,48) have mixed types. Specify dtype option on import or set low_memory=False.\n",
      "  data = pd.read_csv(file)\n",
      "C:\\Users\\Mao\\AppData\\Local\\Temp\\ipykernel_46032\\504452542.py:8: DtypeWarning: Columns (28,29,39,47,48,58) have mixed types. Specify dtype option on import or set low_memory=False.\n",
      "  data = pd.read_csv(file)\n",
      "C:\\Users\\Mao\\AppData\\Local\\Temp\\ipykernel_46032\\504452542.py:8: DtypeWarning: Columns (39,58,65) have mixed types. Specify dtype option on import or set low_memory=False.\n",
      "  data = pd.read_csv(file)\n",
      "C:\\Users\\Mao\\AppData\\Local\\Temp\\ipykernel_46032\\504452542.py:8: DtypeWarning: Columns (43,47,48) have mixed types. Specify dtype option on import or set low_memory=False.\n",
      "  data = pd.read_csv(file)\n",
      "C:\\Users\\Mao\\AppData\\Local\\Temp\\ipykernel_46032\\504452542.py:8: DtypeWarning: Columns (43,47,48) have mixed types. Specify dtype option on import or set low_memory=False.\n",
      "  data = pd.read_csv(file)\n",
      "C:\\Users\\Mao\\AppData\\Local\\Temp\\ipykernel_46032\\504452542.py:8: DtypeWarning: Columns (39) have mixed types. Specify dtype option on import or set low_memory=False.\n",
      "  data = pd.read_csv(file)\n",
      "C:\\Users\\Mao\\AppData\\Local\\Temp\\ipykernel_46032\\504452542.py:8: DtypeWarning: Columns (28,29,39,43,47,48,64) have mixed types. Specify dtype option on import or set low_memory=False.\n",
      "  data = pd.read_csv(file)\n",
      "C:\\Users\\Mao\\AppData\\Local\\Temp\\ipykernel_46032\\504452542.py:8: DtypeWarning: Columns (28,29,39,47,48,58,68) have mixed types. Specify dtype option on import or set low_memory=False.\n",
      "  data = pd.read_csv(file)\n",
      "C:\\Users\\Mao\\AppData\\Local\\Temp\\ipykernel_46032\\504452542.py:8: DtypeWarning: Columns (28,29,39,48,58,68) have mixed types. Specify dtype option on import or set low_memory=False.\n",
      "  data = pd.read_csv(file)\n",
      "C:\\Users\\Mao\\AppData\\Local\\Temp\\ipykernel_46032\\504452542.py:8: DtypeWarning: Columns (48,68) have mixed types. Specify dtype option on import or set low_memory=False.\n",
      "  data = pd.read_csv(file)\n",
      "C:\\Users\\Mao\\AppData\\Local\\Temp\\ipykernel_46032\\504452542.py:8: DtypeWarning: Columns (45,50,51,58,59,60) have mixed types. Specify dtype option on import or set low_memory=False.\n",
      "  data = pd.read_csv(file)\n",
      "C:\\Users\\Mao\\AppData\\Local\\Temp\\ipykernel_46032\\504452542.py:8: DtypeWarning: Columns (28,29,45,48,50,51,59,60) have mixed types. Specify dtype option on import or set low_memory=False.\n",
      "  data = pd.read_csv(file)\n",
      "C:\\Users\\Mao\\AppData\\Local\\Temp\\ipykernel_46032\\504452542.py:8: DtypeWarning: Columns (39,47,48,58,68) have mixed types. Specify dtype option on import or set low_memory=False.\n",
      "  data = pd.read_csv(file)\n",
      "C:\\Users\\Mao\\AppData\\Local\\Temp\\ipykernel_46032\\504452542.py:8: DtypeWarning: Columns (39,58) have mixed types. Specify dtype option on import or set low_memory=False.\n",
      "  data = pd.read_csv(file)\n",
      "C:\\Users\\Mao\\AppData\\Local\\Temp\\ipykernel_46032\\504452542.py:8: DtypeWarning: Columns (28,29,39,48) have mixed types. Specify dtype option on import or set low_memory=False.\n",
      "  data = pd.read_csv(file)\n",
      "C:\\Users\\Mao\\AppData\\Local\\Temp\\ipykernel_46032\\504452542.py:8: DtypeWarning: Columns (47,48) have mixed types. Specify dtype option on import or set low_memory=False.\n",
      "  data = pd.read_csv(file)\n",
      "C:\\Users\\Mao\\AppData\\Local\\Temp\\ipykernel_46032\\504452542.py:8: DtypeWarning: Columns (58) have mixed types. Specify dtype option on import or set low_memory=False.\n",
      "  data = pd.read_csv(file)\n",
      "C:\\Users\\Mao\\AppData\\Local\\Temp\\ipykernel_46032\\504452542.py:8: DtypeWarning: Columns (39,58) have mixed types. Specify dtype option on import or set low_memory=False.\n",
      "  data = pd.read_csv(file)\n",
      "C:\\Users\\Mao\\AppData\\Local\\Temp\\ipykernel_46032\\504452542.py:8: DtypeWarning: Columns (47,48,58,68) have mixed types. Specify dtype option on import or set low_memory=False.\n",
      "  data = pd.read_csv(file)\n",
      "C:\\Users\\Mao\\AppData\\Local\\Temp\\ipykernel_46032\\504452542.py:8: DtypeWarning: Columns (68) have mixed types. Specify dtype option on import or set low_memory=False.\n",
      "  data = pd.read_csv(file)\n",
      "C:\\Users\\Mao\\AppData\\Local\\Temp\\ipykernel_46032\\504452542.py:8: DtypeWarning: Columns (28,29,47,48,58) have mixed types. Specify dtype option on import or set low_memory=False.\n",
      "  data = pd.read_csv(file)\n",
      "C:\\Users\\Mao\\AppData\\Local\\Temp\\ipykernel_46032\\504452542.py:8: DtypeWarning: Columns (68) have mixed types. Specify dtype option on import or set low_memory=False.\n",
      "  data = pd.read_csv(file)\n",
      "C:\\Users\\Mao\\AppData\\Local\\Temp\\ipykernel_46032\\504452542.py:8: DtypeWarning: Columns (28,29,39,48) have mixed types. Specify dtype option on import or set low_memory=False.\n",
      "  data = pd.read_csv(file)\n",
      "C:\\Users\\Mao\\AppData\\Local\\Temp\\ipykernel_46032\\504452542.py:8: DtypeWarning: Columns (58) have mixed types. Specify dtype option on import or set low_memory=False.\n",
      "  data = pd.read_csv(file)\n",
      "C:\\Users\\Mao\\AppData\\Local\\Temp\\ipykernel_46032\\504452542.py:8: DtypeWarning: Columns (58) have mixed types. Specify dtype option on import or set low_memory=False.\n",
      "  data = pd.read_csv(file)\n",
      "C:\\Users\\Mao\\AppData\\Local\\Temp\\ipykernel_46032\\504452542.py:8: DtypeWarning: Columns (39,44,45,50,51,58,59,60,68) have mixed types. Specify dtype option on import or set low_memory=False.\n",
      "  data = pd.read_csv(file)\n",
      "C:\\Users\\Mao\\AppData\\Local\\Temp\\ipykernel_46032\\504452542.py:8: DtypeWarning: Columns (11,12,24,27,36,39,45,46,47,48,50,51,58,59,60,66,77) have mixed types. Specify dtype option on import or set low_memory=False.\n",
      "  data = pd.read_csv(file)\n",
      "C:\\Users\\Mao\\AppData\\Local\\Temp\\ipykernel_46032\\504452542.py:8: DtypeWarning: Columns (47,48) have mixed types. Specify dtype option on import or set low_memory=False.\n",
      "  data = pd.read_csv(file)\n",
      "C:\\Users\\Mao\\AppData\\Local\\Temp\\ipykernel_46032\\504452542.py:8: DtypeWarning: Columns (58,68) have mixed types. Specify dtype option on import or set low_memory=False.\n",
      "  data = pd.read_csv(file)\n",
      "C:\\Users\\Mao\\AppData\\Local\\Temp\\ipykernel_46032\\504452542.py:8: DtypeWarning: Columns (47,58) have mixed types. Specify dtype option on import or set low_memory=False.\n",
      "  data = pd.read_csv(file)\n",
      "C:\\Users\\Mao\\AppData\\Local\\Temp\\ipykernel_46032\\504452542.py:8: DtypeWarning: Columns (39,58) have mixed types. Specify dtype option on import or set low_memory=False.\n",
      "  data = pd.read_csv(file)\n",
      "C:\\Users\\Mao\\AppData\\Local\\Temp\\ipykernel_46032\\504452542.py:8: DtypeWarning: Columns (39) have mixed types. Specify dtype option on import or set low_memory=False.\n",
      "  data = pd.read_csv(file)\n",
      "C:\\Users\\Mao\\AppData\\Local\\Temp\\ipykernel_46032\\504452542.py:8: DtypeWarning: Columns (39) have mixed types. Specify dtype option on import or set low_memory=False.\n",
      "  data = pd.read_csv(file)\n",
      "C:\\Users\\Mao\\AppData\\Local\\Temp\\ipykernel_46032\\504452542.py:8: DtypeWarning: Columns (44,45,50,51,58,59,60) have mixed types. Specify dtype option on import or set low_memory=False.\n",
      "  data = pd.read_csv(file)\n",
      "C:\\Users\\Mao\\AppData\\Local\\Temp\\ipykernel_46032\\504452542.py:8: DtypeWarning: Columns (39,58,68) have mixed types. Specify dtype option on import or set low_memory=False.\n",
      "  data = pd.read_csv(file)\n",
      "C:\\Users\\Mao\\AppData\\Local\\Temp\\ipykernel_46032\\504452542.py:8: DtypeWarning: Columns (39,68) have mixed types. Specify dtype option on import or set low_memory=False.\n",
      "  data = pd.read_csv(file)\n",
      "C:\\Users\\Mao\\AppData\\Local\\Temp\\ipykernel_46032\\504452542.py:8: DtypeWarning: Columns (68) have mixed types. Specify dtype option on import or set low_memory=False.\n",
      "  data = pd.read_csv(file)\n",
      "C:\\Users\\Mao\\AppData\\Local\\Temp\\ipykernel_46032\\504452542.py:8: DtypeWarning: Columns (45,50,51,58,59,60,68) have mixed types. Specify dtype option on import or set low_memory=False.\n",
      "  data = pd.read_csv(file)\n",
      "C:\\Users\\Mao\\AppData\\Local\\Temp\\ipykernel_46032\\504452542.py:8: DtypeWarning: Columns (39,68) have mixed types. Specify dtype option on import or set low_memory=False.\n",
      "  data = pd.read_csv(file)\n",
      "C:\\Users\\Mao\\AppData\\Local\\Temp\\ipykernel_46032\\504452542.py:8: DtypeWarning: Columns (58) have mixed types. Specify dtype option on import or set low_memory=False.\n",
      "  data = pd.read_csv(file)\n",
      "C:\\Users\\Mao\\AppData\\Local\\Temp\\ipykernel_46032\\504452542.py:8: DtypeWarning: Columns (68) have mixed types. Specify dtype option on import or set low_memory=False.\n",
      "  data = pd.read_csv(file)\n",
      "C:\\Users\\Mao\\AppData\\Local\\Temp\\ipykernel_46032\\504452542.py:8: DtypeWarning: Columns (58) have mixed types. Specify dtype option on import or set low_memory=False.\n",
      "  data = pd.read_csv(file)\n",
      "C:\\Users\\Mao\\AppData\\Local\\Temp\\ipykernel_46032\\504452542.py:8: DtypeWarning: Columns (48,58) have mixed types. Specify dtype option on import or set low_memory=False.\n",
      "  data = pd.read_csv(file)\n",
      "C:\\Users\\Mao\\AppData\\Local\\Temp\\ipykernel_46032\\504452542.py:8: DtypeWarning: Columns (39,58,68) have mixed types. Specify dtype option on import or set low_memory=False.\n",
      "  data = pd.read_csv(file)\n",
      "C:\\Users\\Mao\\AppData\\Local\\Temp\\ipykernel_46032\\504452542.py:8: DtypeWarning: Columns (39,48,68) have mixed types. Specify dtype option on import or set low_memory=False.\n",
      "  data = pd.read_csv(file)\n",
      "C:\\Users\\Mao\\AppData\\Local\\Temp\\ipykernel_46032\\504452542.py:8: DtypeWarning: Columns (68) have mixed types. Specify dtype option on import or set low_memory=False.\n",
      "  data = pd.read_csv(file)\n",
      "C:\\Users\\Mao\\AppData\\Local\\Temp\\ipykernel_46032\\504452542.py:8: DtypeWarning: Columns (68) have mixed types. Specify dtype option on import or set low_memory=False.\n",
      "  data = pd.read_csv(file)\n",
      "C:\\Users\\Mao\\AppData\\Local\\Temp\\ipykernel_46032\\504452542.py:8: DtypeWarning: Columns (39,58,68) have mixed types. Specify dtype option on import or set low_memory=False.\n",
      "  data = pd.read_csv(file)\n",
      "C:\\Users\\Mao\\AppData\\Local\\Temp\\ipykernel_46032\\504452542.py:8: DtypeWarning: Columns (58) have mixed types. Specify dtype option on import or set low_memory=False.\n",
      "  data = pd.read_csv(file)\n",
      "C:\\Users\\Mao\\AppData\\Local\\Temp\\ipykernel_46032\\504452542.py:8: DtypeWarning: Columns (39) have mixed types. Specify dtype option on import or set low_memory=False.\n",
      "  data = pd.read_csv(file)\n",
      "C:\\Users\\Mao\\AppData\\Local\\Temp\\ipykernel_46032\\504452542.py:8: DtypeWarning: Columns (58) have mixed types. Specify dtype option on import or set low_memory=False.\n",
      "  data = pd.read_csv(file)\n",
      "C:\\Users\\Mao\\AppData\\Local\\Temp\\ipykernel_46032\\504452542.py:8: DtypeWarning: Columns (39) have mixed types. Specify dtype option on import or set low_memory=False.\n",
      "  data = pd.read_csv(file)\n",
      "C:\\Users\\Mao\\AppData\\Local\\Temp\\ipykernel_46032\\504452542.py:8: DtypeWarning: Columns (39) have mixed types. Specify dtype option on import or set low_memory=False.\n",
      "  data = pd.read_csv(file)\n",
      "C:\\Users\\Mao\\AppData\\Local\\Temp\\ipykernel_46032\\504452542.py:8: DtypeWarning: Columns (11,12,36,45,46,50,51,59,60,68,77) have mixed types. Specify dtype option on import or set low_memory=False.\n",
      "  data = pd.read_csv(file)\n",
      "C:\\Users\\Mao\\AppData\\Local\\Temp\\ipykernel_46032\\504452542.py:8: DtypeWarning: Columns (11,12,39,58,64,68,77) have mixed types. Specify dtype option on import or set low_memory=False.\n",
      "  data = pd.read_csv(file)\n",
      "C:\\Users\\Mao\\AppData\\Local\\Temp\\ipykernel_46032\\504452542.py:8: DtypeWarning: Columns (39,45,50,51,60,68) have mixed types. Specify dtype option on import or set low_memory=False.\n",
      "  data = pd.read_csv(file)\n",
      "C:\\Users\\Mao\\AppData\\Local\\Temp\\ipykernel_46032\\504452542.py:8: DtypeWarning: Columns (39) have mixed types. Specify dtype option on import or set low_memory=False.\n",
      "  data = pd.read_csv(file)\n",
      "C:\\Users\\Mao\\AppData\\Local\\Temp\\ipykernel_46032\\504452542.py:8: DtypeWarning: Columns (39,58,68) have mixed types. Specify dtype option on import or set low_memory=False.\n",
      "  data = pd.read_csv(file)\n",
      "C:\\Users\\Mao\\AppData\\Local\\Temp\\ipykernel_46032\\504452542.py:8: DtypeWarning: Columns (39) have mixed types. Specify dtype option on import or set low_memory=False.\n",
      "  data = pd.read_csv(file)\n",
      "C:\\Users\\Mao\\AppData\\Local\\Temp\\ipykernel_46032\\504452542.py:8: DtypeWarning: Columns (39) have mixed types. Specify dtype option on import or set low_memory=False.\n",
      "  data = pd.read_csv(file)\n",
      "C:\\Users\\Mao\\AppData\\Local\\Temp\\ipykernel_46032\\504452542.py:8: DtypeWarning: Columns (39,58,68) have mixed types. Specify dtype option on import or set low_memory=False.\n",
      "  data = pd.read_csv(file)\n",
      "C:\\Users\\Mao\\AppData\\Local\\Temp\\ipykernel_46032\\504452542.py:8: DtypeWarning: Columns (39,58) have mixed types. Specify dtype option on import or set low_memory=False.\n",
      "  data = pd.read_csv(file)\n",
      "C:\\Users\\Mao\\AppData\\Local\\Temp\\ipykernel_46032\\504452542.py:8: DtypeWarning: Columns (39,58) have mixed types. Specify dtype option on import or set low_memory=False.\n",
      "  data = pd.read_csv(file)\n",
      "C:\\Users\\Mao\\AppData\\Local\\Temp\\ipykernel_46032\\504452542.py:8: DtypeWarning: Columns (39) have mixed types. Specify dtype option on import or set low_memory=False.\n",
      "  data = pd.read_csv(file)\n",
      "C:\\Users\\Mao\\AppData\\Local\\Temp\\ipykernel_46032\\504452542.py:8: DtypeWarning: Columns (11,12,58) have mixed types. Specify dtype option on import or set low_memory=False.\n",
      "  data = pd.read_csv(file)\n",
      "C:\\Users\\Mao\\AppData\\Local\\Temp\\ipykernel_46032\\504452542.py:8: DtypeWarning: Columns (58) have mixed types. Specify dtype option on import or set low_memory=False.\n",
      "  data = pd.read_csv(file)\n",
      "C:\\Users\\Mao\\AppData\\Local\\Temp\\ipykernel_46032\\504452542.py:8: DtypeWarning: Columns (11,12,58,68) have mixed types. Specify dtype option on import or set low_memory=False.\n",
      "  data = pd.read_csv(file)\n",
      "C:\\Users\\Mao\\AppData\\Local\\Temp\\ipykernel_46032\\504452542.py:8: DtypeWarning: Columns (39,58,64,68) have mixed types. Specify dtype option on import or set low_memory=False.\n",
      "  data = pd.read_csv(file)\n",
      "C:\\Users\\Mao\\AppData\\Local\\Temp\\ipykernel_46032\\504452542.py:8: DtypeWarning: Columns (39,58) have mixed types. Specify dtype option on import or set low_memory=False.\n",
      "  data = pd.read_csv(file)\n",
      "C:\\Users\\Mao\\AppData\\Local\\Temp\\ipykernel_46032\\504452542.py:8: DtypeWarning: Columns (39,58,64) have mixed types. Specify dtype option on import or set low_memory=False.\n",
      "  data = pd.read_csv(file)\n",
      "C:\\Users\\Mao\\AppData\\Local\\Temp\\ipykernel_46032\\504452542.py:8: DtypeWarning: Columns (28,29,39,48,58) have mixed types. Specify dtype option on import or set low_memory=False.\n",
      "  data = pd.read_csv(file)\n",
      "C:\\Users\\Mao\\AppData\\Local\\Temp\\ipykernel_46032\\504452542.py:8: DtypeWarning: Columns (39,68) have mixed types. Specify dtype option on import or set low_memory=False.\n",
      "  data = pd.read_csv(file)\n",
      "C:\\Users\\Mao\\AppData\\Local\\Temp\\ipykernel_46032\\504452542.py:8: DtypeWarning: Columns (58) have mixed types. Specify dtype option on import or set low_memory=False.\n",
      "  data = pd.read_csv(file)\n",
      "C:\\Users\\Mao\\AppData\\Local\\Temp\\ipykernel_46032\\504452542.py:8: DtypeWarning: Columns (39,58,68) have mixed types. Specify dtype option on import or set low_memory=False.\n",
      "  data = pd.read_csv(file)\n",
      "C:\\Users\\Mao\\AppData\\Local\\Temp\\ipykernel_46032\\504452542.py:8: DtypeWarning: Columns (11,12,58) have mixed types. Specify dtype option on import or set low_memory=False.\n",
      "  data = pd.read_csv(file)\n",
      "C:\\Users\\Mao\\AppData\\Local\\Temp\\ipykernel_46032\\504452542.py:8: DtypeWarning: Columns (39,58) have mixed types. Specify dtype option on import or set low_memory=False.\n",
      "  data = pd.read_csv(file)\n",
      "C:\\Users\\Mao\\AppData\\Local\\Temp\\ipykernel_46032\\504452542.py:8: DtypeWarning: Columns (39) have mixed types. Specify dtype option on import or set low_memory=False.\n",
      "  data = pd.read_csv(file)\n",
      "C:\\Users\\Mao\\AppData\\Local\\Temp\\ipykernel_46032\\504452542.py:8: DtypeWarning: Columns (58) have mixed types. Specify dtype option on import or set low_memory=False.\n",
      "  data = pd.read_csv(file)\n",
      "C:\\Users\\Mao\\AppData\\Local\\Temp\\ipykernel_46032\\504452542.py:8: DtypeWarning: Columns (39,48,58) have mixed types. Specify dtype option on import or set low_memory=False.\n",
      "  data = pd.read_csv(file)\n",
      "C:\\Users\\Mao\\AppData\\Local\\Temp\\ipykernel_46032\\504452542.py:8: DtypeWarning: Columns (39,58) have mixed types. Specify dtype option on import or set low_memory=False.\n",
      "  data = pd.read_csv(file)\n",
      "C:\\Users\\Mao\\AppData\\Local\\Temp\\ipykernel_46032\\504452542.py:8: DtypeWarning: Columns (39) have mixed types. Specify dtype option on import or set low_memory=False.\n",
      "  data = pd.read_csv(file)\n",
      "C:\\Users\\Mao\\AppData\\Local\\Temp\\ipykernel_46032\\504452542.py:8: DtypeWarning: Columns (39) have mixed types. Specify dtype option on import or set low_memory=False.\n",
      "  data = pd.read_csv(file)\n",
      "C:\\Users\\Mao\\AppData\\Local\\Temp\\ipykernel_46032\\504452542.py:8: DtypeWarning: Columns (39) have mixed types. Specify dtype option on import or set low_memory=False.\n",
      "  data = pd.read_csv(file)\n",
      "C:\\Users\\Mao\\AppData\\Local\\Temp\\ipykernel_46032\\504452542.py:8: DtypeWarning: Columns (28,29,48,58) have mixed types. Specify dtype option on import or set low_memory=False.\n",
      "  data = pd.read_csv(file)\n",
      "C:\\Users\\Mao\\AppData\\Local\\Temp\\ipykernel_46032\\504452542.py:8: DtypeWarning: Columns (58) have mixed types. Specify dtype option on import or set low_memory=False.\n",
      "  data = pd.read_csv(file)\n",
      "C:\\Users\\Mao\\AppData\\Local\\Temp\\ipykernel_46032\\504452542.py:8: DtypeWarning: Columns (39,58,68) have mixed types. Specify dtype option on import or set low_memory=False.\n",
      "  data = pd.read_csv(file)\n",
      "C:\\Users\\Mao\\AppData\\Local\\Temp\\ipykernel_46032\\504452542.py:8: DtypeWarning: Columns (11,12,27,36,39,45,46,50,51,58,60,66,68,77) have mixed types. Specify dtype option on import or set low_memory=False.\n",
      "  data = pd.read_csv(file)\n",
      "C:\\Users\\Mao\\AppData\\Local\\Temp\\ipykernel_46032\\504452542.py:8: DtypeWarning: Columns (39) have mixed types. Specify dtype option on import or set low_memory=False.\n",
      "  data = pd.read_csv(file)\n",
      "C:\\Users\\Mao\\AppData\\Local\\Temp\\ipykernel_46032\\504452542.py:8: DtypeWarning: Columns (68) have mixed types. Specify dtype option on import or set low_memory=False.\n",
      "  data = pd.read_csv(file)\n",
      "C:\\Users\\Mao\\AppData\\Local\\Temp\\ipykernel_46032\\504452542.py:8: DtypeWarning: Columns (39,58) have mixed types. Specify dtype option on import or set low_memory=False.\n",
      "  data = pd.read_csv(file)\n",
      "C:\\Users\\Mao\\AppData\\Local\\Temp\\ipykernel_46032\\504452542.py:8: DtypeWarning: Columns (39,58) have mixed types. Specify dtype option on import or set low_memory=False.\n",
      "  data = pd.read_csv(file)\n",
      "C:\\Users\\Mao\\AppData\\Local\\Temp\\ipykernel_46032\\504452542.py:8: DtypeWarning: Columns (39,58) have mixed types. Specify dtype option on import or set low_memory=False.\n",
      "  data = pd.read_csv(file)\n",
      "C:\\Users\\Mao\\AppData\\Local\\Temp\\ipykernel_46032\\504452542.py:8: DtypeWarning: Columns (11,12,39) have mixed types. Specify dtype option on import or set low_memory=False.\n",
      "  data = pd.read_csv(file)\n",
      "C:\\Users\\Mao\\AppData\\Local\\Temp\\ipykernel_46032\\504452542.py:8: DtypeWarning: Columns (39,58) have mixed types. Specify dtype option on import or set low_memory=False.\n",
      "  data = pd.read_csv(file)\n",
      "C:\\Users\\Mao\\AppData\\Local\\Temp\\ipykernel_46032\\504452542.py:8: DtypeWarning: Columns (11,12,58,77) have mixed types. Specify dtype option on import or set low_memory=False.\n",
      "  data = pd.read_csv(file)\n",
      "C:\\Users\\Mao\\AppData\\Local\\Temp\\ipykernel_46032\\504452542.py:8: DtypeWarning: Columns (11,12,39,58,68,77) have mixed types. Specify dtype option on import or set low_memory=False.\n",
      "  data = pd.read_csv(file)\n",
      "C:\\Users\\Mao\\AppData\\Local\\Temp\\ipykernel_46032\\504452542.py:8: DtypeWarning: Columns (39,58,68) have mixed types. Specify dtype option on import or set low_memory=False.\n",
      "  data = pd.read_csv(file)\n",
      "C:\\Users\\Mao\\AppData\\Local\\Temp\\ipykernel_46032\\504452542.py:8: DtypeWarning: Columns (39,58,68) have mixed types. Specify dtype option on import or set low_memory=False.\n",
      "  data = pd.read_csv(file)\n",
      "C:\\Users\\Mao\\AppData\\Local\\Temp\\ipykernel_46032\\504452542.py:8: DtypeWarning: Columns (39) have mixed types. Specify dtype option on import or set low_memory=False.\n",
      "  data = pd.read_csv(file)\n",
      "C:\\Users\\Mao\\AppData\\Local\\Temp\\ipykernel_46032\\504452542.py:8: DtypeWarning: Columns (58,68) have mixed types. Specify dtype option on import or set low_memory=False.\n",
      "  data = pd.read_csv(file)\n",
      "C:\\Users\\Mao\\AppData\\Local\\Temp\\ipykernel_46032\\504452542.py:8: DtypeWarning: Columns (39,58,68) have mixed types. Specify dtype option on import or set low_memory=False.\n",
      "  data = pd.read_csv(file)\n"
     ]
    }
   ],
   "source": [
    "import pandas as pd\n",
    "import numpy as np\n",
    "import glob\n",
    "\n",
    "files = glob.glob(\"../../../sharedfiles/P Data/*.csv\")\n",
    "full_data = pd.DataFrame()\n",
    "for file in files:\n",
    "    data = pd.read_csv(file)\n",
    "    full_data = pd.concat([full_data, data])\n"
   ]
  },
  {
   "cell_type": "code",
   "execution_count": 3,
   "metadata": {},
   "outputs": [],
   "source": [
    "import preprocessor as p\n",
    "\n",
    "full_data[\"Message\"] = full_data[\"Message\"].apply(lambda x: p.clean(x))\n"
   ]
  },
  {
   "cell_type": "code",
   "execution_count": 4,
   "metadata": {},
   "outputs": [],
   "source": [
    "full_data.drop_duplicates(subset=\"Message\", keep=\"first\", inplace=True)"
   ]
  },
  {
   "cell_type": "code",
   "execution_count": 9,
   "metadata": {},
   "outputs": [
    {
     "name": "stdout",
     "output_type": "stream",
     "text": [
      "(30179, 106)\n"
     ]
    }
   ],
   "source": [
    "trump = full_data[full_data.Message.str.contains(\"trump\", case=False)]\n",
    "print(trump.shape)\n"
   ]
  },
  {
   "cell_type": "code",
   "execution_count": 10,
   "metadata": {},
   "outputs": [
    {
     "name": "stdout",
     "output_type": "stream",
     "text": [
      "(2496, 106)\n"
     ]
    }
   ],
   "source": [
    "biden = full_data[full_data.Message.str.contains(\"biden\", case=False)]\n",
    "print(biden.shape)\n"
   ]
  },
  {
   "cell_type": "code",
   "execution_count": 11,
   "metadata": {},
   "outputs": [
    {
     "name": "stdout",
     "output_type": "stream",
     "text": [
      "(17848, 106)\n"
     ]
    }
   ],
   "source": [
    "covid = full_data[full_data.Message.str.contains(\"covid\", case=False)]\n",
    "print(covid.shape)\n"
   ]
  },
  {
   "cell_type": "code",
   "execution_count": 14,
   "metadata": {},
   "outputs": [
    {
     "name": "stdout",
     "output_type": "stream",
     "text": [
      "(17236, 106)\n"
     ]
    }
   ],
   "source": [
    "illegal = full_data[full_data.Message.str.contains(\"illegal\", case=False)]\n",
    "print(illegal.shape)\n"
   ]
  },
  {
   "cell_type": "code",
   "execution_count": 16,
   "metadata": {},
   "outputs": [
    {
     "data": {
      "text/plain": [
       "Index(['UniversalMessageId', 'SocialNetwork', 'SenderUserId',\n",
       "       'SenderScreenName', 'SenderListedName', 'SenderProfileImgUrl',\n",
       "       'SenderProfileLink', 'Sender Followers Count', 'SenderInfluencerScore',\n",
       "       'SenderAge',\n",
       "       ...\n",
       "       'trustFedStats_query_distance', 'unauthorizedUse_query_distance',\n",
       "       'message2_query_distance', 'documentation_query_distance',\n",
       "       'message3_query_distance', 'usedAgainst_query_distance',\n",
       "       'encourage_query_distance', 'shareData_query_distance',\n",
       "       'answer1_query_distance', 'answer1_distance'],\n",
       "      dtype='object', length=106)"
      ]
     },
     "execution_count": 16,
     "metadata": {},
     "output_type": "execute_result"
    }
   ],
   "source": [
    "trump.columns"
   ]
  },
  {
   "cell_type": "code",
   "execution_count": 17,
   "metadata": {},
   "outputs": [],
   "source": [
    "trump = trump[[\"UniversalMessageId\", \"Message\", \"Day\"]]\n",
    "trump.to_csv(\"../data/trump.csv\", index=False)\n"
   ]
  },
  {
   "cell_type": "code",
   "execution_count": 18,
   "metadata": {},
   "outputs": [],
   "source": [
    "trump_sample = trump.sample(5000)\n",
    "trump_sample.to_csv(\"../data/trump_sample.csv\", index=False)\n"
   ]
  },
  {
   "cell_type": "code",
   "execution_count": 20,
   "metadata": {},
   "outputs": [
    {
     "data": {
      "text/html": [
       "<div>\n",
       "<style scoped>\n",
       "    .dataframe tbody tr th:only-of-type {\n",
       "        vertical-align: middle;\n",
       "    }\n",
       "\n",
       "    .dataframe tbody tr th {\n",
       "        vertical-align: top;\n",
       "    }\n",
       "\n",
       "    .dataframe thead th {\n",
       "        text-align: right;\n",
       "    }\n",
       "</style>\n",
       "<table border=\"1\" class=\"dataframe\">\n",
       "  <thead>\n",
       "    <tr style=\"text-align: right;\">\n",
       "      <th></th>\n",
       "      <th>UniversalMessageId</th>\n",
       "      <th>Message</th>\n",
       "      <th>Day</th>\n",
       "    </tr>\n",
       "  </thead>\n",
       "  <tbody>\n",
       "    <tr>\n",
       "      <th>677</th>\n",
       "      <td>TWITTER_8_1212585658914627584</td>\n",
       "      <td>Biden says that he became popular at the pool ...</td>\n",
       "      <td>2020-01-02</td>\n",
       "    </tr>\n",
       "    <tr>\n",
       "      <th>7580</th>\n",
       "      <td>TWITTER_8_1212942726305591296</td>\n",
       "      <td>The idea of a Biden nomination and the impossi...</td>\n",
       "      <td>2020-01-02</td>\n",
       "    </tr>\n",
       "    <tr>\n",
       "      <th>160</th>\n",
       "      <td>TWITTER_7_1213310447002230784</td>\n",
       "      <td>is best chance at Texas in a generation, in a ...</td>\n",
       "      <td>2020-01-04</td>\n",
       "    </tr>\n",
       "    <tr>\n",
       "      <th>7471</th>\n",
       "      <td>TWITTER_4_1214196781262589952</td>\n",
       "      <td>years ago VP Biden was the VP, you were not an...</td>\n",
       "      <td>2020-01-06</td>\n",
       "    </tr>\n",
       "    <tr>\n",
       "      <th>300</th>\n",
       "      <td>TWITTER_7_1214763794053914625</td>\n",
       "      <td>He won't be. The democratic national committee...</td>\n",
       "      <td>2020-01-08</td>\n",
       "    </tr>\n",
       "    <tr>\n",
       "      <th>...</th>\n",
       "      <td>...</td>\n",
       "      <td>...</td>\n",
       "      <td>...</td>\n",
       "    </tr>\n",
       "    <tr>\n",
       "      <th>17468</th>\n",
       "      <td>TWITTER_8_1305702061313527808</td>\n",
       "      <td>Judge chastises government for not producing c...</td>\n",
       "      <td>2020-09-14</td>\n",
       "    </tr>\n",
       "    <tr>\n",
       "      <th>19319</th>\n",
       "      <td>TWITTER_2_1305671174513459200</td>\n",
       "      <td>President Biden should declare the census null...</td>\n",
       "      <td>2020-09-14</td>\n",
       "    </tr>\n",
       "    <tr>\n",
       "      <th>19356</th>\n",
       "      <td>TWITTER_2_1305670657598869506</td>\n",
       "      <td>We have to do a census reset after Biden is el...</td>\n",
       "      <td>2020-09-14</td>\n",
       "    </tr>\n",
       "    <tr>\n",
       "      <th>20389</th>\n",
       "      <td>TWITTER_7_1305656946108674050</td>\n",
       "      <td>gonna be great when joe biden wins and very re...</td>\n",
       "      <td>2020-09-14</td>\n",
       "    </tr>\n",
       "    <tr>\n",
       "      <th>21262</th>\n",
       "      <td>TWITTER_7_1305644758086213632</td>\n",
       "      <td>I really don't like the way Biden has handled ...</td>\n",
       "      <td>2020-09-14</td>\n",
       "    </tr>\n",
       "  </tbody>\n",
       "</table>\n",
       "<p>2496 rows × 3 columns</p>\n",
       "</div>"
      ],
      "text/plain": [
       "                  UniversalMessageId  \\\n",
       "677    TWITTER_8_1212585658914627584   \n",
       "7580   TWITTER_8_1212942726305591296   \n",
       "160    TWITTER_7_1213310447002230784   \n",
       "7471   TWITTER_4_1214196781262589952   \n",
       "300    TWITTER_7_1214763794053914625   \n",
       "...                              ...   \n",
       "17468  TWITTER_8_1305702061313527808   \n",
       "19319  TWITTER_2_1305671174513459200   \n",
       "19356  TWITTER_2_1305670657598869506   \n",
       "20389  TWITTER_7_1305656946108674050   \n",
       "21262  TWITTER_7_1305644758086213632   \n",
       "\n",
       "                                                 Message         Day  \n",
       "677    Biden says that he became popular at the pool ...  2020-01-02  \n",
       "7580   The idea of a Biden nomination and the impossi...  2020-01-02  \n",
       "160    is best chance at Texas in a generation, in a ...  2020-01-04  \n",
       "7471   years ago VP Biden was the VP, you were not an...  2020-01-06  \n",
       "300    He won't be. The democratic national committee...  2020-01-08  \n",
       "...                                                  ...         ...  \n",
       "17468  Judge chastises government for not producing c...  2020-09-14  \n",
       "19319  President Biden should declare the census null...  2020-09-14  \n",
       "19356  We have to do a census reset after Biden is el...  2020-09-14  \n",
       "20389  gonna be great when joe biden wins and very re...  2020-09-14  \n",
       "21262  I really don't like the way Biden has handled ...  2020-09-14  \n",
       "\n",
       "[2496 rows x 3 columns]"
      ]
     },
     "execution_count": 20,
     "metadata": {},
     "output_type": "execute_result"
    }
   ],
   "source": [
    "biden"
   ]
  },
  {
   "cell_type": "code",
   "execution_count": 19,
   "metadata": {},
   "outputs": [
    {
     "ename": "ValueError",
     "evalue": "Cannot take a larger sample than population when 'replace=False'",
     "output_type": "error",
     "traceback": [
      "\u001b[1;31m---------------------------------------------------------------------------\u001b[0m",
      "\u001b[1;31mValueError\u001b[0m                                Traceback (most recent call last)",
      "Cell \u001b[1;32mIn[19], line 3\u001b[0m\n\u001b[0;32m      1\u001b[0m biden \u001b[38;5;241m=\u001b[39m biden[[\u001b[38;5;124m\"\u001b[39m\u001b[38;5;124mUniversalMessageId\u001b[39m\u001b[38;5;124m\"\u001b[39m, \u001b[38;5;124m\"\u001b[39m\u001b[38;5;124mMessage\u001b[39m\u001b[38;5;124m\"\u001b[39m, \u001b[38;5;124m\"\u001b[39m\u001b[38;5;124mDay\u001b[39m\u001b[38;5;124m\"\u001b[39m]]\n\u001b[0;32m      2\u001b[0m biden\u001b[38;5;241m.\u001b[39mto_csv(\u001b[38;5;124m\"\u001b[39m\u001b[38;5;124m../data/biden.csv\u001b[39m\u001b[38;5;124m\"\u001b[39m, index\u001b[38;5;241m=\u001b[39m\u001b[38;5;28;01mFalse\u001b[39;00m)\n\u001b[1;32m----> 3\u001b[0m biden_sample \u001b[38;5;241m=\u001b[39m \u001b[43mbiden\u001b[49m\u001b[38;5;241;43m.\u001b[39;49m\u001b[43msample\u001b[49m\u001b[43m(\u001b[49m\u001b[38;5;241;43m5000\u001b[39;49m\u001b[43m)\u001b[49m\n\u001b[0;32m      4\u001b[0m biden_sample\u001b[38;5;241m.\u001b[39mto_csv(\u001b[38;5;124m\"\u001b[39m\u001b[38;5;124m../data/biden_sample.csv\u001b[39m\u001b[38;5;124m\"\u001b[39m, index\u001b[38;5;241m=\u001b[39m\u001b[38;5;28;01mFalse\u001b[39;00m)\n",
      "File \u001b[1;32mc:\\Users\\Mao\\miniconda3\\Lib\\site-packages\\pandas\\core\\generic.py:6112\u001b[0m, in \u001b[0;36mNDFrame.sample\u001b[1;34m(self, n, frac, replace, weights, random_state, axis, ignore_index)\u001b[0m\n\u001b[0;32m   6109\u001b[0m \u001b[38;5;28;01mif\u001b[39;00m weights \u001b[38;5;129;01mis\u001b[39;00m \u001b[38;5;129;01mnot\u001b[39;00m \u001b[38;5;28;01mNone\u001b[39;00m:\n\u001b[0;32m   6110\u001b[0m     weights \u001b[38;5;241m=\u001b[39m sample\u001b[38;5;241m.\u001b[39mpreprocess_weights(\u001b[38;5;28mself\u001b[39m, weights, axis)\n\u001b[1;32m-> 6112\u001b[0m sampled_indices \u001b[38;5;241m=\u001b[39m \u001b[43msample\u001b[49m\u001b[38;5;241;43m.\u001b[39;49m\u001b[43msample\u001b[49m\u001b[43m(\u001b[49m\u001b[43mobj_len\u001b[49m\u001b[43m,\u001b[49m\u001b[43m \u001b[49m\u001b[43msize\u001b[49m\u001b[43m,\u001b[49m\u001b[43m \u001b[49m\u001b[43mreplace\u001b[49m\u001b[43m,\u001b[49m\u001b[43m \u001b[49m\u001b[43mweights\u001b[49m\u001b[43m,\u001b[49m\u001b[43m \u001b[49m\u001b[43mrs\u001b[49m\u001b[43m)\u001b[49m\n\u001b[0;32m   6113\u001b[0m result \u001b[38;5;241m=\u001b[39m \u001b[38;5;28mself\u001b[39m\u001b[38;5;241m.\u001b[39mtake(sampled_indices, axis\u001b[38;5;241m=\u001b[39maxis)\n\u001b[0;32m   6115\u001b[0m \u001b[38;5;28;01mif\u001b[39;00m ignore_index:\n",
      "File \u001b[1;32mc:\\Users\\Mao\\miniconda3\\Lib\\site-packages\\pandas\\core\\sample.py:152\u001b[0m, in \u001b[0;36msample\u001b[1;34m(obj_len, size, replace, weights, random_state)\u001b[0m\n\u001b[0;32m    149\u001b[0m     \u001b[38;5;28;01melse\u001b[39;00m:\n\u001b[0;32m    150\u001b[0m         \u001b[38;5;28;01mraise\u001b[39;00m \u001b[38;5;167;01mValueError\u001b[39;00m(\u001b[38;5;124m\"\u001b[39m\u001b[38;5;124mInvalid weights: weights sum to zero\u001b[39m\u001b[38;5;124m\"\u001b[39m)\n\u001b[1;32m--> 152\u001b[0m \u001b[38;5;28;01mreturn\u001b[39;00m \u001b[43mrandom_state\u001b[49m\u001b[38;5;241;43m.\u001b[39;49m\u001b[43mchoice\u001b[49m\u001b[43m(\u001b[49m\u001b[43mobj_len\u001b[49m\u001b[43m,\u001b[49m\u001b[43m \u001b[49m\u001b[43msize\u001b[49m\u001b[38;5;241;43m=\u001b[39;49m\u001b[43msize\u001b[49m\u001b[43m,\u001b[49m\u001b[43m \u001b[49m\u001b[43mreplace\u001b[49m\u001b[38;5;241;43m=\u001b[39;49m\u001b[43mreplace\u001b[49m\u001b[43m,\u001b[49m\u001b[43m \u001b[49m\u001b[43mp\u001b[49m\u001b[38;5;241;43m=\u001b[39;49m\u001b[43mweights\u001b[49m\u001b[43m)\u001b[49m\u001b[38;5;241m.\u001b[39mastype(\n\u001b[0;32m    153\u001b[0m     np\u001b[38;5;241m.\u001b[39mintp, copy\u001b[38;5;241m=\u001b[39m\u001b[38;5;28;01mFalse\u001b[39;00m\n\u001b[0;32m    154\u001b[0m )\n",
      "File \u001b[1;32mnumpy\\\\random\\\\mtrand.pyx:1001\u001b[0m, in \u001b[0;36mnumpy.random.mtrand.RandomState.choice\u001b[1;34m()\u001b[0m\n",
      "\u001b[1;31mValueError\u001b[0m: Cannot take a larger sample than population when 'replace=False'"
     ]
    }
   ],
   "source": [
    "biden = biden[[\"UniversalMessageId\", \"Message\", \"Day\"]]\n",
    "biden.to_csv(\"../data/biden.csv\", index=False)\n",
    "biden_sample = biden.sample(5000)\n",
    "biden_sample.to_csv(\"../data/biden_sample.csv\", index=False)\n"
   ]
  },
  {
   "cell_type": "code",
   "execution_count": 21,
   "metadata": {},
   "outputs": [],
   "source": [
    "illegal = illegal[[\"UniversalMessageId\", \"Message\", \"Day\"]]\n",
    "illegal.to_csv(\"../data/illegal.csv\", index=False)\n",
    "illegal_sample = illegal.sample(5000)\n",
    "illegal_sample.to_csv(\"../data/illegal_sample.csv\", index=False)\n"
   ]
  },
  {
   "cell_type": "code",
   "execution_count": 22,
   "metadata": {},
   "outputs": [],
   "source": [
    "covid = covid[[\"UniversalMessageId\", \"Message\", \"Day\"]]\n",
    "covid.to_csv(\"../data/covid.csv\", index=False)\n",
    "covid_sample = covid.sample(5000)\n",
    "covid_sample.to_csv(\"../data/covid_sample.csv\", index=False)\n"
   ]
  },
  {
   "cell_type": "markdown",
   "metadata": {},
   "source": [
    "# Sanity check"
   ]
  },
  {
   "cell_type": "code",
   "execution_count": 1,
   "metadata": {},
   "outputs": [
    {
     "name": "stderr",
     "output_type": "stream",
     "text": [
      "/home/maolee/.local/lib/python3.10/site-packages/huggingface_hub/file_download.py:1132: FutureWarning: `resume_download` is deprecated and will be removed in version 1.0.0. Downloads always resume when possible. If you want to force a new download, use `force_download=True`.\n",
      "  warnings.warn(\n"
     ]
    }
   ],
   "source": [
    "# pre-compute embeddings after user uploaded their data\n",
    "from sentence_transformers import SentenceTransformer\n",
    "\n",
    "model = SentenceTransformer(\"BAAI/bge-base-en-v1.5\", device=\"cuda\")\n"
   ]
  },
  {
   "cell_type": "code",
   "execution_count": 2,
   "metadata": {},
   "outputs": [
    {
     "ename": "NameError",
     "evalue": "name 'trump' is not defined",
     "output_type": "error",
     "traceback": [
      "\u001b[0;31m---------------------------------------------------------------------------\u001b[0m",
      "\u001b[0;31mNameError\u001b[0m                                 Traceback (most recent call last)",
      "Cell \u001b[0;32mIn[2], line 2\u001b[0m\n\u001b[1;32m      1\u001b[0m \u001b[38;5;66;03m# encode the raw text\u001b[39;00m\n\u001b[0;32m----> 2\u001b[0m trump_embedding \u001b[38;5;241m=\u001b[39m model\u001b[38;5;241m.\u001b[39mencode(\u001b[43mtrump\u001b[49m\u001b[38;5;241m.\u001b[39mMessage\u001b[38;5;241m.\u001b[39mtolist(), show_progress_bar\u001b[38;5;241m=\u001b[39m\u001b[38;5;28;01mTrue\u001b[39;00m)\n\u001b[1;32m      3\u001b[0m \u001b[38;5;66;03m# read the summary data\u001b[39;00m\n\u001b[1;32m      4\u001b[0m \u001b[38;5;28;01mimport\u001b[39;00m \u001b[38;5;21;01mre\u001b[39;00m\n",
      "\u001b[0;31mNameError\u001b[0m: name 'trump' is not defined"
     ]
    }
   ],
   "source": [
    "# encode the raw text\n",
    "trump_embedding = model.encode(trump.Message.tolist(), show_progress_bar=True)\n",
    "# read the summary data\n",
    "import re\n",
    "\n",
    "trump_summary = pd.read_csv(\"../data/trump_sample_summaries.csv\")\n",
    "# clean the summary data\n",
    "pattern_end = re.compile(r\"<\\|eot_id\\|>\")\n",
    "pattern_header = re.compile(r\"^.*\\|>\")\n",
    "pattern_paragraph = re.compile(r\"\\s*\\([^)]*\\)\")\n",
    "trump_summary[\"summary\"] = (\n",
    "    trump_summary[\"summary\"]\n",
    "    .apply(lambda x: pattern_end.sub(\"\", x))\n",
    "    .apply(lambda x: pattern_header.sub(\"\", x))\n",
    "    .apply(lambda x: pattern_paragraph.sub(\"\", x))\n",
    ")\n",
    "# encode the summary\n",
    "trump_summary_embedding = model.encode(\n",
    "    trump_summary.summary.tolist(), show_progress_bar=True\n",
    ")\n",
    "\n",
    "# calculate the covariance matrix\n",
    "cov_trump_matrix = np.cov(trump_embedding.T)\n",
    "cov_trump_summary_matrix = np.cov(trump_summary_embedding.T)\n",
    "\n",
    "# eigen decomposition\n",
    "eigenvalues_trump, eigenvectors_trump = np.linalg.eig(cov_trump_matrix)\n",
    "eigenvalues_trump_summary, eigenvectors_trump_summary = np.linalg.eig(\n",
    "    cov_trump_summary_matrix\n",
    ")\n",
    "\n",
    "# sort the eigenvalues\n",
    "idx_trump = eigenvalues_trump.argsort()[::-1]\n",
    "eigenvalues_trump = eigenvalues_trump[idx_trump]\n",
    "eigenvectors_trump = eigenvectors_trump[:, idx_trump]\n",
    "\n",
    "idx_trump_summary = eigenvalues_trump_summary.argsort()[::-1]\n",
    "eigenvalues_trump_summary = eigenvalues_trump_summary[idx_trump_summary]\n",
    "eigenvectors_trump_summary = eigenvectors_trump_summary[:, idx_trump_summary]\n"
   ]
  },
  {
   "cell_type": "code",
   "execution_count": null,
   "metadata": {},
   "outputs": [],
   "source": [
    "import matplotlib.pyplot as plt\n",
    "import seaborn as sns\n",
    "\n",
    "# do the same to trump\n",
    "results = np.array(\n",
    "    [\n",
    "        np.dot(\n",
    "            np.dot(eigenvectors_trump[:, i].T, cov_trump_summary_matrix),\n",
    "            eigenvectors_trump[:, i],\n",
    "        )\n",
    "        for i in range(eigenvectors_trump.shape[1])\n",
    "    ]\n",
    ")\n",
    "\n",
    "plt.figure(dpi=100)\n",
    "sns.scatterplot(results[:20] / eigenvalues_trump[:20])\n"
   ]
  },
  {
   "cell_type": "code",
   "execution_count": 59,
   "metadata": {},
   "outputs": [
    {
     "data": {
      "application/vnd.jupyter.widget-view+json": {
       "model_id": "c3c2723dec7e40ef97ca9bac1cb3cac0",
       "version_major": 2,
       "version_minor": 0
      },
      "text/plain": [
       "Batches:   0%|          | 0/539 [00:00<?, ?it/s]"
      ]
     },
     "metadata": {},
     "output_type": "display_data"
    },
    {
     "data": {
      "application/vnd.jupyter.widget-view+json": {
       "model_id": "8b75ec8067554627b622000b9491e381",
       "version_major": 2,
       "version_minor": 0
      },
      "text/plain": [
       "Batches:   0%|          | 0/4 [00:00<?, ?it/s]"
      ]
     },
     "metadata": {},
     "output_type": "display_data"
    }
   ],
   "source": [
    "# encode the raw text\n",
    "illegal_embedding = model.encode(illegal.Message.tolist(), show_progress_bar=True)\n",
    "# read the summary data\n",
    "import re\n",
    "\n",
    "illegal_summary = pd.read_csv(\"../data/illegal_sample_summaries.csv\")\n",
    "# clean the summary data\n",
    "\n",
    "pattern_paragraph = re.compile(r\"\\s*\\([^)]*\\)\")\n",
    "illegal_summary[\"summary\"] = illegal_summary[\"summary\"].apply(\n",
    "    lambda x: pattern_paragraph.sub(\"\", x)\n",
    ")\n",
    "# encode the summary\n",
    "illegal_summary_embedding = model.encode(\n",
    "    illegal_summary.summary.tolist(), show_progress_bar=True\n",
    ")\n",
    "\n",
    "# calculate the covariance matrix\n",
    "cov_illegal_matrix = np.cov(illegal_embedding.T)\n",
    "cov_illegal_summary_matrix = np.cov(illegal_summary_embedding.T)\n",
    "\n",
    "# eigen decomposition\n",
    "eigenvalues_illegal, eigenvectors_illegal = np.linalg.eig(cov_illegal_matrix)\n",
    "eigenvalues_illegal_summary, eigenvectors_illegal_summary = np.linalg.eig(\n",
    "    cov_illegal_summary_matrix\n",
    ")\n",
    "\n",
    "# sort the eigenvalues\n",
    "idx_illegal = eigenvalues_illegal.argsort()[::-1]\n",
    "eigenvalues_illegal = eigenvalues_illegal[idx_illegal]\n",
    "eigenvectors_illegal = eigenvectors_illegal[:, idx_illegal]\n",
    "\n",
    "idx_illegal_summary = eigenvalues_illegal_summary.argsort()[::-1]\n",
    "eigenvalues_illegal_summary = eigenvalues_illegal_summary[idx_illegal_summary]\n",
    "eigenvectors_illegal_summary = eigenvectors_illegal_summary[:, idx_illegal_summary]\n"
   ]
  },
  {
   "cell_type": "code",
   "execution_count": 60,
   "metadata": {},
   "outputs": [
    {
     "data": {
      "text/plain": [
       "<Axes: >"
      ]
     },
     "execution_count": 60,
     "metadata": {},
     "output_type": "execute_result"
    },
    {
     "data": {
      "image/png": "[encoded data removed]",
      "text/plain": [
       "<Figure size 640x480 with 1 Axes>"
      ]
     },
     "metadata": {},
     "output_type": "display_data"
    }
   ],
   "source": [
    "import matplotlib.pyplot as plt\n",
    "import seaborn as sns\n",
    "\n",
    "# do the same to illegal\n",
    "results = np.array(\n",
    "    [\n",
    "        np.dot(\n",
    "            np.dot(eigenvectors_illegal[:, i].T, cov_illegal_summary_matrix),\n",
    "            eigenvectors_illegal[:, i],\n",
    "        )\n",
    "        for i in range(eigenvectors_illegal.shape[1])\n",
    "    ]\n",
    ")\n",
    "\n",
    "plt.figure(dpi=100)\n",
    "sns.scatterplot(results[:200] / eigenvalues_illegal[:200])\n"
   ]
  },
  {
   "cell_type": "code",
   "execution_count": 61,
   "metadata": {},
   "outputs": [
    {
     "data": {
      "application/vnd.jupyter.widget-view+json": {
       "model_id": "a6e7fa1a98ec4eba916582100711ce26",
       "version_major": 2,
       "version_minor": 0
      },
      "text/plain": [
       "Batches:   0%|          | 0/558 [00:00<?, ?it/s]"
      ]
     },
     "metadata": {},
     "output_type": "display_data"
    },
    {
     "data": {
      "application/vnd.jupyter.widget-view+json": {
       "model_id": "e82e5a90d5bc4262b72312d0f156a342",
       "version_major": 2,
       "version_minor": 0
      },
      "text/plain": [
       "Batches:   0%|          | 0/4 [00:00<?, ?it/s]"
      ]
     },
     "metadata": {},
     "output_type": "display_data"
    },
    {
     "data": {
      "text/plain": [
       "<Axes: >"
      ]
     },
     "execution_count": 61,
     "metadata": {},
     "output_type": "execute_result"
    },
    {
     "data": {
      "image/png": "[encoded data removed]",
      "text/plain": [
       "<Figure size 640x480 with 1 Axes>"
      ]
     },
     "metadata": {},
     "output_type": "display_data"
    }
   ],
   "source": [
    "# encode the raw text\n",
    "covid_embedding = model.encode(covid.Message.tolist(), show_progress_bar=True)\n",
    "# read the summary data\n",
    "import re\n",
    "\n",
    "covid_summary = pd.read_csv(\"../data/covid_sample_summaries.csv\")\n",
    "# clean the summary data\n",
    "\n",
    "pattern_paragraph = re.compile(r\"\\s*\\([^)]*\\)\")\n",
    "covid_summary[\"summary\"] = covid_summary[\"summary\"].apply(\n",
    "    lambda x: pattern_paragraph.sub(\"\", x)\n",
    ")\n",
    "# encode the summary\n",
    "covid_summary_embedding = model.encode(\n",
    "    covid_summary.summary.tolist(), show_progress_bar=True\n",
    ")\n",
    "\n",
    "# calculate the covariance matrix\n",
    "cov_covid_matrix = np.cov(covid_embedding.T)\n",
    "cov_covid_summary_matrix = np.cov(covid_summary_embedding.T)\n",
    "\n",
    "# eigen decomposition\n",
    "eigenvalues_covid, eigenvectors_covid = np.linalg.eig(cov_covid_matrix)\n",
    "eigenvalues_covid_summary, eigenvectors_covid_summary = np.linalg.eig(\n",
    "    cov_covid_summary_matrix\n",
    ")\n",
    "\n",
    "# sort the eigenvalues\n",
    "idx_covid = eigenvalues_covid.argsort()[::-1]\n",
    "eigenvalues_covid = eigenvalues_covid[idx_covid]\n",
    "eigenvectors_covid = eigenvectors_covid[:, idx_covid]\n",
    "\n",
    "idx_covid_summary = eigenvalues_covid_summary.argsort()[::-1]\n",
    "eigenvalues_covid_summary = eigenvalues_covid_summary[idx_covid_summary]\n",
    "eigenvectors_covid_summary = eigenvectors_covid_summary[:, idx_covid_summary]\n",
    "import matplotlib.pyplot as plt\n",
    "import seaborn as sns\n",
    "\n",
    "# do the same to covid\n",
    "results = np.array(\n",
    "    [\n",
    "        np.dot(\n",
    "            np.dot(eigenvectors_covid[:, i].T, cov_covid_summary_matrix),\n",
    "            eigenvectors_covid[:, i],\n",
    "        )\n",
    "        for i in range(eigenvectors_covid.shape[1])\n",
    "    ]\n",
    ")\n",
    "\n",
    "plt.figure(dpi=100)\n",
    "sns.scatterplot(results[:200] / eigenvalues_covid[:200])\n"
   ]
  },
  {
   "cell_type": "code",
   "execution_count": null,
   "metadata": {},
   "outputs": [],
   "source": []
  }
 ],
 "metadata": {
  "kernelspec": {
   "display_name": "Python 3 (ipykernel)",
   "language": "python",
   "name": "python3"
  },
  "language_info": {
   "codemirror_mode": {
    "name": "ipython",
    "version": 3
   },
   "file_extension": ".py",
   "mimetype": "text/x-python",
   "name": "python",
   "nbconvert_exporter": "python",
   "pygments_lexer": "ipython3",
   "version": "3.10.9"
  }
 },
 "nbformat": 4,
 "nbformat_minor": 2
}
