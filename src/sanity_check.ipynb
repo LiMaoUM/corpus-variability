{
 "cells": [
  {
   "cell_type": "code",
   "execution_count": 1,
   "metadata": {},
   "outputs": [
    {
     "name": "stderr",
     "output_type": "stream",
     "text": [
      "C:\\Users\\Mao\\AppData\\Local\\Temp\\ipykernel_46032\\504452542.py:8: DtypeWarning: Columns (68) have mixed types. Specify dtype option on import or set low_memory=False.\n",
      "  data = pd.read_csv(file)\n",
      "C:\\Users\\Mao\\AppData\\Local\\Temp\\ipykernel_46032\\504452542.py:8: DtypeWarning: Columns (45,50,51,60) have mixed types. Specify dtype option on import or set low_memory=False.\n",
      "  data = pd.read_csv(file)\n",
      "C:\\Users\\Mao\\AppData\\Local\\Temp\\ipykernel_46032\\504452542.py:8: DtypeWarning: Columns (47,48) have mixed types. Specify dtype option on import or set low_memory=False.\n",
      "  data = pd.read_csv(file)\n",
      "C:\\Users\\Mao\\AppData\\Local\\Temp\\ipykernel_46032\\504452542.py:8: DtypeWarning: Columns (47,48) have mixed types. Specify dtype option on import or set low_memory=False.\n",
      "  data = pd.read_csv(file)\n",
      "C:\\Users\\Mao\\AppData\\Local\\Temp\\ipykernel_46032\\504452542.py:8: DtypeWarning: Columns (68) have mixed types. Specify dtype option on import or set low_memory=False.\n",
      "  data = pd.read_csv(file)\n",
      "C:\\Users\\Mao\\AppData\\Local\\Temp\\ipykernel_46032\\504452542.py:8: DtypeWarning: Columns (43,47,48) have mixed types. Specify dtype option on import or set low_memory=False.\n",
      "  data = pd.read_csv(file)\n",
      "C:\\Users\\Mao\\AppData\\Local\\Temp\\ipykernel_46032\\504452542.py:8: DtypeWarning: Columns (47,48) have mixed types. Specify dtype option on import or set low_memory=False.\n",
      "  data = pd.read_csv(file)\n",
      "C:\\Users\\Mao\\AppData\\Local\\Temp\\ipykernel_46032\\504452542.py:8: DtypeWarning: Columns (65) have mixed types. Specify dtype option on import or set low_memory=False.\n",
      "  data = pd.read_csv(file)\n",
      "C:\\Users\\Mao\\AppData\\Local\\Temp\\ipykernel_46032\\504452542.py:8: DtypeWarning: Columns (65) have mixed types. Specify dtype option on import or set low_memory=False.\n",
      "  data = pd.read_csv(file)\n",
      "C:\\Users\\Mao\\AppData\\Local\\Temp\\ipykernel_46032\\504452542.py:8: DtypeWarning: Columns (27,36,45,46,50,51,60,65,66,77) have mixed types. Specify dtype option on import or set low_memory=False.\n",
      "  data = pd.read_csv(file)\n",
      "C:\\Users\\Mao\\AppData\\Local\\Temp\\ipykernel_46032\\504452542.py:8: DtypeWarning: Columns (47,48) have mixed types. Specify dtype option on import or set low_memory=False.\n",
      "  data = pd.read_csv(file)\n",
      "C:\\Users\\Mao\\AppData\\Local\\Temp\\ipykernel_46032\\504452542.py:8: DtypeWarning: Columns (27,47,48,60,65,66,77) have mixed types. Specify dtype option on import or set low_memory=False.\n",
      "  data = pd.read_csv(file)\n",
      "C:\\Users\\Mao\\AppData\\Local\\Temp\\ipykernel_46032\\504452542.py:8: DtypeWarning: Columns (65) have mixed types. Specify dtype option on import or set low_memory=False.\n",
      "  data = pd.read_csv(file)\n",
      "C:\\Users\\Mao\\AppData\\Local\\Temp\\ipykernel_46032\\504452542.py:8: DtypeWarning: Columns (43,47,48) have mixed types. Specify dtype option on import or set low_memory=False.\n",
      "  data = pd.read_csv(file)\n",
      "C:\\Users\\Mao\\AppData\\Local\\Temp\\ipykernel_46032\\504452542.py:8: DtypeWarning: Columns (43,47,48) have mixed types. Specify dtype option on import or set low_memory=False.\n",
      "  data = pd.read_csv(file)\n",
      "C:\\Users\\Mao\\AppData\\Local\\Temp\\ipykernel_46032\\504452542.py:8: DtypeWarning: Columns (47,48) have mixed types. Specify dtype option on import or set low_memory=False.\n",
      "  data = pd.read_csv(file)\n",
      "C:\\Users\\Mao\\AppData\\Local\\Temp\\ipykernel_46032\\504452542.py:8: DtypeWarning: Columns (39) have mixed types. Specify dtype option on import or set low_memory=False.\n",
      "  data = pd.read_csv(file)\n",
      "C:\\Users\\Mao\\AppData\\Local\\Temp\\ipykernel_46032\\504452542.py:8: DtypeWarning: Columns (39) have mixed types. Specify dtype option on import or set low_memory=False.\n",
      "  data = pd.read_csv(file)\n",
      "C:\\Users\\Mao\\AppData\\Local\\Temp\\ipykernel_46032\\504452542.py:8: DtypeWarning: Columns (43,48) have mixed types. Specify dtype option on import or set low_memory=False.\n",
      "  data = pd.read_csv(file)\n",
      "C:\\Users\\Mao\\AppData\\Local\\Temp\\ipykernel_46032\\504452542.py:8: DtypeWarning: Columns (39,58,59,64) have mixed types. Specify dtype option on import or set low_memory=False.\n",
      "  data = pd.read_csv(file)\n",
      "C:\\Users\\Mao\\AppData\\Local\\Temp\\ipykernel_46032\\504452542.py:8: DtypeWarning: Columns (28,29,39,64) have mixed types. Specify dtype option on import or set low_memory=False.\n",
      "  data = pd.read_csv(file)\n",
      "C:\\Users\\Mao\\AppData\\Local\\Temp\\ipykernel_46032\\504452542.py:8: DtypeWarning: Columns (55,58,59,64) have mixed types. Specify dtype option on import or set low_memory=False.\n",
      "  data = pd.read_csv(file)\n",
      "C:\\Users\\Mao\\AppData\\Local\\Temp\\ipykernel_46032\\504452542.py:8: DtypeWarning: Columns (28,29,39,48,58,59,64,68) have mixed types. Specify dtype option on import or set low_memory=False.\n",
      "  data = pd.read_csv(file)\n",
      "C:\\Users\\Mao\\AppData\\Local\\Temp\\ipykernel_46032\\504452542.py:8: DtypeWarning: Columns (58,59,68) have mixed types. Specify dtype option on import or set low_memory=False.\n",
      "  data = pd.read_csv(file)\n",
      "C:\\Users\\Mao\\AppData\\Local\\Temp\\ipykernel_46032\\504452542.py:8: DtypeWarning: Columns (47,48,68) have mixed types. Specify dtype option on import or set low_memory=False.\n",
      "  data = pd.read_csv(file)\n",
      "C:\\Users\\Mao\\AppData\\Local\\Temp\\ipykernel_46032\\504452542.py:8: DtypeWarning: Columns (47,48) have mixed types. Specify dtype option on import or set low_memory=False.\n",
      "  data = pd.read_csv(file)\n",
      "C:\\Users\\Mao\\AppData\\Local\\Temp\\ipykernel_46032\\504452542.py:8: DtypeWarning: Columns (39,43,47,48,55,58,59,64,65) have mixed types. Specify dtype option on import or set low_memory=False.\n",
      "  data = pd.read_csv(file)\n",
      "C:\\Users\\Mao\\AppData\\Local\\Temp\\ipykernel_46032\\504452542.py:8: DtypeWarning: Columns (39,43,55,58,59) have mixed types. Specify dtype option on import or set low_memory=False.\n",
      "  data = pd.read_csv(file)\n",
      "C:\\Users\\Mao\\AppData\\Local\\Temp\\ipykernel_46032\\504452542.py:8: DtypeWarning: Columns (28,29,48,58,59,64) have mixed types. Specify dtype option on import or set low_memory=False.\n",
      "  data = pd.read_csv(file)\n",
      "C:\\Users\\Mao\\AppData\\Local\\Temp\\ipykernel_46032\\504452542.py:8: DtypeWarning: Columns (28,29,39,43,47,48,58,59,64,65) have mixed types. Specify dtype option on import or set low_memory=False.\n",
      "  data = pd.read_csv(file)\n",
      "C:\\Users\\Mao\\AppData\\Local\\Temp\\ipykernel_46032\\504452542.py:8: DtypeWarning: Columns (28,29,39,47,48,68) have mixed types. Specify dtype option on import or set low_memory=False.\n",
      "  data = pd.read_csv(file)\n",
      "C:\\Users\\Mao\\AppData\\Local\\Temp\\ipykernel_46032\\504452542.py:8: DtypeWarning: Columns (28,29) have mixed types. Specify dtype option on import or set low_memory=False.\n",
      "  data = pd.read_csv(file)\n",
      "C:\\Users\\Mao\\AppData\\Local\\Temp\\ipykernel_46032\\504452542.py:8: DtypeWarning: Columns (43,47,48,58) have mixed types. Specify dtype option on import or set low_memory=False.\n",
      "  data = pd.read_csv(file)\n",
      "C:\\Users\\Mao\\AppData\\Local\\Temp\\ipykernel_46032\\504452542.py:8: DtypeWarning: Columns (39) have mixed types. Specify dtype option on import or set low_memory=False.\n",
      "  data = pd.read_csv(file)\n",
      "C:\\Users\\Mao\\AppData\\Local\\Temp\\ipykernel_46032\\504452542.py:8: DtypeWarning: Columns (28,29,39,43,47,48) have mixed types. Specify dtype option on import or set low_memory=False.\n",
      "  data = pd.read_csv(file)\n",
      "C:\\Users\\Mao\\AppData\\Local\\Temp\\ipykernel_46032\\504452542.py:8: DtypeWarning: Columns (39,47,48) have mixed types. Specify dtype option on import or set low_memory=False.\n",
      "  data = pd.read_csv(file)\n",
      "C:\\Users\\Mao\\AppData\\Local\\Temp\\ipykernel_46032\\504452542.py:8: DtypeWarning: Columns (28,29,39,47,48,58) have mixed types. Specify dtype option on import or set low_memory=False.\n",
      "  data = pd.read_csv(file)\n",
      "C:\\Users\\Mao\\AppData\\Local\\Temp\\ipykernel_46032\\504452542.py:8: DtypeWarning: Columns (39,58,65) have mixed types. Specify dtype option on import or set low_memory=False.\n",
      "  data = pd.read_csv(file)\n",
      "C:\\Users\\Mao\\AppData\\Local\\Temp\\ipykernel_46032\\504452542.py:8: DtypeWarning: Columns (43,47,48) have mixed types. Specify dtype option on import or set low_memory=False.\n",
      "  data = pd.read_csv(file)\n",
      "C:\\Users\\Mao\\AppData\\Local\\Temp\\ipykernel_46032\\504452542.py:8: DtypeWarning: Columns (43,47,48) have mixed types. Specify dtype option on import or set low_memory=False.\n",
      "  data = pd.read_csv(file)\n",
      "C:\\Users\\Mao\\AppData\\Local\\Temp\\ipykernel_46032\\504452542.py:8: DtypeWarning: Columns (39) have mixed types. Specify dtype option on import or set low_memory=False.\n",
      "  data = pd.read_csv(file)\n",
      "C:\\Users\\Mao\\AppData\\Local\\Temp\\ipykernel_46032\\504452542.py:8: DtypeWarning: Columns (28,29,39,43,47,48,64) have mixed types. Specify dtype option on import or set low_memory=False.\n",
      "  data = pd.read_csv(file)\n",
      "C:\\Users\\Mao\\AppData\\Local\\Temp\\ipykernel_46032\\504452542.py:8: DtypeWarning: Columns (28,29,39,47,48,58,68) have mixed types. Specify dtype option on import or set low_memory=False.\n",
      "  data = pd.read_csv(file)\n",
      "C:\\Users\\Mao\\AppData\\Local\\Temp\\ipykernel_46032\\504452542.py:8: DtypeWarning: Columns (28,29,39,48,58,68) have mixed types. Specify dtype option on import or set low_memory=False.\n",
      "  data = pd.read_csv(file)\n",
      "C:\\Users\\Mao\\AppData\\Local\\Temp\\ipykernel_46032\\504452542.py:8: DtypeWarning: Columns (48,68) have mixed types. Specify dtype option on import or set low_memory=False.\n",
      "  data = pd.read_csv(file)\n",
      "C:\\Users\\Mao\\AppData\\Local\\Temp\\ipykernel_46032\\504452542.py:8: DtypeWarning: Columns (45,50,51,58,59,60) have mixed types. Specify dtype option on import or set low_memory=False.\n",
      "  data = pd.read_csv(file)\n",
      "C:\\Users\\Mao\\AppData\\Local\\Temp\\ipykernel_46032\\504452542.py:8: DtypeWarning: Columns (28,29,45,48,50,51,59,60) have mixed types. Specify dtype option on import or set low_memory=False.\n",
      "  data = pd.read_csv(file)\n",
      "C:\\Users\\Mao\\AppData\\Local\\Temp\\ipykernel_46032\\504452542.py:8: DtypeWarning: Columns (39,47,48,58,68) have mixed types. Specify dtype option on import or set low_memory=False.\n",
      "  data = pd.read_csv(file)\n",
      "C:\\Users\\Mao\\AppData\\Local\\Temp\\ipykernel_46032\\504452542.py:8: DtypeWarning: Columns (39,58) have mixed types. Specify dtype option on import or set low_memory=False.\n",
      "  data = pd.read_csv(file)\n",
      "C:\\Users\\Mao\\AppData\\Local\\Temp\\ipykernel_46032\\504452542.py:8: DtypeWarning: Columns (28,29,39,48) have mixed types. Specify dtype option on import or set low_memory=False.\n",
      "  data = pd.read_csv(file)\n",
      "C:\\Users\\Mao\\AppData\\Local\\Temp\\ipykernel_46032\\504452542.py:8: DtypeWarning: Columns (47,48) have mixed types. Specify dtype option on import or set low_memory=False.\n",
      "  data = pd.read_csv(file)\n",
      "C:\\Users\\Mao\\AppData\\Local\\Temp\\ipykernel_46032\\504452542.py:8: DtypeWarning: Columns (58) have mixed types. Specify dtype option on import or set low_memory=False.\n",
      "  data = pd.read_csv(file)\n",
      "C:\\Users\\Mao\\AppData\\Local\\Temp\\ipykernel_46032\\504452542.py:8: DtypeWarning: Columns (39,58) have mixed types. Specify dtype option on import or set low_memory=False.\n",
      "  data = pd.read_csv(file)\n",
      "C:\\Users\\Mao\\AppData\\Local\\Temp\\ipykernel_46032\\504452542.py:8: DtypeWarning: Columns (47,48,58,68) have mixed types. Specify dtype option on import or set low_memory=False.\n",
      "  data = pd.read_csv(file)\n",
      "C:\\Users\\Mao\\AppData\\Local\\Temp\\ipykernel_46032\\504452542.py:8: DtypeWarning: Columns (68) have mixed types. Specify dtype option on import or set low_memory=False.\n",
      "  data = pd.read_csv(file)\n",
      "C:\\Users\\Mao\\AppData\\Local\\Temp\\ipykernel_46032\\504452542.py:8: DtypeWarning: Columns (28,29,47,48,58) have mixed types. Specify dtype option on import or set low_memory=False.\n",
      "  data = pd.read_csv(file)\n",
      "C:\\Users\\Mao\\AppData\\Local\\Temp\\ipykernel_46032\\504452542.py:8: DtypeWarning: Columns (68) have mixed types. Specify dtype option on import or set low_memory=False.\n",
      "  data = pd.read_csv(file)\n",
      "C:\\Users\\Mao\\AppData\\Local\\Temp\\ipykernel_46032\\504452542.py:8: DtypeWarning: Columns (28,29,39,48) have mixed types. Specify dtype option on import or set low_memory=False.\n",
      "  data = pd.read_csv(file)\n",
      "C:\\Users\\Mao\\AppData\\Local\\Temp\\ipykernel_46032\\504452542.py:8: DtypeWarning: Columns (58) have mixed types. Specify dtype option on import or set low_memory=False.\n",
      "  data = pd.read_csv(file)\n",
      "C:\\Users\\Mao\\AppData\\Local\\Temp\\ipykernel_46032\\504452542.py:8: DtypeWarning: Columns (58) have mixed types. Specify dtype option on import or set low_memory=False.\n",
      "  data = pd.read_csv(file)\n",
      "C:\\Users\\Mao\\AppData\\Local\\Temp\\ipykernel_46032\\504452542.py:8: DtypeWarning: Columns (39,44,45,50,51,58,59,60,68) have mixed types. Specify dtype option on import or set low_memory=False.\n",
      "  data = pd.read_csv(file)\n",
      "C:\\Users\\Mao\\AppData\\Local\\Temp\\ipykernel_46032\\504452542.py:8: DtypeWarning: Columns (11,12,24,27,36,39,45,46,47,48,50,51,58,59,60,66,77) have mixed types. Specify dtype option on import or set low_memory=False.\n",
      "  data = pd.read_csv(file)\n",
      "C:\\Users\\Mao\\AppData\\Local\\Temp\\ipykernel_46032\\504452542.py:8: DtypeWarning: Columns (47,48) have mixed types. Specify dtype option on import or set low_memory=False.\n",
      "  data = pd.read_csv(file)\n",
      "C:\\Users\\Mao\\AppData\\Local\\Temp\\ipykernel_46032\\504452542.py:8: DtypeWarning: Columns (58,68) have mixed types. Specify dtype option on import or set low_memory=False.\n",
      "  data = pd.read_csv(file)\n",
      "C:\\Users\\Mao\\AppData\\Local\\Temp\\ipykernel_46032\\504452542.py:8: DtypeWarning: Columns (47,58) have mixed types. Specify dtype option on import or set low_memory=False.\n",
      "  data = pd.read_csv(file)\n",
      "C:\\Users\\Mao\\AppData\\Local\\Temp\\ipykernel_46032\\504452542.py:8: DtypeWarning: Columns (39,58) have mixed types. Specify dtype option on import or set low_memory=False.\n",
      "  data = pd.read_csv(file)\n",
      "C:\\Users\\Mao\\AppData\\Local\\Temp\\ipykernel_46032\\504452542.py:8: DtypeWarning: Columns (39) have mixed types. Specify dtype option on import or set low_memory=False.\n",
      "  data = pd.read_csv(file)\n",
      "C:\\Users\\Mao\\AppData\\Local\\Temp\\ipykernel_46032\\504452542.py:8: DtypeWarning: Columns (39) have mixed types. Specify dtype option on import or set low_memory=False.\n",
      "  data = pd.read_csv(file)\n",
      "C:\\Users\\Mao\\AppData\\Local\\Temp\\ipykernel_46032\\504452542.py:8: DtypeWarning: Columns (44,45,50,51,58,59,60) have mixed types. Specify dtype option on import or set low_memory=False.\n",
      "  data = pd.read_csv(file)\n",
      "C:\\Users\\Mao\\AppData\\Local\\Temp\\ipykernel_46032\\504452542.py:8: DtypeWarning: Columns (39,58,68) have mixed types. Specify dtype option on import or set low_memory=False.\n",
      "  data = pd.read_csv(file)\n",
      "C:\\Users\\Mao\\AppData\\Local\\Temp\\ipykernel_46032\\504452542.py:8: DtypeWarning: Columns (39,68) have mixed types. Specify dtype option on import or set low_memory=False.\n",
      "  data = pd.read_csv(file)\n",
      "C:\\Users\\Mao\\AppData\\Local\\Temp\\ipykernel_46032\\504452542.py:8: DtypeWarning: Columns (68) have mixed types. Specify dtype option on import or set low_memory=False.\n",
      "  data = pd.read_csv(file)\n",
      "C:\\Users\\Mao\\AppData\\Local\\Temp\\ipykernel_46032\\504452542.py:8: DtypeWarning: Columns (45,50,51,58,59,60,68) have mixed types. Specify dtype option on import or set low_memory=False.\n",
      "  data = pd.read_csv(file)\n",
      "C:\\Users\\Mao\\AppData\\Local\\Temp\\ipykernel_46032\\504452542.py:8: DtypeWarning: Columns (39,68) have mixed types. Specify dtype option on import or set low_memory=False.\n",
      "  data = pd.read_csv(file)\n",
      "C:\\Users\\Mao\\AppData\\Local\\Temp\\ipykernel_46032\\504452542.py:8: DtypeWarning: Columns (58) have mixed types. Specify dtype option on import or set low_memory=False.\n",
      "  data = pd.read_csv(file)\n",
      "C:\\Users\\Mao\\AppData\\Local\\Temp\\ipykernel_46032\\504452542.py:8: DtypeWarning: Columns (68) have mixed types. Specify dtype option on import or set low_memory=False.\n",
      "  data = pd.read_csv(file)\n",
      "C:\\Users\\Mao\\AppData\\Local\\Temp\\ipykernel_46032\\504452542.py:8: DtypeWarning: Columns (58) have mixed types. Specify dtype option on import or set low_memory=False.\n",
      "  data = pd.read_csv(file)\n",
      "C:\\Users\\Mao\\AppData\\Local\\Temp\\ipykernel_46032\\504452542.py:8: DtypeWarning: Columns (48,58) have mixed types. Specify dtype option on import or set low_memory=False.\n",
      "  data = pd.read_csv(file)\n",
      "C:\\Users\\Mao\\AppData\\Local\\Temp\\ipykernel_46032\\504452542.py:8: DtypeWarning: Columns (39,58,68) have mixed types. Specify dtype option on import or set low_memory=False.\n",
      "  data = pd.read_csv(file)\n",
      "C:\\Users\\Mao\\AppData\\Local\\Temp\\ipykernel_46032\\504452542.py:8: DtypeWarning: Columns (39,48,68) have mixed types. Specify dtype option on import or set low_memory=False.\n",
      "  data = pd.read_csv(file)\n",
      "C:\\Users\\Mao\\AppData\\Local\\Temp\\ipykernel_46032\\504452542.py:8: DtypeWarning: Columns (68) have mixed types. Specify dtype option on import or set low_memory=False.\n",
      "  data = pd.read_csv(file)\n",
      "C:\\Users\\Mao\\AppData\\Local\\Temp\\ipykernel_46032\\504452542.py:8: DtypeWarning: Columns (68) have mixed types. Specify dtype option on import or set low_memory=False.\n",
      "  data = pd.read_csv(file)\n",
      "C:\\Users\\Mao\\AppData\\Local\\Temp\\ipykernel_46032\\504452542.py:8: DtypeWarning: Columns (39,58,68) have mixed types. Specify dtype option on import or set low_memory=False.\n",
      "  data = pd.read_csv(file)\n",
      "C:\\Users\\Mao\\AppData\\Local\\Temp\\ipykernel_46032\\504452542.py:8: DtypeWarning: Columns (58) have mixed types. Specify dtype option on import or set low_memory=False.\n",
      "  data = pd.read_csv(file)\n",
      "C:\\Users\\Mao\\AppData\\Local\\Temp\\ipykernel_46032\\504452542.py:8: DtypeWarning: Columns (39) have mixed types. Specify dtype option on import or set low_memory=False.\n",
      "  data = pd.read_csv(file)\n",
      "C:\\Users\\Mao\\AppData\\Local\\Temp\\ipykernel_46032\\504452542.py:8: DtypeWarning: Columns (58) have mixed types. Specify dtype option on import or set low_memory=False.\n",
      "  data = pd.read_csv(file)\n",
      "C:\\Users\\Mao\\AppData\\Local\\Temp\\ipykernel_46032\\504452542.py:8: DtypeWarning: Columns (39) have mixed types. Specify dtype option on import or set low_memory=False.\n",
      "  data = pd.read_csv(file)\n",
      "C:\\Users\\Mao\\AppData\\Local\\Temp\\ipykernel_46032\\504452542.py:8: DtypeWarning: Columns (39) have mixed types. Specify dtype option on import or set low_memory=False.\n",
      "  data = pd.read_csv(file)\n",
      "C:\\Users\\Mao\\AppData\\Local\\Temp\\ipykernel_46032\\504452542.py:8: DtypeWarning: Columns (11,12,36,45,46,50,51,59,60,68,77) have mixed types. Specify dtype option on import or set low_memory=False.\n",
      "  data = pd.read_csv(file)\n",
      "C:\\Users\\Mao\\AppData\\Local\\Temp\\ipykernel_46032\\504452542.py:8: DtypeWarning: Columns (11,12,39,58,64,68,77) have mixed types. Specify dtype option on import or set low_memory=False.\n",
      "  data = pd.read_csv(file)\n",
      "C:\\Users\\Mao\\AppData\\Local\\Temp\\ipykernel_46032\\504452542.py:8: DtypeWarning: Columns (39,45,50,51,60,68) have mixed types. Specify dtype option on import or set low_memory=False.\n",
      "  data = pd.read_csv(file)\n",
      "C:\\Users\\Mao\\AppData\\Local\\Temp\\ipykernel_46032\\504452542.py:8: DtypeWarning: Columns (39) have mixed types. Specify dtype option on import or set low_memory=False.\n",
      "  data = pd.read_csv(file)\n",
      "C:\\Users\\Mao\\AppData\\Local\\Temp\\ipykernel_46032\\504452542.py:8: DtypeWarning: Columns (39,58,68) have mixed types. Specify dtype option on import or set low_memory=False.\n",
      "  data = pd.read_csv(file)\n",
      "C:\\Users\\Mao\\AppData\\Local\\Temp\\ipykernel_46032\\504452542.py:8: DtypeWarning: Columns (39) have mixed types. Specify dtype option on import or set low_memory=False.\n",
      "  data = pd.read_csv(file)\n",
      "C:\\Users\\Mao\\AppData\\Local\\Temp\\ipykernel_46032\\504452542.py:8: DtypeWarning: Columns (39) have mixed types. Specify dtype option on import or set low_memory=False.\n",
      "  data = pd.read_csv(file)\n",
      "C:\\Users\\Mao\\AppData\\Local\\Temp\\ipykernel_46032\\504452542.py:8: DtypeWarning: Columns (39,58,68) have mixed types. Specify dtype option on import or set low_memory=False.\n",
      "  data = pd.read_csv(file)\n",
      "C:\\Users\\Mao\\AppData\\Local\\Temp\\ipykernel_46032\\504452542.py:8: DtypeWarning: Columns (39,58) have mixed types. Specify dtype option on import or set low_memory=False.\n",
      "  data = pd.read_csv(file)\n",
      "C:\\Users\\Mao\\AppData\\Local\\Temp\\ipykernel_46032\\504452542.py:8: DtypeWarning: Columns (39,58) have mixed types. Specify dtype option on import or set low_memory=False.\n",
      "  data = pd.read_csv(file)\n",
      "C:\\Users\\Mao\\AppData\\Local\\Temp\\ipykernel_46032\\504452542.py:8: DtypeWarning: Columns (39) have mixed types. Specify dtype option on import or set low_memory=False.\n",
      "  data = pd.read_csv(file)\n",
      "C:\\Users\\Mao\\AppData\\Local\\Temp\\ipykernel_46032\\504452542.py:8: DtypeWarning: Columns (11,12,58) have mixed types. Specify dtype option on import or set low_memory=False.\n",
      "  data = pd.read_csv(file)\n",
      "C:\\Users\\Mao\\AppData\\Local\\Temp\\ipykernel_46032\\504452542.py:8: DtypeWarning: Columns (58) have mixed types. Specify dtype option on import or set low_memory=False.\n",
      "  data = pd.read_csv(file)\n",
      "C:\\Users\\Mao\\AppData\\Local\\Temp\\ipykernel_46032\\504452542.py:8: DtypeWarning: Columns (11,12,58,68) have mixed types. Specify dtype option on import or set low_memory=False.\n",
      "  data = pd.read_csv(file)\n",
      "C:\\Users\\Mao\\AppData\\Local\\Temp\\ipykernel_46032\\504452542.py:8: DtypeWarning: Columns (39,58,64,68) have mixed types. Specify dtype option on import or set low_memory=False.\n",
      "  data = pd.read_csv(file)\n",
      "C:\\Users\\Mao\\AppData\\Local\\Temp\\ipykernel_46032\\504452542.py:8: DtypeWarning: Columns (39,58) have mixed types. Specify dtype option on import or set low_memory=False.\n",
      "  data = pd.read_csv(file)\n",
      "C:\\Users\\Mao\\AppData\\Local\\Temp\\ipykernel_46032\\504452542.py:8: DtypeWarning: Columns (39,58,64) have mixed types. Specify dtype option on import or set low_memory=False.\n",
      "  data = pd.read_csv(file)\n",
      "C:\\Users\\Mao\\AppData\\Local\\Temp\\ipykernel_46032\\504452542.py:8: DtypeWarning: Columns (28,29,39,48,58) have mixed types. Specify dtype option on import or set low_memory=False.\n",
      "  data = pd.read_csv(file)\n",
      "C:\\Users\\Mao\\AppData\\Local\\Temp\\ipykernel_46032\\504452542.py:8: DtypeWarning: Columns (39,68) have mixed types. Specify dtype option on import or set low_memory=False.\n",
      "  data = pd.read_csv(file)\n",
      "C:\\Users\\Mao\\AppData\\Local\\Temp\\ipykernel_46032\\504452542.py:8: DtypeWarning: Columns (58) have mixed types. Specify dtype option on import or set low_memory=False.\n",
      "  data = pd.read_csv(file)\n",
      "C:\\Users\\Mao\\AppData\\Local\\Temp\\ipykernel_46032\\504452542.py:8: DtypeWarning: Columns (39,58,68) have mixed types. Specify dtype option on import or set low_memory=False.\n",
      "  data = pd.read_csv(file)\n",
      "C:\\Users\\Mao\\AppData\\Local\\Temp\\ipykernel_46032\\504452542.py:8: DtypeWarning: Columns (11,12,58) have mixed types. Specify dtype option on import or set low_memory=False.\n",
      "  data = pd.read_csv(file)\n",
      "C:\\Users\\Mao\\AppData\\Local\\Temp\\ipykernel_46032\\504452542.py:8: DtypeWarning: Columns (39,58) have mixed types. Specify dtype option on import or set low_memory=False.\n",
      "  data = pd.read_csv(file)\n",
      "C:\\Users\\Mao\\AppData\\Local\\Temp\\ipykernel_46032\\504452542.py:8: DtypeWarning: Columns (39) have mixed types. Specify dtype option on import or set low_memory=False.\n",
      "  data = pd.read_csv(file)\n",
      "C:\\Users\\Mao\\AppData\\Local\\Temp\\ipykernel_46032\\504452542.py:8: DtypeWarning: Columns (58) have mixed types. Specify dtype option on import or set low_memory=False.\n",
      "  data = pd.read_csv(file)\n",
      "C:\\Users\\Mao\\AppData\\Local\\Temp\\ipykernel_46032\\504452542.py:8: DtypeWarning: Columns (39,48,58) have mixed types. Specify dtype option on import or set low_memory=False.\n",
      "  data = pd.read_csv(file)\n",
      "C:\\Users\\Mao\\AppData\\Local\\Temp\\ipykernel_46032\\504452542.py:8: DtypeWarning: Columns (39,58) have mixed types. Specify dtype option on import or set low_memory=False.\n",
      "  data = pd.read_csv(file)\n",
      "C:\\Users\\Mao\\AppData\\Local\\Temp\\ipykernel_46032\\504452542.py:8: DtypeWarning: Columns (39) have mixed types. Specify dtype option on import or set low_memory=False.\n",
      "  data = pd.read_csv(file)\n",
      "C:\\Users\\Mao\\AppData\\Local\\Temp\\ipykernel_46032\\504452542.py:8: DtypeWarning: Columns (39) have mixed types. Specify dtype option on import or set low_memory=False.\n",
      "  data = pd.read_csv(file)\n",
      "C:\\Users\\Mao\\AppData\\Local\\Temp\\ipykernel_46032\\504452542.py:8: DtypeWarning: Columns (39) have mixed types. Specify dtype option on import or set low_memory=False.\n",
      "  data = pd.read_csv(file)\n",
      "C:\\Users\\Mao\\AppData\\Local\\Temp\\ipykernel_46032\\504452542.py:8: DtypeWarning: Columns (28,29,48,58) have mixed types. Specify dtype option on import or set low_memory=False.\n",
      "  data = pd.read_csv(file)\n",
      "C:\\Users\\Mao\\AppData\\Local\\Temp\\ipykernel_46032\\504452542.py:8: DtypeWarning: Columns (58) have mixed types. Specify dtype option on import or set low_memory=False.\n",
      "  data = pd.read_csv(file)\n",
      "C:\\Users\\Mao\\AppData\\Local\\Temp\\ipykernel_46032\\504452542.py:8: DtypeWarning: Columns (39,58,68) have mixed types. Specify dtype option on import or set low_memory=False.\n",
      "  data = pd.read_csv(file)\n",
      "C:\\Users\\Mao\\AppData\\Local\\Temp\\ipykernel_46032\\504452542.py:8: DtypeWarning: Columns (11,12,27,36,39,45,46,50,51,58,60,66,68,77) have mixed types. Specify dtype option on import or set low_memory=False.\n",
      "  data = pd.read_csv(file)\n",
      "C:\\Users\\Mao\\AppData\\Local\\Temp\\ipykernel_46032\\504452542.py:8: DtypeWarning: Columns (39) have mixed types. Specify dtype option on import or set low_memory=False.\n",
      "  data = pd.read_csv(file)\n",
      "C:\\Users\\Mao\\AppData\\Local\\Temp\\ipykernel_46032\\504452542.py:8: DtypeWarning: Columns (68) have mixed types. Specify dtype option on import or set low_memory=False.\n",
      "  data = pd.read_csv(file)\n",
      "C:\\Users\\Mao\\AppData\\Local\\Temp\\ipykernel_46032\\504452542.py:8: DtypeWarning: Columns (39,58) have mixed types. Specify dtype option on import or set low_memory=False.\n",
      "  data = pd.read_csv(file)\n",
      "C:\\Users\\Mao\\AppData\\Local\\Temp\\ipykernel_46032\\504452542.py:8: DtypeWarning: Columns (39,58) have mixed types. Specify dtype option on import or set low_memory=False.\n",
      "  data = pd.read_csv(file)\n",
      "C:\\Users\\Mao\\AppData\\Local\\Temp\\ipykernel_46032\\504452542.py:8: DtypeWarning: Columns (39,58) have mixed types. Specify dtype option on import or set low_memory=False.\n",
      "  data = pd.read_csv(file)\n",
      "C:\\Users\\Mao\\AppData\\Local\\Temp\\ipykernel_46032\\504452542.py:8: DtypeWarning: Columns (11,12,39) have mixed types. Specify dtype option on import or set low_memory=False.\n",
      "  data = pd.read_csv(file)\n",
      "C:\\Users\\Mao\\AppData\\Local\\Temp\\ipykernel_46032\\504452542.py:8: DtypeWarning: Columns (39,58) have mixed types. Specify dtype option on import or set low_memory=False.\n",
      "  data = pd.read_csv(file)\n",
      "C:\\Users\\Mao\\AppData\\Local\\Temp\\ipykernel_46032\\504452542.py:8: DtypeWarning: Columns (11,12,58,77) have mixed types. Specify dtype option on import or set low_memory=False.\n",
      "  data = pd.read_csv(file)\n",
      "C:\\Users\\Mao\\AppData\\Local\\Temp\\ipykernel_46032\\504452542.py:8: DtypeWarning: Columns (11,12,39,58,68,77) have mixed types. Specify dtype option on import or set low_memory=False.\n",
      "  data = pd.read_csv(file)\n",
      "C:\\Users\\Mao\\AppData\\Local\\Temp\\ipykernel_46032\\504452542.py:8: DtypeWarning: Columns (39,58,68) have mixed types. Specify dtype option on import or set low_memory=False.\n",
      "  data = pd.read_csv(file)\n",
      "C:\\Users\\Mao\\AppData\\Local\\Temp\\ipykernel_46032\\504452542.py:8: DtypeWarning: Columns (39,58,68) have mixed types. Specify dtype option on import or set low_memory=False.\n",
      "  data = pd.read_csv(file)\n",
      "C:\\Users\\Mao\\AppData\\Local\\Temp\\ipykernel_46032\\504452542.py:8: DtypeWarning: Columns (39) have mixed types. Specify dtype option on import or set low_memory=False.\n",
      "  data = pd.read_csv(file)\n",
      "C:\\Users\\Mao\\AppData\\Local\\Temp\\ipykernel_46032\\504452542.py:8: DtypeWarning: Columns (58,68) have mixed types. Specify dtype option on import or set low_memory=False.\n",
      "  data = pd.read_csv(file)\n",
      "C:\\Users\\Mao\\AppData\\Local\\Temp\\ipykernel_46032\\504452542.py:8: DtypeWarning: Columns (39,58,68) have mixed types. Specify dtype option on import or set low_memory=False.\n",
      "  data = pd.read_csv(file)\n"
     ]
    }
   ],
   "source": [
    "import pandas as pd\n",
    "import numpy as np\n",
    "import glob\n",
    "\n",
    "files = glob.glob(\"../../../sharedfiles/P Data/*.csv\")\n",
    "full_data = pd.DataFrame()\n",
    "for file in files:\n",
    "    data = pd.read_csv(file)\n",
    "    full_data = pd.concat([full_data, data])\n"
   ]
  },
  {
   "cell_type": "code",
   "execution_count": 3,
   "metadata": {},
   "outputs": [],
   "source": [
    "import preprocessor as p\n",
    "\n",
    "full_data[\"Message\"] = full_data[\"Message\"].apply(lambda x: p.clean(x))\n"
   ]
  },
  {
   "cell_type": "code",
   "execution_count": 4,
   "metadata": {},
   "outputs": [],
   "source": [
    "full_data.drop_duplicates(subset=\"Message\", keep=\"first\", inplace=True)"
   ]
  },
  {
   "cell_type": "code",
   "execution_count": 9,
   "metadata": {},
   "outputs": [
    {
     "name": "stdout",
     "output_type": "stream",
     "text": [
      "(30179, 106)\n"
     ]
    }
   ],
   "source": [
    "trump = full_data[full_data.Message.str.contains(\"trump\", case=False)]\n",
    "print(trump.shape)\n"
   ]
  },
  {
   "cell_type": "code",
   "execution_count": 10,
   "metadata": {},
   "outputs": [
    {
     "name": "stdout",
     "output_type": "stream",
     "text": [
      "(2496, 106)\n"
     ]
    }
   ],
   "source": [
    "biden = full_data[full_data.Message.str.contains(\"biden\", case=False)]\n",
    "print(biden.shape)\n"
   ]
  },
  {
   "cell_type": "code",
   "execution_count": 11,
   "metadata": {},
   "outputs": [
    {
     "name": "stdout",
     "output_type": "stream",
     "text": [
      "(17848, 106)\n"
     ]
    }
   ],
   "source": [
    "covid = full_data[full_data.Message.str.contains(\"covid\", case=False)]\n",
    "print(covid.shape)\n"
   ]
  },
  {
   "cell_type": "code",
   "execution_count": 14,
   "metadata": {},
   "outputs": [
    {
     "name": "stdout",
     "output_type": "stream",
     "text": [
      "(17236, 106)\n"
     ]
    }
   ],
   "source": [
    "illegal = full_data[full_data.Message.str.contains(\"illegal\", case=False)]\n",
    "print(illegal.shape)\n"
   ]
  },
  {
   "cell_type": "code",
   "execution_count": 16,
   "metadata": {},
   "outputs": [
    {
     "data": {
      "text/plain": [
       "Index(['UniversalMessageId', 'SocialNetwork', 'SenderUserId',\n",
       "       'SenderScreenName', 'SenderListedName', 'SenderProfileImgUrl',\n",
       "       'SenderProfileLink', 'Sender Followers Count', 'SenderInfluencerScore',\n",
       "       'SenderAge',\n",
       "       ...\n",
       "       'trustFedStats_query_distance', 'unauthorizedUse_query_distance',\n",
       "       'message2_query_distance', 'documentation_query_distance',\n",
       "       'message3_query_distance', 'usedAgainst_query_distance',\n",
       "       'encourage_query_distance', 'shareData_query_distance',\n",
       "       'answer1_query_distance', 'answer1_distance'],\n",
       "      dtype='object', length=106)"
      ]
     },
     "execution_count": 16,
     "metadata": {},
     "output_type": "execute_result"
    }
   ],
   "source": [
    "trump.columns"
   ]
  },
  {
   "cell_type": "code",
   "execution_count": 17,
   "metadata": {},
   "outputs": [],
   "source": [
    "trump = trump[[\"UniversalMessageId\", \"Message\", \"Day\"]]\n",
    "trump.to_csv(\"../data/trump.csv\", index=False)\n"
   ]
  },
  {
   "cell_type": "code",
   "execution_count": 18,
   "metadata": {},
   "outputs": [],
   "source": [
    "trump_sample = trump.sample(5000)\n",
    "trump_sample.to_csv(\"../data/trump_sample.csv\", index=False)\n"
   ]
  },
  {
   "cell_type": "code",
   "execution_count": 20,
   "metadata": {},
   "outputs": [
    {
     "data": {
      "text/html": [
       "<div>\n",
       "<style scoped>\n",
       "    .dataframe tbody tr th:only-of-type {\n",
       "        vertical-align: middle;\n",
       "    }\n",
       "\n",
       "    .dataframe tbody tr th {\n",
       "        vertical-align: top;\n",
       "    }\n",
       "\n",
       "    .dataframe thead th {\n",
       "        text-align: right;\n",
       "    }\n",
       "</style>\n",
       "<table border=\"1\" class=\"dataframe\">\n",
       "  <thead>\n",
       "    <tr style=\"text-align: right;\">\n",
       "      <th></th>\n",
       "      <th>UniversalMessageId</th>\n",
       "      <th>Message</th>\n",
       "      <th>Day</th>\n",
       "    </tr>\n",
       "  </thead>\n",
       "  <tbody>\n",
       "    <tr>\n",
       "      <th>677</th>\n",
       "      <td>TWITTER_8_1212585658914627584</td>\n",
       "      <td>Biden says that he became popular at the pool ...</td>\n",
       "      <td>2020-01-02</td>\n",
       "    </tr>\n",
       "    <tr>\n",
       "      <th>7580</th>\n",
       "      <td>TWITTER_8_1212942726305591296</td>\n",
       "      <td>The idea of a Biden nomination and the impossi...</td>\n",
       "      <td>2020-01-02</td>\n",
       "    </tr>\n",
       "    <tr>\n",
       "      <th>160</th>\n",
       "      <td>TWITTER_7_1213310447002230784</td>\n",
       "      <td>is best chance at Texas in a generation, in a ...</td>\n",
       "      <td>2020-01-04</td>\n",
       "    </tr>\n",
       "    <tr>\n",
       "      <th>7471</th>\n",
       "      <td>TWITTER_4_1214196781262589952</td>\n",
       "      <td>years ago VP Biden was the VP, you were not an...</td>\n",
       "      <td>2020-01-06</td>\n",
       "    </tr>\n",
       "    <tr>\n",
       "      <th>300</th>\n",
       "      <td>TWITTER_7_1214763794053914625</td>\n",
       "      <td>He won't be. The democratic national committee...</td>\n",
       "      <td>2020-01-08</td>\n",
       "    </tr>\n",
       "    <tr>\n",
       "      <th>...</th>\n",
       "      <td>...</td>\n",
       "      <td>...</td>\n",
       "      <td>...</td>\n",
       "    </tr>\n",
       "    <tr>\n",
       "      <th>17468</th>\n",
       "      <td>TWITTER_8_1305702061313527808</td>\n",
       "      <td>Judge chastises government for not producing c...</td>\n",
       "      <td>2020-09-14</td>\n",
       "    </tr>\n",
       "    <tr>\n",
       "      <th>19319</th>\n",
       "      <td>TWITTER_2_1305671174513459200</td>\n",
       "      <td>President Biden should declare the census null...</td>\n",
       "      <td>2020-09-14</td>\n",
       "    </tr>\n",
       "    <tr>\n",
       "      <th>19356</th>\n",
       "      <td>TWITTER_2_1305670657598869506</td>\n",
       "      <td>We have to do a census reset after Biden is el...</td>\n",
       "      <td>2020-09-14</td>\n",
       "    </tr>\n",
       "    <tr>\n",
       "      <th>20389</th>\n",
       "      <td>TWITTER_7_1305656946108674050</td>\n",
       "      <td>gonna be great when joe biden wins and very re...</td>\n",
       "      <td>2020-09-14</td>\n",
       "    </tr>\n",
       "    <tr>\n",
       "      <th>21262</th>\n",
       "      <td>TWITTER_7_1305644758086213632</td>\n",
       "      <td>I really don't like the way Biden has handled ...</td>\n",
       "      <td>2020-09-14</td>\n",
       "    </tr>\n",
       "  </tbody>\n",
       "</table>\n",
       "<p>2496 rows × 3 columns</p>\n",
       "</div>"
      ],
      "text/plain": [
       "                  UniversalMessageId  \\\n",
       "677    TWITTER_8_1212585658914627584   \n",
       "7580   TWITTER_8_1212942726305591296   \n",
       "160    TWITTER_7_1213310447002230784   \n",
       "7471   TWITTER_4_1214196781262589952   \n",
       "300    TWITTER_7_1214763794053914625   \n",
       "...                              ...   \n",
       "17468  TWITTER_8_1305702061313527808   \n",
       "19319  TWITTER_2_1305671174513459200   \n",
       "19356  TWITTER_2_1305670657598869506   \n",
       "20389  TWITTER_7_1305656946108674050   \n",
       "21262  TWITTER_7_1305644758086213632   \n",
       "\n",
       "                                                 Message         Day  \n",
       "677    Biden says that he became popular at the pool ...  2020-01-02  \n",
       "7580   The idea of a Biden nomination and the impossi...  2020-01-02  \n",
       "160    is best chance at Texas in a generation, in a ...  2020-01-04  \n",
       "7471   years ago VP Biden was the VP, you were not an...  2020-01-06  \n",
       "300    He won't be. The democratic national committee...  2020-01-08  \n",
       "...                                                  ...         ...  \n",
       "17468  Judge chastises government for not producing c...  2020-09-14  \n",
       "19319  President Biden should declare the census null...  2020-09-14  \n",
       "19356  We have to do a census reset after Biden is el...  2020-09-14  \n",
       "20389  gonna be great when joe biden wins and very re...  2020-09-14  \n",
       "21262  I really don't like the way Biden has handled ...  2020-09-14  \n",
       "\n",
       "[2496 rows x 3 columns]"
      ]
     },
     "execution_count": 20,
     "metadata": {},
     "output_type": "execute_result"
    }
   ],
   "source": [
    "biden"
   ]
  },
  {
   "cell_type": "code",
   "execution_count": 19,
   "metadata": {},
   "outputs": [
    {
     "ename": "ValueError",
     "evalue": "Cannot take a larger sample than population when 'replace=False'",
     "output_type": "error",
     "traceback": [
      "\u001b[1;31m---------------------------------------------------------------------------\u001b[0m",
      "\u001b[1;31mValueError\u001b[0m                                Traceback (most recent call last)",
      "Cell \u001b[1;32mIn[19], line 3\u001b[0m\n\u001b[0;32m      1\u001b[0m biden \u001b[38;5;241m=\u001b[39m biden[[\u001b[38;5;124m\"\u001b[39m\u001b[38;5;124mUniversalMessageId\u001b[39m\u001b[38;5;124m\"\u001b[39m, \u001b[38;5;124m\"\u001b[39m\u001b[38;5;124mMessage\u001b[39m\u001b[38;5;124m\"\u001b[39m, \u001b[38;5;124m\"\u001b[39m\u001b[38;5;124mDay\u001b[39m\u001b[38;5;124m\"\u001b[39m]]\n\u001b[0;32m      2\u001b[0m biden\u001b[38;5;241m.\u001b[39mto_csv(\u001b[38;5;124m\"\u001b[39m\u001b[38;5;124m../data/biden.csv\u001b[39m\u001b[38;5;124m\"\u001b[39m, index\u001b[38;5;241m=\u001b[39m\u001b[38;5;28;01mFalse\u001b[39;00m)\n\u001b[1;32m----> 3\u001b[0m biden_sample \u001b[38;5;241m=\u001b[39m \u001b[43mbiden\u001b[49m\u001b[38;5;241;43m.\u001b[39;49m\u001b[43msample\u001b[49m\u001b[43m(\u001b[49m\u001b[38;5;241;43m5000\u001b[39;49m\u001b[43m)\u001b[49m\n\u001b[0;32m      4\u001b[0m biden_sample\u001b[38;5;241m.\u001b[39mto_csv(\u001b[38;5;124m\"\u001b[39m\u001b[38;5;124m../data/biden_sample.csv\u001b[39m\u001b[38;5;124m\"\u001b[39m, index\u001b[38;5;241m=\u001b[39m\u001b[38;5;28;01mFalse\u001b[39;00m)\n",
      "File \u001b[1;32mc:\\Users\\Mao\\miniconda3\\Lib\\site-packages\\pandas\\core\\generic.py:6112\u001b[0m, in \u001b[0;36mNDFrame.sample\u001b[1;34m(self, n, frac, replace, weights, random_state, axis, ignore_index)\u001b[0m\n\u001b[0;32m   6109\u001b[0m \u001b[38;5;28;01mif\u001b[39;00m weights \u001b[38;5;129;01mis\u001b[39;00m \u001b[38;5;129;01mnot\u001b[39;00m \u001b[38;5;28;01mNone\u001b[39;00m:\n\u001b[0;32m   6110\u001b[0m     weights \u001b[38;5;241m=\u001b[39m sample\u001b[38;5;241m.\u001b[39mpreprocess_weights(\u001b[38;5;28mself\u001b[39m, weights, axis)\n\u001b[1;32m-> 6112\u001b[0m sampled_indices \u001b[38;5;241m=\u001b[39m \u001b[43msample\u001b[49m\u001b[38;5;241;43m.\u001b[39;49m\u001b[43msample\u001b[49m\u001b[43m(\u001b[49m\u001b[43mobj_len\u001b[49m\u001b[43m,\u001b[49m\u001b[43m \u001b[49m\u001b[43msize\u001b[49m\u001b[43m,\u001b[49m\u001b[43m \u001b[49m\u001b[43mreplace\u001b[49m\u001b[43m,\u001b[49m\u001b[43m \u001b[49m\u001b[43mweights\u001b[49m\u001b[43m,\u001b[49m\u001b[43m \u001b[49m\u001b[43mrs\u001b[49m\u001b[43m)\u001b[49m\n\u001b[0;32m   6113\u001b[0m result \u001b[38;5;241m=\u001b[39m \u001b[38;5;28mself\u001b[39m\u001b[38;5;241m.\u001b[39mtake(sampled_indices, axis\u001b[38;5;241m=\u001b[39maxis)\n\u001b[0;32m   6115\u001b[0m \u001b[38;5;28;01mif\u001b[39;00m ignore_index:\n",
      "File \u001b[1;32mc:\\Users\\Mao\\miniconda3\\Lib\\site-packages\\pandas\\core\\sample.py:152\u001b[0m, in \u001b[0;36msample\u001b[1;34m(obj_len, size, replace, weights, random_state)\u001b[0m\n\u001b[0;32m    149\u001b[0m     \u001b[38;5;28;01melse\u001b[39;00m:\n\u001b[0;32m    150\u001b[0m         \u001b[38;5;28;01mraise\u001b[39;00m \u001b[38;5;167;01mValueError\u001b[39;00m(\u001b[38;5;124m\"\u001b[39m\u001b[38;5;124mInvalid weights: weights sum to zero\u001b[39m\u001b[38;5;124m\"\u001b[39m)\n\u001b[1;32m--> 152\u001b[0m \u001b[38;5;28;01mreturn\u001b[39;00m \u001b[43mrandom_state\u001b[49m\u001b[38;5;241;43m.\u001b[39;49m\u001b[43mchoice\u001b[49m\u001b[43m(\u001b[49m\u001b[43mobj_len\u001b[49m\u001b[43m,\u001b[49m\u001b[43m \u001b[49m\u001b[43msize\u001b[49m\u001b[38;5;241;43m=\u001b[39;49m\u001b[43msize\u001b[49m\u001b[43m,\u001b[49m\u001b[43m \u001b[49m\u001b[43mreplace\u001b[49m\u001b[38;5;241;43m=\u001b[39;49m\u001b[43mreplace\u001b[49m\u001b[43m,\u001b[49m\u001b[43m \u001b[49m\u001b[43mp\u001b[49m\u001b[38;5;241;43m=\u001b[39;49m\u001b[43mweights\u001b[49m\u001b[43m)\u001b[49m\u001b[38;5;241m.\u001b[39mastype(\n\u001b[0;32m    153\u001b[0m     np\u001b[38;5;241m.\u001b[39mintp, copy\u001b[38;5;241m=\u001b[39m\u001b[38;5;28;01mFalse\u001b[39;00m\n\u001b[0;32m    154\u001b[0m )\n",
      "File \u001b[1;32mnumpy\\\\random\\\\mtrand.pyx:1001\u001b[0m, in \u001b[0;36mnumpy.random.mtrand.RandomState.choice\u001b[1;34m()\u001b[0m\n",
      "\u001b[1;31mValueError\u001b[0m: Cannot take a larger sample than population when 'replace=False'"
     ]
    }
   ],
   "source": [
    "biden = biden[[\"UniversalMessageId\", \"Message\", \"Day\"]]\n",
    "biden.to_csv(\"../data/biden.csv\", index=False)\n",
    "biden_sample = biden.sample(5000)\n",
    "biden_sample.to_csv(\"../data/biden_sample.csv\", index=False)\n"
   ]
  },
  {
   "cell_type": "code",
   "execution_count": 21,
   "metadata": {},
   "outputs": [],
   "source": [
    "illegal = illegal[[\"UniversalMessageId\", \"Message\", \"Day\"]]\n",
    "illegal.to_csv(\"../data/illegal.csv\", index=False)\n",
    "illegal_sample = illegal.sample(5000)\n",
    "illegal_sample.to_csv(\"../data/illegal_sample.csv\", index=False)\n"
   ]
  },
  {
   "cell_type": "code",
   "execution_count": 22,
   "metadata": {},
   "outputs": [],
   "source": [
    "covid = covid[[\"UniversalMessageId\", \"Message\", \"Day\"]]\n",
    "covid.to_csv(\"../data/covid.csv\", index=False)\n",
    "covid_sample = covid.sample(5000)\n",
    "covid_sample.to_csv(\"../data/covid_sample.csv\", index=False)\n"
   ]
  },
  {
   "cell_type": "markdown",
   "metadata": {},
   "source": [
    "# Sanity check"
   ]
  },
  {
   "cell_type": "code",
   "execution_count": 1,
   "metadata": {},
   "outputs": [
    {
     "data": {
      "application/vnd.jupyter.widget-view+json": {
       "model_id": "1c4c0d3d8e8b4dcb87fc37184d5fba0d",
       "version_major": 2,
       "version_minor": 0
      },
      "text/plain": [
       "vocab.txt:   0%|          | 0.00/232k [00:00<?, ?B/s]"
      ]
     },
     "metadata": {},
     "output_type": "display_data"
    }
   ],
   "source": [
    "# pre-compute embeddings after user uploaded their data\n",
    "import torch\n",
    "from sentence_transformers import SentenceTransformer\n",
    "\n",
    "model = SentenceTransformer(\n",
    "    \"BAAI/bge-base-en-v1.5\", device=\"cuda\" if torch.cuda.is_available() else \"cpu\"\n",
    ")\n"
   ]
  },
  {
   "cell_type": "markdown",
   "metadata": {},
   "source": [
    "## Trump"
   ]
  },
  {
   "cell_type": "code",
   "execution_count": 18,
   "metadata": {},
   "outputs": [
    {
     "data": {
      "text/plain": [
       "array([2.61979063e-02, 1.55569260e-02, 1.34000219e-02, 1.15710351e-02,\n",
       "       8.92304308e-03, 8.13046703e-03, 7.86404222e-03, 7.16902594e-03,\n",
       "       6.12031979e-03, 5.24028438e-03, 5.13904211e-03, 4.86245706e-03,\n",
       "       4.52110258e-03, 4.25591168e-03, 4.06037012e-03, 3.68964198e-03,\n",
       "       3.59422228e-03, 3.42414555e-03, 3.38850541e-03, 3.14134804e-03,\n",
       "       2.96390611e-03, 2.89752217e-03, 2.86009149e-03, 2.75820086e-03,\n",
       "       2.65294803e-03, 2.58909042e-03, 2.50687867e-03, 2.43396559e-03,\n",
       "       2.37006394e-03, 2.22642336e-03, 2.17517612e-03, 2.14379130e-03,\n",
       "       2.09803786e-03, 2.04657271e-03, 1.99343859e-03, 1.96583427e-03,\n",
       "       1.89302851e-03, 1.85068012e-03, 1.84296859e-03, 1.77497771e-03,\n",
       "       1.74329130e-03, 1.73761065e-03, 1.68928542e-03, 1.63652195e-03,\n",
       "       1.62297205e-03, 1.59766103e-03, 1.55209630e-03, 1.53803926e-03,\n",
       "       1.50545449e-03, 1.45909633e-03, 1.42790095e-03, 1.40835336e-03,\n",
       "       1.38992014e-03, 1.35067326e-03, 1.34594020e-03, 1.32826572e-03,\n",
       "       1.28451316e-03, 1.26318059e-03, 1.23835327e-03, 1.22680900e-03,\n",
       "       1.21956998e-03, 1.18540362e-03, 1.17307632e-03, 1.14918535e-03,\n",
       "       1.13603855e-03, 1.12577257e-03, 1.10265768e-03, 1.07693769e-03,\n",
       "       1.07384946e-03, 1.06579105e-03, 1.03837170e-03, 1.03246699e-03,\n",
       "       1.02367075e-03, 1.01563748e-03, 1.00193142e-03, 9.89033315e-04,\n",
       "       9.79898168e-04, 9.72097177e-04, 9.57309600e-04, 9.45910808e-04,\n",
       "       9.33707830e-04, 9.25874844e-04, 9.05399495e-04, 9.03421570e-04,\n",
       "       8.95849348e-04, 8.77146317e-04, 8.64875342e-04, 8.60854599e-04,\n",
       "       8.60402036e-04, 8.49833421e-04, 8.37041991e-04, 8.22979806e-04,\n",
       "       8.16461516e-04, 8.06589810e-04, 8.00639995e-04, 7.92153106e-04,\n",
       "       7.82168736e-04, 7.70005614e-04, 7.64051430e-04, 7.54432426e-04,\n",
       "       7.53079931e-04, 7.47023084e-04, 7.38519455e-04, 7.18256922e-04,\n",
       "       7.14975805e-04, 7.10581033e-04, 7.06099796e-04, 7.05489320e-04,\n",
       "       6.94722481e-04, 6.84864852e-04, 6.76759985e-04, 6.75011285e-04,\n",
       "       6.66114123e-04, 6.61689559e-04, 6.58377472e-04, 6.53235093e-04,\n",
       "       6.41861176e-04, 6.39503620e-04, 6.38129685e-04, 6.34446818e-04,\n",
       "       6.27518157e-04, 6.15758587e-04, 6.08996768e-04, 6.05201641e-04,\n",
       "       5.96689128e-04, 5.94792651e-04, 5.89803584e-04, 5.85549033e-04,\n",
       "       5.80901646e-04, 5.72019214e-04, 5.69603603e-04, 5.66377842e-04,\n",
       "       5.60340102e-04, 5.57747197e-04, 5.54325761e-04, 5.46832752e-04,\n",
       "       5.42178893e-04, 5.35073283e-04, 5.32440553e-04, 5.31409673e-04,\n",
       "       5.21497452e-04, 5.18850501e-04, 5.17373218e-04, 5.14503013e-04,\n",
       "       5.09046564e-04, 5.03258753e-04, 5.00628277e-04, 4.96383268e-04,\n",
       "       4.93255830e-04, 4.91450193e-04, 4.87640529e-04, 4.84775333e-04,\n",
       "       4.80799527e-04, 4.78048533e-04, 4.73111851e-04, 4.69043034e-04,\n",
       "       4.66388541e-04, 4.65896253e-04, 4.61552815e-04, 4.57851812e-04,\n",
       "       4.53822574e-04, 4.50269706e-04, 4.48524332e-04, 4.44427819e-04,\n",
       "       4.43305503e-04, 4.40588888e-04, 4.38557578e-04, 4.34069661e-04,\n",
       "       4.32911395e-04, 4.27552201e-04, 4.26434165e-04, 4.23782569e-04,\n",
       "       4.17801609e-04, 4.16668012e-04, 4.14686817e-04, 4.12620981e-04,\n",
       "       4.09357658e-04, 4.07499570e-04, 4.05237634e-04, 4.00819101e-04,\n",
       "       3.97095804e-04, 3.93702058e-04, 3.91860014e-04, 3.89910852e-04,\n",
       "       3.88022293e-04, 3.86166079e-04, 3.85150834e-04, 3.81751587e-04,\n",
       "       3.79459405e-04, 3.78232714e-04, 3.74400128e-04, 3.71291075e-04,\n",
       "       3.68297527e-04, 3.65331211e-04, 3.63136689e-04, 3.59871104e-04,\n",
       "       3.57728711e-04, 3.55611279e-04, 3.54468019e-04, 3.52085982e-04,\n",
       "       3.49204239e-04, 3.48087071e-04, 3.45747518e-04, 3.44161643e-04,\n",
       "       3.41592267e-04, 3.40422794e-04, 3.37256271e-04, 3.34329815e-04,\n",
       "       3.32941817e-04, 3.30127694e-04, 3.29734991e-04, 3.27206490e-04,\n",
       "       3.25491461e-04, 3.21643232e-04, 3.20922634e-04, 3.18934487e-04,\n",
       "       3.17508472e-04, 3.16440560e-04, 3.15093943e-04, 3.13955696e-04,\n",
       "       3.10571909e-04, 3.08025330e-04, 3.05491041e-04, 3.04517813e-04,\n",
       "       3.03876798e-04, 3.02855798e-04, 3.00570995e-04, 2.97142774e-04,\n",
       "       2.95575209e-04, 2.95002886e-04, 2.92808908e-04, 2.92319265e-04,\n",
       "       2.90244012e-04, 2.87711907e-04, 2.85800101e-04, 2.83835910e-04,\n",
       "       2.82000115e-04, 2.80278743e-04, 2.79078113e-04, 2.78247178e-04,\n",
       "       2.77255072e-04, 2.74680571e-04, 2.73455870e-04, 2.73140076e-04,\n",
       "       2.69615623e-04, 2.66712688e-04, 2.65967690e-04, 2.64618424e-04,\n",
       "       2.62826854e-04, 2.61764582e-04, 2.61109338e-04, 2.58688407e-04,\n",
       "       2.54597136e-04, 2.53041354e-04, 2.52663608e-04, 2.50966610e-04,\n",
       "       2.49359864e-04, 2.48461208e-04, 2.47771794e-04, 2.46125587e-04,\n",
       "       2.45473124e-04, 2.43468374e-04, 2.41690897e-04, 2.40263407e-04,\n",
       "       2.38527977e-04, 2.36278979e-04, 2.36200018e-04, 2.34911888e-04,\n",
       "       2.32761349e-04, 2.32585581e-04, 2.31447494e-04, 2.30964408e-04,\n",
       "       2.30040175e-04, 2.27735895e-04, 2.25686046e-04, 2.25145707e-04,\n",
       "       2.24445023e-04, 2.23180816e-04, 2.21387678e-04, 2.20057496e-04,\n",
       "       2.19752605e-04, 2.17346594e-04, 2.16983198e-04, 2.16202139e-04,\n",
       "       2.14178129e-04, 2.13423158e-04, 2.11994615e-04, 2.10842923e-04,\n",
       "       2.08448424e-04, 2.07344419e-04, 2.05933687e-04, 2.05231244e-04,\n",
       "       2.03413319e-04, 2.03106906e-04, 2.02360506e-04, 2.01184631e-04,\n",
       "       2.00211645e-04, 1.99273050e-04, 1.98529186e-04, 1.96483375e-04,\n",
       "       1.95998017e-04, 1.95616155e-04, 1.93818209e-04, 1.93339903e-04,\n",
       "       1.91926300e-04, 1.89971550e-04, 1.89367293e-04, 1.88122288e-04,\n",
       "       1.87930084e-04, 1.86285229e-04, 1.85704003e-04, 1.84417433e-04,\n",
       "       1.84076508e-04, 1.83259335e-04, 1.81345199e-04, 1.80488927e-04,\n",
       "       1.79852336e-04, 1.78386655e-04, 1.76975040e-04, 1.76343578e-04,\n",
       "       1.75414286e-04, 1.74947346e-04, 1.73143936e-04, 1.72827130e-04,\n",
       "       1.71181075e-04, 1.69835773e-04, 1.68842470e-04, 1.67937474e-04,\n",
       "       1.66370103e-04, 1.65486109e-04, 1.65027114e-04, 1.64709343e-04,\n",
       "       1.62294050e-04, 1.61886217e-04, 1.61282557e-04, 1.60053473e-04,\n",
       "       1.59240301e-04, 1.58577728e-04, 1.57525644e-04, 1.56878817e-04,\n",
       "       1.56376050e-04, 1.55312306e-04, 1.54503153e-04, 1.53542801e-04,\n",
       "       1.53199241e-04, 1.51862320e-04, 1.50405654e-04, 1.50340883e-04,\n",
       "       1.49342028e-04, 1.48341818e-04, 1.48034203e-04, 1.47340452e-04,\n",
       "       1.46872143e-04, 1.46309495e-04, 1.45222492e-04, 1.43121771e-04,\n",
       "       1.42046554e-04, 1.41961959e-04, 1.41450654e-04, 1.40176268e-04,\n",
       "       1.39570804e-04, 1.37985616e-04, 1.37601258e-04, 1.37352242e-04,\n",
       "       1.36004366e-04, 1.35561751e-04, 1.35132438e-04, 1.33701878e-04,\n",
       "       1.33040259e-04, 1.32134199e-04, 1.30873224e-04, 1.30719764e-04,\n",
       "       1.28706852e-04, 1.28347673e-04, 1.27837837e-04, 1.26619886e-04,\n",
       "       1.26231136e-04, 1.26158038e-04, 1.25849483e-04, 1.25020179e-04,\n",
       "       1.24297748e-04, 1.23106503e-04, 1.22415842e-04, 1.21763421e-04,\n",
       "       1.20593634e-04, 1.19317320e-04, 1.18956486e-04, 1.18261037e-04,\n",
       "       1.16417974e-04, 1.15948955e-04, 1.15585053e-04, 1.14770914e-04,\n",
       "       1.14008419e-04, 1.12731019e-04, 1.12348383e-04, 1.11875553e-04,\n",
       "       1.11621587e-04, 1.11029849e-04, 1.10187707e-04, 1.09520009e-04,\n",
       "       1.08973079e-04, 1.08539920e-04, 1.07267860e-04, 1.06617418e-04,\n",
       "       1.05210237e-04, 1.04897895e-04, 1.04560216e-04, 1.03619397e-04,\n",
       "       1.02602628e-04, 1.02509379e-04, 1.01741533e-04, 1.01023217e-04,\n",
       "       1.00117963e-04, 9.96679449e-05, 9.95331087e-05, 9.91253058e-05,\n",
       "       9.84002305e-05, 9.73244898e-05, 9.69761961e-05, 9.66753531e-05,\n",
       "       9.59671883e-05, 9.48568705e-05, 9.39270149e-05, 9.34220442e-05,\n",
       "       9.31741761e-05, 9.24561822e-05, 9.20612857e-05, 9.16362227e-05,\n",
       "       9.06966208e-05, 9.04159142e-05, 8.98930475e-05, 8.93620058e-05,\n",
       "       8.87582097e-05, 8.77077139e-05, 8.72567751e-05, 8.62782651e-05,\n",
       "       8.55341921e-05, 8.48530310e-05, 8.45621463e-05, 8.42797319e-05,\n",
       "       8.33638433e-05, 8.31248429e-05, 8.27167536e-05, 8.16228528e-05,\n",
       "       8.11916757e-05, 8.05698451e-05, 7.96961272e-05, 7.93879873e-05,\n",
       "       7.88251338e-05, 7.82130005e-05, 7.76622880e-05, 7.70873953e-05,\n",
       "       7.67789617e-05, 7.63445988e-05, 7.56366815e-05, 7.49934970e-05,\n",
       "       7.46286636e-05, 7.38330784e-05, 7.32202415e-05, 7.31249229e-05,\n",
       "       7.27726931e-05, 7.20457334e-05, 7.13786621e-05, 7.09443971e-05,\n",
       "       7.06267399e-05, 6.98951783e-05, 6.93739045e-05, 6.91543109e-05,\n",
       "       6.85232779e-05, 6.77723736e-05, 6.75775253e-05, 6.68549273e-05,\n",
       "       6.68195681e-05, 6.64393123e-05, 6.60279798e-05, 6.55702480e-05,\n",
       "       6.49663203e-05, 6.45401172e-05, 6.41320671e-05, 6.38086495e-05,\n",
       "       6.32902988e-05, 6.29843469e-05, 6.22068495e-05, 6.20904327e-05,\n",
       "       6.14669688e-05, 6.08312357e-05, 6.04379889e-05, 6.01986596e-05,\n",
       "       5.98456893e-05, 5.94599429e-05, 5.91723949e-05, 5.89233200e-05,\n",
       "       5.80923841e-05, 5.79226770e-05, 5.75307087e-05, 5.70410343e-05,\n",
       "       5.66235224e-05, 5.58354808e-05, 5.54210673e-05, 5.52291769e-05,\n",
       "       5.48829694e-05, 5.44064614e-05, 5.40103090e-05, 5.36415889e-05,\n",
       "       5.28817943e-05, 5.26246245e-05, 5.25331106e-05, 5.21414447e-05,\n",
       "       5.16379421e-05, 5.14962730e-05, 5.08709888e-05, 5.08239579e-05,\n",
       "       5.04899699e-05, 4.99333089e-05, 4.96159088e-05, 4.93759653e-05,\n",
       "       4.87253043e-05, 4.85893604e-05, 4.83034445e-05, 4.82049475e-05,\n",
       "       4.74632454e-05, 4.70045267e-05, 4.67123174e-05, 4.63565326e-05,\n",
       "       4.57336156e-05, 4.53020708e-05, 4.50889871e-05, 4.45759000e-05,\n",
       "       4.41459302e-05, 4.40827705e-05, 4.38989367e-05, 4.36090752e-05,\n",
       "       4.34829115e-05, 4.31096403e-05, 4.27857874e-05, 4.22879279e-05,\n",
       "       4.21892845e-05, 4.18180822e-05, 4.17048009e-05, 4.14778609e-05,\n",
       "       4.12831036e-05, 4.09465295e-05, 4.06336888e-05, 4.04346516e-05,\n",
       "       4.01408094e-05, 3.96202251e-05, 3.95350678e-05, 3.90592381e-05,\n",
       "       3.87337645e-05, 3.84404086e-05, 3.82423914e-05, 3.79543998e-05,\n",
       "       3.78508568e-05, 3.74386894e-05, 3.72146749e-05, 3.70642364e-05,\n",
       "       3.66247610e-05, 3.63707833e-05, 3.62411227e-05, 3.56967328e-05,\n",
       "       3.54927758e-05, 3.52763840e-05, 3.47498854e-05, 3.46993319e-05,\n",
       "       3.41211469e-05, 3.38394967e-05, 3.37165361e-05, 3.35058153e-05,\n",
       "       3.32515339e-05, 3.31556572e-05, 3.26986236e-05, 3.25326726e-05,\n",
       "       3.24586291e-05, 3.20067746e-05, 3.15335604e-05, 3.13446751e-05,\n",
       "       3.10500978e-05, 3.08363613e-05, 3.04541576e-05, 3.03050578e-05,\n",
       "       3.01667953e-05, 2.99380073e-05, 2.96258173e-05, 2.95761212e-05,\n",
       "       2.92422459e-05, 2.89468121e-05, 2.86026904e-05, 2.84326651e-05,\n",
       "       2.81666299e-05, 2.80154858e-05, 2.76755713e-05, 2.73277043e-05,\n",
       "       2.69477377e-05, 2.66794175e-05, 2.64022992e-05, 2.62941991e-05,\n",
       "       2.60506208e-05, 2.58916199e-05, 2.55879932e-05, 2.54151221e-05,\n",
       "       2.52034185e-05, 2.50671355e-05, 2.48362132e-05, 2.46982840e-05,\n",
       "       2.44693304e-05, 2.40161672e-05, 2.37360699e-05, 2.35104051e-05,\n",
       "       2.32244985e-05, 2.31087717e-05, 2.29124207e-05, 2.25126298e-05,\n",
       "       2.23464836e-05, 2.22444178e-05, 2.17510427e-05, 2.16443480e-05,\n",
       "       2.15169321e-05, 2.12856260e-05, 2.12622251e-05, 2.10255430e-05,\n",
       "       2.09698370e-05, 2.06688035e-05, 2.04278112e-05, 2.03005132e-05,\n",
       "       1.99126314e-05, 1.98315496e-05, 1.96432181e-05, 1.94369047e-05,\n",
       "       1.90268119e-05, 1.88549007e-05, 1.85433920e-05, 1.84466181e-05,\n",
       "       1.82724151e-05, 1.81179816e-05, 1.79589420e-05, 1.78760608e-05,\n",
       "       1.77524579e-05, 1.75271198e-05, 1.74090874e-05, 1.72771222e-05,\n",
       "       1.70666048e-05, 1.68285017e-05, 1.66167312e-05, 1.65279451e-05,\n",
       "       1.64247923e-05, 1.63088657e-05, 1.59845440e-05, 1.59255058e-05,\n",
       "       1.56514095e-05, 1.55924823e-05, 1.53352602e-05, 1.52307011e-05,\n",
       "       1.50992057e-05, 1.50886552e-05, 1.48393678e-05, 1.46589132e-05,\n",
       "       1.44637335e-05, 1.42437695e-05, 1.39494126e-05, 1.39378474e-05,\n",
       "       1.38099072e-05, 1.36778000e-05, 1.36150576e-05, 1.34482911e-05,\n",
       "       1.33728023e-05, 1.32768343e-05, 1.32085631e-05, 1.30594761e-05,\n",
       "       1.29877555e-05, 1.27633816e-05, 1.27380213e-05, 1.25442557e-05,\n",
       "       1.24838603e-05, 1.23071350e-05, 1.21346452e-05, 1.20942720e-05,\n",
       "       1.20076266e-05, 1.18203072e-05, 1.17164848e-05, 1.16428070e-05,\n",
       "       1.15817480e-05, 1.15434095e-05, 1.12577498e-05, 1.11463280e-05,\n",
       "       1.11192449e-05, 1.09610768e-05, 1.08602967e-05, 1.07591113e-05,\n",
       "       1.07182106e-05, 1.05839793e-05, 1.05514381e-05, 1.03810400e-05,\n",
       "       1.02657842e-05, 1.01583915e-05, 1.00278474e-05, 9.90928335e-06,\n",
       "       9.88127408e-06, 9.78914659e-06, 9.76845677e-06, 9.61478074e-06,\n",
       "       9.56702285e-06, 9.34958145e-06, 9.29481680e-06, 9.17386082e-06,\n",
       "       9.04939887e-06, 9.02246650e-06, 8.87825449e-06, 8.85521941e-06,\n",
       "       8.71033021e-06, 8.66460269e-06, 8.61355751e-06, 8.58698449e-06,\n",
       "       8.45787622e-06, 8.40070548e-06, 8.29401521e-06, 8.20962423e-06,\n",
       "       8.09945753e-06, 8.08077904e-06, 8.01647291e-06, 7.99362232e-06,\n",
       "       7.86262243e-06, 7.80642919e-06, 7.68979076e-06, 7.62550684e-06,\n",
       "       7.57773899e-06, 7.51676916e-06, 7.37526654e-06, 7.36681597e-06,\n",
       "       7.19625688e-06, 7.16747233e-06, 7.07167025e-06, 6.95032647e-06,\n",
       "       6.91805239e-06, 6.83520620e-06, 6.80250343e-06, 6.74957303e-06,\n",
       "       6.64481948e-06, 6.59253104e-06, 6.53004228e-06, 6.45998710e-06,\n",
       "       6.37444709e-06, 6.33465158e-06, 6.18680256e-06, 6.13709360e-06,\n",
       "       6.01806457e-06, 6.01209993e-06, 5.93597669e-06, 5.79409002e-06,\n",
       "       5.70322462e-06, 5.68777537e-06, 5.62974962e-06, 5.56351728e-06,\n",
       "       5.47705384e-06, 5.41479698e-06, 5.34489394e-06, 5.30445389e-06,\n",
       "       5.22384266e-06, 5.17136266e-06, 5.10847662e-06, 5.04195228e-06,\n",
       "       4.96147516e-06, 4.81859387e-06, 4.66656926e-06, 4.58101445e-06,\n",
       "       4.51472063e-06, 4.14773584e-06, 3.63851587e-06, 1.51252964e-09])"
      ]
     },
     "execution_count": 18,
     "metadata": {},
     "output_type": "execute_result"
    }
   ],
   "source": [
    "eigenvalues_trump"
   ]
  },
  {
   "cell_type": "code",
   "execution_count": 11,
   "metadata": {},
   "outputs": [
    {
     "data": {
      "application/vnd.jupyter.widget-view+json": {
       "model_id": "0f5696e8ff324506bfc11480cff3d395",
       "version_major": 2,
       "version_minor": 0
      },
      "text/plain": [
       "Batches:   0%|          | 0/944 [00:00<?, ?it/s]"
      ]
     },
     "metadata": {},
     "output_type": "display_data"
    },
    {
     "data": {
      "application/vnd.jupyter.widget-view+json": {
       "model_id": "3c751ddaeb034895b02d9dcf1a872ce9",
       "version_major": 2,
       "version_minor": 0
      },
      "text/plain": [
       "Batches:   0%|          | 0/4 [00:00<?, ?it/s]"
      ]
     },
     "metadata": {},
     "output_type": "display_data"
    }
   ],
   "source": [
    "# encode the raw text\n",
    "import pandas as pd\n",
    "import numpy as np\n",
    "\n",
    "trump = pd.read_csv(\"../data/trump.csv\")\n",
    "trump_embedding = model.encode(trump.Message.tolist(), show_progress_bar=True)\n",
    "# read the summary data\n",
    "import re\n",
    "\n",
    "trump_summary = pd.read_csv(\"../data/trump_sample_summaries.csv\")\n",
    "# clean the summary data\n",
    "pattern_end = re.compile(r\"<\\|eot_id\\|>\")\n",
    "pattern_header = re.compile(r\"^.*\\|>\")\n",
    "pattern_paragraph = re.compile(r\"\\s*\\([^)]*\\)\")\n",
    "trump_summary[\"summary\"] = (\n",
    "    trump_summary[\"summary\"]\n",
    "    .apply(lambda x: pattern_end.sub(\"\", x))\n",
    "    .apply(lambda x: pattern_header.sub(\"\", x))\n",
    "    .apply(lambda x: pattern_paragraph.sub(\"\", x))\n",
    ")\n",
    "# encode the summary\n",
    "trump_summary_embedding = model.encode(\n",
    "    trump_summary.summary.tolist(), show_progress_bar=True\n",
    ")\n",
    "\n",
    "# calculate the covariance matrix\n",
    "cov_trump_matrix = np.cov(trump_embedding.T)\n",
    "cov_trump_summary_matrix = np.cov(trump_summary_embedding.T)\n",
    "\n",
    "# eigen decomposition\n",
    "eigenvalues_trump, eigenvectors_trump = np.linalg.eig(cov_trump_matrix)\n",
    "eigenvalues_trump_summary, eigenvectors_trump_summary = np.linalg.eig(\n",
    "    cov_trump_summary_matrix\n",
    ")\n",
    "\n",
    "# sort the eigenvalues\n",
    "idx_trump = eigenvalues_trump.argsort()[::-1]\n",
    "eigenvalues_trump = eigenvalues_trump[idx_trump]\n",
    "eigenvectors_trump = eigenvectors_trump[:, idx_trump]\n",
    "\n",
    "idx_trump_summary = eigenvalues_trump_summary.argsort()[::-1]\n",
    "eigenvalues_trump_summary = eigenvalues_trump_summary[idx_trump_summary]\n",
    "eigenvectors_trump_summary = eigenvectors_trump_summary[:, idx_trump_summary]\n"
   ]
  },
  {
   "cell_type": "markdown",
   "metadata": {},
   "source": [
    "### Plot the eigenvalues ratio"
   ]
  },
  {
   "cell_type": "code",
   "execution_count": 7,
   "metadata": {},
   "outputs": [
    {
     "data": {
      "text/plain": [
       "<AxesSubplot: >"
      ]
     },
     "execution_count": 7,
     "metadata": {},
     "output_type": "execute_result"
    },
    {
     "data": {
      "image/png": "[encoded data removed]",
      "text/plain": [
       "<Figure size 1920x1440 with 1 Axes>"
      ]
     },
     "metadata": {},
     "output_type": "display_data"
    }
   ],
   "source": [
    "import matplotlib.pyplot as plt\n",
    "import seaborn as sns\n",
    "\n",
    "# do the same to trump\n",
    "results = np.array(\n",
    "    [\n",
    "        np.dot(\n",
    "            np.dot(eigenvectors_trump[:, i].T, cov_trump_summary_matrix),\n",
    "            eigenvectors_trump[:, i],\n",
    "        )\n",
    "        for i in range(eigenvectors_trump.shape[1])\n",
    "    ]\n",
    ")\n",
    "\n",
    "plt.figure(dpi=300)\n",
    "sns.scatterplot(results[:100] / eigenvalues_trump[:100])\n"
   ]
  },
  {
   "cell_type": "code",
   "execution_count": 14,
   "metadata": {},
   "outputs": [
    {
     "name": "stderr",
     "output_type": "stream",
     "text": [
      "[nltk_data] Downloading package words to /home/maolee/nltk_data...\n",
      "[nltk_data]   Package words is already up-to-date!\n"
     ]
    },
    {
     "data": {
      "application/vnd.jupyter.widget-view+json": {
       "model_id": "f21cf13c8a8844fcbc02cfa51aca89eb",
       "version_major": 2,
       "version_minor": 0
      },
      "text/plain": [
       "Batches:   0%|          | 0/316 [00:00<?, ?it/s]"
      ]
     },
     "metadata": {},
     "output_type": "display_data"
    }
   ],
   "source": [
    "import nltk\n",
    "import torch\n",
    "import re\n",
    "from nltk.corpus import words\n",
    "from sentence_transformers import SentenceTransformer\n",
    "from tqdm.notebook import tqdm\n",
    "\n",
    "nltk.download(\"words\")\n",
    "candidates = words.words()\n",
    "# nltk.download(\"words\")\n",
    "# fetch out all unqiue words in the random data\n",
    "unique_words = set()\n",
    "pattern = re.compile(r\"[^a-zA-Z]\")\n",
    "for sentence in trump[\"Message\"]:\n",
    "    words = sentence.split()\n",
    "    for word in words:\n",
    "        word = pattern.sub(\"\", word)\n",
    "        unique_words.add(word.lower())\n",
    "\n",
    "\n",
    "# Replace non-alphabetic characters with an empty string\n",
    "\n",
    "words = list(unique_words.intersection(candidates))\n",
    "# words = list(unique_words)\n",
    "# You might want to filter this\n",
    "\n",
    "# Load a pre-trained model\n",
    "# Load SBERT model\n",
    "model = SentenceTransformer(\"BAAI/bge-base-en-v1.5\", device=\"cuda\")\n",
    "\n",
    "word_precomputed_embeddings = model.encode(words, show_progress_bar=True)\n",
    "word_embeddings = {\n",
    "    words[i]: torch.tensor(word_precomputed_embeddings[i]) for i in range(len(words))\n",
    "}\n",
    "\n",
    "\n",
    "def find_closest_word(target_embedding, word_dict):\n",
    "    best_similarity = float(\"-inf\")\n",
    "    closest_word = None\n",
    "    target_embedding = torch.tensor(target_embedding)\n",
    "    for word, embedding in word_dict.items():\n",
    "        embedding = torch.tensor(embedding)\n",
    "        similarity = torch.cosine_similarity(target_embedding, embedding, dim=0).item()\n",
    "        if similarity > best_similarity:\n",
    "            best_similarity = similarity\n",
    "            closest_word = word\n",
    "    return closest_word\n",
    "\n",
    "\n",
    "def compute_sentence_embedding(sentence, model):\n",
    "    return model.encode(sentence)\n",
    "\n",
    "\n",
    "def find_closest_word(target_embedding, word_dict):\n",
    "    best_similarity = -float(\"inf\")\n",
    "    closest_word = None\n",
    "    for word, embedding in word_dict.items():\n",
    "        similarity = torch.cosine_similarity(target_embedding, embedding, dim=0).item()\n",
    "        if similarity > best_similarity:\n",
    "            best_similarity = similarity\n",
    "            closest_word = word\n",
    "    return closest_word\n",
    "\n",
    "\n",
    "def reconstruct_sentence(target_embedding, word_dict, model, max_length=10):\n",
    "    # Initialize with the closest word to the target embedding\n",
    "    current_sentence = [find_closest_word(target_embedding, word_dict)]\n",
    "    current_embedding = compute_sentence_embedding([\" \".join(current_sentence)], model)\n",
    "\n",
    "    while len(current_sentence) < max_length:\n",
    "        best_sentence = None\n",
    "        best_similarity = -float(\"inf\")\n",
    "\n",
    "        # Generate all possible new sentences by adding one word in all possible positions\n",
    "        new_sentences = []\n",
    "        for word in word_dict.keys():\n",
    "            for i in range(len(current_sentence) + 1):\n",
    "                new_sentence = current_sentence[:i] + [word] + current_sentence[i:]\n",
    "                new_sentences.append(\" \".join(new_sentence))\n",
    "\n",
    "        # Compute embeddings for all new sentences in one go\n",
    "        new_embeddings = model.encode(\n",
    "            new_sentences, convert_to_tensor=True, batch_size=128\n",
    "        )\n",
    "\n",
    "        # Calculate similarities and find the best sentence\n",
    "        similarities = torch.cosine_similarity(\n",
    "            target_embedding.unsqueeze(0).to(\"cuda\"), new_embeddings.to(\"cuda\"), dim=1\n",
    "        )\n",
    "        best_idx = torch.argmax(similarities).item()\n",
    "\n",
    "        best_sentence = new_sentences[best_idx].split()\n",
    "        current_sentence = best_sentence\n",
    "        current_embedding = new_embeddings[best_idx]\n",
    "        print(\n",
    "            \" \".join(current_sentence)\n",
    "            + \", Similarity: \"\n",
    "            + str(similarities[best_idx].cpu().numpy())\n",
    "        )\n",
    "\n",
    "    return \" \".join(current_sentence)"
   ]
  },
  {
   "cell_type": "code",
   "execution_count": 16,
   "metadata": {},
   "outputs": [
    {
     "name": "stderr",
     "output_type": "stream",
     "text": [
      "/tmp/ipykernel_629527/4042558291.py:1: ComplexWarning: Casting complex values to real discards the imaginary part\n",
      "  eigenvectors_trump_summary[:,0].astype(float)\n"
     ]
    },
    {
     "data": {
      "text/plain": [
       "array([ 1.43483381e-01,  4.10537108e-02,  5.10572433e-02,  2.28432325e-02,\n",
       "       -1.86912412e-02,  7.94963507e-02,  3.80899088e-02,  1.56960727e-02,\n",
       "        5.32179016e-02,  3.41305099e-02,  2.77312620e-02, -5.04921296e-02,\n",
       "       -3.15553667e-02, -1.17652034e-02, -3.31758431e-02,  2.74965843e-02,\n",
       "       -8.23862450e-03, -9.04985378e-03,  3.74123236e-02,  3.64526096e-02,\n",
       "       -9.45895850e-03,  5.14694999e-02,  1.54676651e-02, -7.25465975e-02,\n",
       "       -6.23443749e-03,  1.33817569e-02,  4.00980331e-03,  3.48491842e-02,\n",
       "        2.30135250e-02, -2.91870210e-02, -6.29887075e-03,  3.98592330e-02,\n",
       "       -1.24853232e-02,  3.21993778e-03, -1.58823448e-02,  2.81898600e-02,\n",
       "        2.80107274e-02,  4.50293362e-02, -8.25676567e-03, -3.16514817e-02,\n",
       "       -2.86573711e-02,  2.61111831e-02, -1.94920067e-02, -3.76695978e-02,\n",
       "        4.11224915e-02,  1.81488587e-02,  1.80169003e-02,  2.23866819e-02,\n",
       "       -3.28941397e-03, -6.79112298e-03,  8.18339632e-03,  4.35133827e-02,\n",
       "        6.92810374e-02,  3.74062157e-02, -5.07448449e-02, -1.09988966e-02,\n",
       "        1.04244450e-02, -3.20048963e-02,  2.46690008e-02, -1.52627447e-02,\n",
       "        2.08843966e-02, -3.75954447e-02, -1.66420927e-02, -4.35632752e-03,\n",
       "        2.22693703e-03,  3.84024274e-04,  9.52915531e-03,  2.62837426e-02,\n",
       "       -6.25358543e-02,  1.29521141e-02,  4.55518614e-02,  1.39026523e-02,\n",
       "       -8.19365163e-03, -9.80042494e-03,  1.61530570e-02, -1.37725051e-02,\n",
       "       -2.73655388e-02,  1.07566847e-02,  5.54073081e-03,  9.85991723e-03,\n",
       "       -7.20292510e-02, -7.26814728e-04,  3.29410909e-02,  2.84110798e-02,\n",
       "        6.75595541e-02, -4.48490642e-03, -4.62794419e-04,  5.78686824e-02,\n",
       "       -6.70106544e-02,  6.45753251e-04,  2.96865228e-03,  1.72661252e-02,\n",
       "       -6.28313796e-03, -3.18508977e-02,  2.34626780e-02,  2.93445581e-02,\n",
       "        1.80379251e-02,  2.38260886e-02,  1.22019375e-02, -1.18179561e-01,\n",
       "       -1.71240529e-02, -4.68957772e-02, -5.16181230e-02, -9.13996624e-03,\n",
       "        2.88307990e-03, -5.10787286e-02, -1.62446092e-02, -2.12987087e-02,\n",
       "        9.11107607e-03,  2.40472687e-02,  2.09433105e-02, -3.30966082e-02,\n",
       "       -1.75080554e-02,  5.25414593e-03,  4.55872949e-02,  1.31595618e-02,\n",
       "        1.42249098e-02, -2.62011074e-03, -1.14659672e-02,  1.68882503e-02,\n",
       "        5.70525771e-03, -2.37841693e-02, -1.80213200e-02, -8.11694482e-03,\n",
       "       -5.03660265e-02,  5.05199007e-02, -2.18295766e-02, -1.12205210e-02,\n",
       "       -1.48728423e-02,  4.19818815e-02,  4.41610228e-02, -1.92561904e-02,\n",
       "       -7.05949070e-02, -2.32482261e-02,  2.61930848e-02, -2.21631825e-02,\n",
       "        4.07784349e-03,  4.76464024e-02,  1.43098055e-02,  2.32348940e-02,\n",
       "        5.57284621e-03, -3.27457556e-03,  1.60491212e-02,  3.52155140e-02,\n",
       "       -4.00439925e-02,  8.45103625e-02, -1.97890755e-02,  2.26514137e-02,\n",
       "       -1.66525495e-02,  2.26463042e-02,  8.94931147e-03, -9.11599542e-02,\n",
       "       -1.58853115e-02,  6.43581101e-02, -8.34701293e-03, -2.16198894e-02,\n",
       "        2.97339324e-02,  1.01259074e-02,  1.28978426e-02,  3.35540305e-02,\n",
       "        2.34782391e-02,  1.99616955e-02,  1.46943694e-02,  1.26259153e-02,\n",
       "        1.50623402e-02, -1.20435716e-01, -1.87197696e-03,  1.26665012e-02,\n",
       "        3.79952643e-02, -3.95454325e-02,  1.91349156e-02, -8.00143558e-04,\n",
       "       -5.54591037e-03,  7.73555850e-03,  1.91914199e-02,  5.12067760e-02,\n",
       "       -1.77456480e-02, -2.57470100e-03, -1.06970915e-02, -5.12312960e-03,\n",
       "       -9.22316697e-03,  2.89182536e-02,  7.28053583e-02,  7.30271896e-02,\n",
       "        1.05339053e-02, -2.77189688e-02, -1.70474082e-02,  1.54250660e-02,\n",
       "        2.41188619e-02,  1.86680969e-02, -1.60516206e-02, -5.96566934e-03,\n",
       "        1.31066160e-02,  5.28736341e-02,  6.49876747e-02, -4.59159279e-02,\n",
       "        5.04780960e-02,  9.25144532e-04, -6.46007497e-03, -6.55888000e-02,\n",
       "       -3.18965451e-02,  4.03857994e-02, -1.30262785e-02,  2.09120541e-03,\n",
       "        1.79594866e-02, -2.36336661e-02, -3.18683692e-02, -2.46738027e-02,\n",
       "       -5.04484431e-02,  1.63500193e-03,  2.52525162e-03, -3.40231984e-02,\n",
       "        5.70276374e-02, -3.10195483e-02, -9.95706577e-03,  4.52118205e-02,\n",
       "       -3.19157427e-02,  1.44594183e-02, -3.82386967e-03,  1.99944583e-03,\n",
       "        1.90947780e-02, -5.56913205e-02,  5.10448207e-02, -2.82846484e-02,\n",
       "        7.03517005e-02,  4.83271582e-03,  2.78109095e-02,  1.99098983e-03,\n",
       "        1.55611018e-02, -1.68060581e-02, -2.76138715e-03,  2.39570433e-02,\n",
       "       -8.94276083e-03,  2.47071486e-04, -1.83120339e-02,  6.12182143e-02,\n",
       "       -7.12016814e-02, -8.91504844e-02, -5.65010974e-02, -3.30787163e-02,\n",
       "        1.69483279e-02,  2.78696433e-02, -5.62525366e-02,  1.72630381e-02,\n",
       "        9.23998569e-03, -5.67054482e-02,  2.49674797e-02, -1.74055412e-02,\n",
       "       -4.61161595e-02,  1.58727184e-02,  1.30535557e-02, -1.62622312e-02,\n",
       "       -2.15306997e-02, -8.37580638e-03, -1.87197569e-02, -3.23687117e-02,\n",
       "        2.40786699e-02,  6.10917006e-02, -1.82930174e-02,  3.58548887e-02,\n",
       "        1.79993755e-02,  2.41127662e-02, -2.88315585e-02,  5.01095417e-02,\n",
       "        3.95732550e-02,  1.21819642e-02, -3.09753088e-02, -2.09586926e-02,\n",
       "        3.07425991e-02,  5.57365266e-02,  6.44406266e-02, -1.60294290e-02,\n",
       "        2.26029822e-03,  2.30627789e-02, -1.80491605e-03, -4.21542757e-02,\n",
       "       -1.33508261e-03, -2.04675137e-02,  3.61508893e-02, -4.98952377e-02,\n",
       "       -4.78929327e-02,  8.12630574e-03,  2.03602451e-03, -2.10137963e-02,\n",
       "       -3.66401185e-02,  1.43496209e-03,  7.62541787e-03,  3.79694437e-02,\n",
       "       -1.54953794e-02, -2.27972843e-02, -3.54174816e-02, -1.87505277e-02,\n",
       "        4.79112656e-02, -2.37719552e-02,  1.61447650e-02, -6.93937889e-02,\n",
       "       -3.92574625e-02, -4.10199721e-02, -4.91245563e-02,  1.77246400e-02,\n",
       "       -3.48530145e-02,  4.94012476e-02,  5.46006624e-02,  3.57593744e-02,\n",
       "        1.01205130e-02, -3.82050592e-02, -1.46941162e-03, -4.11208881e-02,\n",
       "       -2.06421941e-02,  3.03004717e-02,  8.21833845e-02,  1.42632771e-02,\n",
       "        1.07202107e-02, -1.90455847e-02,  3.30312695e-02, -1.75227676e-02,\n",
       "        2.64531797e-02, -1.55296372e-02,  1.73290932e-02,  5.32111431e-02,\n",
       "       -3.66766512e-02, -1.67990227e-02, -3.06609672e-02, -4.50775206e-02,\n",
       "       -3.92898051e-02, -3.31685350e-02,  3.55864308e-02,  1.59905552e-02,\n",
       "        4.88249987e-02,  4.11228988e-02, -3.60086908e-03,  4.80150535e-04,\n",
       "       -1.29960256e-02,  4.21900048e-02, -5.80416661e-03,  1.74981952e-02,\n",
       "        2.76306176e-02,  8.30409598e-02,  2.66014500e-02,  2.80339787e-02,\n",
       "        1.74870509e-02,  1.67966668e-02,  5.41587242e-02, -1.92780228e-03,\n",
       "       -1.53528451e-02, -9.24866794e-03, -2.27320394e-03, -1.71076928e-02,\n",
       "       -2.65518111e-02,  1.85886626e-02, -4.49640766e-02, -2.07817407e-02,\n",
       "        2.58244500e-02,  3.74730674e-02,  3.02282795e-02,  5.99370796e-02,\n",
       "       -5.66041070e-03,  3.49388269e-02, -4.18371062e-02, -6.18844550e-02,\n",
       "        2.21622050e-02, -2.79114603e-03, -1.74643219e-03, -4.75276086e-02,\n",
       "       -1.21246172e-02,  8.53398141e-03, -1.20190812e-02, -1.32417564e-01,\n",
       "        3.86433469e-02,  9.25242703e-03, -3.44967824e-03, -8.14487003e-03,\n",
       "       -3.67074126e-02, -1.32414945e-02, -2.59144756e-02,  4.02619610e-02,\n",
       "       -1.53307489e-03, -4.40660008e-02, -3.86775756e-02, -1.32873532e-03,\n",
       "       -3.71919297e-02,  1.24884279e-02,  2.08024257e-02,  4.04178150e-02,\n",
       "        5.53277710e-03,  5.19646743e-02,  1.01284614e-01, -2.87594025e-03,\n",
       "       -3.73485054e-02, -6.38722110e-03,  3.74960528e-02,  1.15424377e-02,\n",
       "        2.43782497e-02, -1.63077749e-02, -6.28097854e-03, -1.13864977e-01,\n",
       "       -2.41989134e-02,  1.78136916e-02,  7.82492512e-03, -4.06569958e-02,\n",
       "       -1.05966717e-01,  5.74800697e-02, -3.20331278e-02,  2.48643369e-02,\n",
       "        7.37178505e-02,  3.23165177e-02, -1.11839350e-02,  9.77636162e-03,\n",
       "        7.08833685e-02,  3.52222334e-03, -2.23871408e-02,  3.95534260e-03,\n",
       "       -1.71344307e-02, -3.51905379e-02, -2.94338400e-02,  2.31087777e-02,\n",
       "       -4.12298184e-02, -2.40749234e-02,  3.57808403e-02, -7.75355695e-02,\n",
       "       -6.67047806e-02, -4.55839759e-02, -7.49774578e-03, -2.00304312e-03,\n",
       "       -3.65931154e-02,  4.63479019e-02,  5.23870812e-02, -2.03607375e-02,\n",
       "        1.50780369e-02,  5.28257740e-02,  1.90175157e-02,  3.91485642e-02,\n",
       "        1.12271932e-02,  6.39087968e-03, -5.11207420e-03, -7.71976000e-02,\n",
       "       -1.81498787e-02,  1.95552562e-02, -4.37515920e-02, -5.44016533e-02,\n",
       "        2.12941052e-02, -3.80636427e-02, -2.31643372e-03,  5.42915434e-02,\n",
       "       -1.01397838e-02, -5.11414277e-02,  4.70547211e-02, -2.09954110e-02,\n",
       "        2.70944156e-02,  1.30718558e-02, -6.44616173e-03, -4.56857268e-02,\n",
       "        1.44779706e-03,  5.50339308e-02, -2.30421951e-02,  3.63036945e-02,\n",
       "        7.39101567e-02, -2.51833998e-02,  1.57657512e-02,  3.04330213e-02,\n",
       "       -2.48826722e-02,  1.21734273e-02,  3.94828947e-02,  2.77473271e-02,\n",
       "       -1.29164306e-02, -4.38169062e-02,  1.37054252e-02,  7.48711907e-02,\n",
       "       -2.96779648e-02, -4.30106006e-02, -9.47865116e-03, -3.48430206e-02,\n",
       "       -3.76217959e-02, -3.02988023e-02, -3.98084363e-02,  2.57821328e-02,\n",
       "        4.20076990e-03, -4.10414818e-02,  1.21605461e-02,  3.31613964e-03,\n",
       "       -2.07170149e-02,  5.40815961e-03, -6.38349815e-02, -2.35295560e-02,\n",
       "       -5.43553679e-03, -3.39908576e-02,  7.63507796e-03,  2.44910546e-02,\n",
       "       -9.39146981e-03,  3.85193141e-02,  3.07736646e-02,  4.53000457e-02,\n",
       "        2.75489423e-02,  9.74797157e-02, -2.96195022e-02,  4.53982258e-03,\n",
       "       -5.90889835e-02,  5.20698104e-02, -1.36766666e-02,  3.21541471e-03,\n",
       "       -2.63932311e-02,  1.18923201e-02, -2.56888235e-02,  6.49823846e-03,\n",
       "        1.90726611e-02, -6.15655648e-02,  6.06607470e-03,  3.24543576e-03,\n",
       "       -2.53062952e-04,  7.11228156e-02, -1.69670446e-04,  1.96929800e-02,\n",
       "        1.77071571e-02, -2.28563802e-02,  3.02765795e-02,  4.34197356e-02,\n",
       "       -2.99882886e-02, -1.43467221e-02,  4.26468614e-02, -1.10247406e-02,\n",
       "        1.71412772e-02, -2.81620377e-02,  2.62521066e-02, -5.45893029e-02,\n",
       "       -2.98901874e-02, -4.89642267e-03,  7.24399517e-02, -1.70590039e-02,\n",
       "       -1.21454744e-02, -5.82285117e-02, -2.76092988e-02, -3.57525871e-02,\n",
       "       -2.89708755e-03,  4.04694636e-02,  5.54359671e-02, -3.10784951e-02,\n",
       "        5.85086866e-03, -4.48975895e-02,  4.38351118e-03,  1.31163687e-03,\n",
       "       -1.53422720e-02,  5.77804999e-02, -5.06800369e-02, -2.47823493e-03,\n",
       "        4.78089451e-02,  2.06544014e-02, -3.94729940e-02, -2.68129419e-02,\n",
       "       -5.73995075e-02, -5.38315634e-02, -1.62936194e-03, -5.14703707e-02,\n",
       "       -3.33820326e-02, -1.86048632e-03,  1.36537278e-02, -1.23294162e-02,\n",
       "        5.60409616e-02, -2.92241427e-02,  2.88614891e-03,  1.84997159e-02,\n",
       "       -7.26362731e-02,  5.15434903e-02, -1.29383589e-02, -5.85792739e-03,\n",
       "       -8.76341568e-02, -5.74296175e-02,  1.95165146e-02, -1.60652763e-02,\n",
       "       -3.92747402e-02, -4.04259621e-02,  4.72790193e-02,  8.37912101e-03,\n",
       "       -3.08272711e-02, -1.31497874e-02,  4.14134678e-02,  2.61342189e-02,\n",
       "        9.12633606e-04, -9.32267867e-03,  3.75540123e-03,  1.22871645e-02,\n",
       "        6.78409135e-02, -1.12283349e-03, -4.31506804e-02, -1.88362319e-02,\n",
       "       -6.63077677e-02,  5.99791365e-03, -8.15463210e-03, -2.80640308e-03,\n",
       "        4.51005475e-02,  1.02276336e-02, -2.87753834e-02,  1.85846668e-02,\n",
       "        5.13397688e-02, -6.35664978e-02,  1.22377568e-02, -9.14381518e-02,\n",
       "        3.00268094e-02,  4.68608075e-02,  8.63962464e-03, -4.31076010e-03,\n",
       "       -2.44861755e-02, -2.13703216e-02, -1.55302138e-02,  4.96068016e-02,\n",
       "        6.29442949e-03, -2.64363926e-02, -3.61198984e-02,  6.81270831e-02,\n",
       "        6.68052474e-03, -5.79999462e-03,  5.09069269e-02, -8.45352226e-03,\n",
       "        4.90258113e-02, -2.52106378e-02, -7.41268786e-02, -8.00360695e-02,\n",
       "       -2.51992058e-02,  4.60548113e-02, -1.05223711e-02,  2.19570491e-03,\n",
       "        1.78269633e-02,  2.85086708e-02, -6.29651188e-03,  6.37133036e-03,\n",
       "        1.71837904e-03,  2.03271385e-02, -4.23912710e-02, -4.41699379e-02,\n",
       "        3.74017305e-03,  1.90123179e-02,  3.89027582e-02,  3.18293924e-02,\n",
       "        1.49716810e-02,  1.77147153e-02, -1.49991271e-02, -4.50484501e-03,\n",
       "       -1.85827360e-02,  3.75519494e-02,  7.50020784e-02,  9.21217959e-03,\n",
       "       -2.44283684e-02,  4.55898364e-02, -1.52870820e-02, -3.24386126e-02,\n",
       "       -3.24705764e-03,  9.09581848e-02, -1.84610956e-02,  1.28739612e-02,\n",
       "        1.07753471e-02, -1.65445297e-02,  1.14137570e-02,  6.44279404e-02,\n",
       "       -7.31684660e-02, -2.13971681e-02, -4.77907540e-02,  3.89661327e-02,\n",
       "       -2.93547236e-02, -7.26810023e-02,  3.00304684e-02,  8.78674372e-02,\n",
       "        3.14964117e-02, -2.20757715e-03,  5.12830700e-02, -7.91411439e-02,\n",
       "        2.40274003e-05,  3.49819178e-02,  2.53366154e-02, -5.57109307e-03,\n",
       "        7.13741450e-02, -1.12661570e-03, -5.17449017e-02, -1.96691031e-02,\n",
       "        1.14865957e-02,  1.92751088e-02,  8.49879879e-03, -3.18217513e-02,\n",
       "       -3.31749758e-03, -2.04151977e-02,  7.40207886e-02, -5.40019038e-03,\n",
       "        2.90825609e-02,  9.63330713e-03, -4.18314398e-02,  1.84480686e-02,\n",
       "        2.13695672e-02,  7.81950730e-04,  1.34428908e-02,  3.32314464e-02,\n",
       "       -1.61176737e-02, -1.28717514e-02, -3.09716695e-02, -2.66689117e-02,\n",
       "       -5.56555782e-02, -2.64436974e-02, -4.16072110e-02,  1.62917230e-03,\n",
       "       -5.01234245e-04, -6.69489528e-03,  8.72176704e-03, -3.56025583e-02,\n",
       "       -1.34950020e-03, -5.16367601e-02,  1.19543593e-02,  8.25053612e-03,\n",
       "       -5.69095114e-02,  5.61471623e-02,  2.62890256e-02, -1.48392407e-02,\n",
       "        1.24404919e-02, -3.54248889e-02, -1.43748837e-02, -4.84472709e-02,\n",
       "        8.15688883e-02,  3.73750386e-02,  4.32838385e-02, -2.31867381e-02,\n",
       "       -3.01845231e-02, -5.83353187e-02,  2.49837940e-02, -2.04910087e-02,\n",
       "       -2.85040547e-02, -2.92711242e-02,  2.55198898e-02, -1.08454524e-02,\n",
       "       -5.92618969e-02,  2.65143547e-02,  6.64708387e-02, -1.04946735e-02,\n",
       "        4.27773891e-02, -1.11067097e-02,  1.75529269e-02, -3.32271957e-02,\n",
       "       -3.48097297e-02,  2.62315946e-02, -6.02920710e-02, -1.50872368e-02,\n",
       "       -1.56333467e-02, -2.83323391e-02, -3.06326622e-03, -6.80575568e-03,\n",
       "        1.03737170e-02, -7.27084803e-02, -1.51776112e-02, -7.73707130e-02,\n",
       "        3.19192141e-02,  1.05548451e-02,  2.46303861e-02, -1.71143932e-03,\n",
       "        1.22506120e-02, -3.55528085e-03,  5.97156241e-02,  8.37043725e-02,\n",
       "       -1.15725291e-02, -2.58848382e-02,  2.83769816e-02, -3.98053298e-02,\n",
       "       -2.91617027e-02, -2.48142896e-02,  5.38721960e-03,  6.55804449e-03,\n",
       "       -4.57962122e-02,  3.34305396e-02, -5.93128695e-02,  2.97934729e-03,\n",
       "       -7.26743124e-03, -7.26019556e-02,  1.30890048e-02,  1.80223765e-02])"
      ]
     },
     "execution_count": 16,
     "metadata": {},
     "output_type": "execute_result"
    }
   ],
   "source": [
    "eigenvectors_trump_summary[:, 0].astype(float)"
   ]
  },
  {
   "cell_type": "code",
   "execution_count": 7,
   "metadata": {},
   "outputs": [
    {
     "name": "stdout",
     "output_type": "stream",
     "text": [
      "discussion profiting, Similarity: 0.4161770093908356\n",
      "discussion here profiting, Similarity: 0.4559163574394025\n",
      "discussion here genuinely profiting, Similarity: 0.4734785244675248\n",
      "discussion here genuinely profiting elect, Similarity: 0.4945077445934937\n",
      "discussion here genuinely profiting elect greatness, Similarity: 0.5159406229977197\n",
      "discussion here genuinely mid profiting elect greatness, Similarity: 0.5330721811293418\n",
      "forum discussion here genuinely mid profiting elect greatness, Similarity: 0.548165891025083\n",
      "forum for discussion here genuinely mid profiting elect greatness, Similarity: 0.5552795739796638\n",
      "forum for discussion here genuinely mid casualty profiting elect greatness, Similarity: 0.5671470456864552\n",
      "Reconstructed Sentence:  forum for discussion here genuinely mid casualty profiting elect greatness\n"
     ]
    }
   ],
   "source": [
    "target_embedding = torch.tensor(eigenvectors_trump[:, 0])\n",
    "reconstructed_sentence = reconstruct_sentence(target_embedding, word_embeddings, model)\n",
    "print(\"Reconstructed Sentence: \", reconstructed_sentence)"
   ]
  },
  {
   "cell_type": "code",
   "execution_count": 5,
   "metadata": {},
   "outputs": [
    {
     "name": "stdout",
     "output_type": "stream",
     "text": [
      "advertising sank, Similarity: 0.21951692260854647\n",
      "advertising falsification sank, Similarity: 0.2834584208691887\n",
      "social advertising falsification sank, Similarity: 0.331637971056854\n",
      "social advertising ad falsification sank, Similarity: 0.3576275021196651\n",
      "irritant social advertising ad falsification sank, Similarity: 0.38522703858972784\n",
      "irritant social advertising ad falsification sank surfaced, Similarity: 0.4035401976696048\n",
      "irritant social advertising station ad falsification sank surfaced, Similarity: 0.41449575529678007\n",
      "irritant social savvy advertising station ad falsification sank surfaced, Similarity: 0.4299174834427136\n",
      "irritant social savvy advertising station sparks ad falsification sank surfaced, Similarity: 0.440577803767104\n",
      "Reconstructed Sentence:  irritant social savvy advertising station sparks ad falsification sank surfaced\n"
     ]
    }
   ],
   "source": [
    "target_embedding = torch.tensor(eigenvectors_trump[:, 1])\n",
    "reconstructed_sentence = reconstruct_sentence(target_embedding, word_embeddings, model)\n",
    "print(\"Reconstructed Sentence: \", reconstructed_sentence)"
   ]
  },
  {
   "cell_type": "code",
   "execution_count": 6,
   "metadata": {},
   "outputs": [
    {
     "name": "stdout",
     "output_type": "stream",
     "text": [
      "cartel unfollowed, Similarity: 0.25282607824077735\n",
      "viral cartel unfollowed, Similarity: 0.312033785789698\n",
      "viral ad cartel unfollowed, Similarity: 0.34412447755582837\n",
      "jurist viral ad cartel unfollowed, Similarity: 0.38111191378604575\n",
      "jurist bowls viral ad cartel unfollowed, Similarity: 0.4044909219521143\n",
      "jurist plant bowls viral ad cartel unfollowed, Similarity: 0.421480512801019\n",
      "jurist liberate plant bowls viral ad cartel unfollowed, Similarity: 0.43792147977918117\n",
      "world jurist liberate plant bowls viral ad cartel unfollowed, Similarity: 0.45413059992458116\n",
      "world jurist liberate plant bowls viral ad cartel barred unfollowed, Similarity: 0.46573151970758647\n",
      "Reconstructed Sentence:  world jurist liberate plant bowls viral ad cartel barred unfollowed\n"
     ]
    }
   ],
   "source": [
    "target_embedding = torch.tensor(eigenvectors_trump[:, 2])\n",
    "reconstructed_sentence = reconstruct_sentence(target_embedding, word_embeddings, model)\n",
    "print(\"Reconstructed Sentence: \", reconstructed_sentence)"
   ]
  },
  {
   "cell_type": "markdown",
   "metadata": {},
   "source": [
    "## Illegal"
   ]
  },
  {
   "cell_type": "code",
   "execution_count": 18,
   "metadata": {},
   "outputs": [
    {
     "data": {
      "application/vnd.jupyter.widget-view+json": {
       "model_id": "e506cc0054cb406bbcc8b3edc16c2bc5",
       "version_major": 2,
       "version_minor": 0
      },
      "text/plain": [
       "Batches:   0%|          | 0/539 [00:00<?, ?it/s]"
      ]
     },
     "metadata": {},
     "output_type": "display_data"
    },
    {
     "data": {
      "application/vnd.jupyter.widget-view+json": {
       "model_id": "871390c475c04bc3a659041c8f2076cd",
       "version_major": 2,
       "version_minor": 0
      },
      "text/plain": [
       "Batches:   0%|          | 0/4 [00:00<?, ?it/s]"
      ]
     },
     "metadata": {},
     "output_type": "display_data"
    }
   ],
   "source": [
    "illegal = pd.read_csv(\"../data/illegal.csv\")\n",
    "# encode the raw text\n",
    "illegal_embedding = model.encode(illegal.Message.tolist(), show_progress_bar=True)\n",
    "# read the summary data\n",
    "import re\n",
    "\n",
    "illegal_summary = pd.read_csv(\"../data/illegal_sample_summaries.csv\")\n",
    "# clean the summary data\n",
    "\n",
    "pattern_paragraph = re.compile(r\"\\s*\\([^)]*\\)\")\n",
    "illegal_summary[\"summary\"] = illegal_summary[\"summary\"].apply(\n",
    "    lambda x: pattern_paragraph.sub(\"\", x)\n",
    ")\n",
    "# encode the summary\n",
    "illegal_summary_embedding = model.encode(\n",
    "    illegal_summary.summary.tolist(), show_progress_bar=True\n",
    ")\n",
    "\n",
    "# calculate the covariance matrix\n",
    "cov_illegal_matrix = np.cov(illegal_embedding.T)\n",
    "cov_illegal_summary_matrix = np.cov(illegal_summary_embedding.T)\n",
    "\n",
    "# eigen decomposition\n",
    "eigenvalues_illegal, eigenvectors_illegal = np.linalg.eig(cov_illegal_matrix)\n",
    "eigenvalues_illegal_summary, eigenvectors_illegal_summary = np.linalg.eig(\n",
    "    cov_illegal_summary_matrix\n",
    ")\n",
    "\n",
    "# sort the eigenvalues\n",
    "idx_illegal = eigenvalues_illegal.argsort()[::-1]\n",
    "eigenvalues_illegal = eigenvalues_illegal[idx_illegal]\n",
    "eigenvectors_illegal = eigenvectors_illegal[:, idx_illegal]\n",
    "\n",
    "idx_illegal_summary = eigenvalues_illegal_summary.argsort()[::-1]\n",
    "eigenvalues_illegal_summary = eigenvalues_illegal_summary[idx_illegal_summary]\n",
    "eigenvectors_illegal_summary = eigenvectors_illegal_summary[:, idx_illegal_summary]\n"
   ]
  },
  {
   "cell_type": "code",
   "execution_count": 16,
   "metadata": {},
   "outputs": [
    {
     "data": {
      "text/plain": [
       "<AxesSubplot: >"
      ]
     },
     "execution_count": 16,
     "metadata": {},
     "output_type": "execute_result"
    },
    {
     "data": {
      "image/png": "[encoded data removed]",
      "text/plain": [
       "<Figure size 1920x1440 with 1 Axes>"
      ]
     },
     "metadata": {},
     "output_type": "display_data"
    }
   ],
   "source": [
    "import matplotlib.pyplot as plt\n",
    "import seaborn as sns\n",
    "\n",
    "# do the same to illegal\n",
    "results = np.array(\n",
    "    [\n",
    "        np.dot(\n",
    "            np.dot(eigenvectors_illegal[:, i].T, cov_illegal_summary_matrix),\n",
    "            eigenvectors_illegal[:, i],\n",
    "        )\n",
    "        for i in range(eigenvectors_illegal.shape[1])\n",
    "    ]\n",
    ")\n",
    "\n",
    "plt.figure(dpi=300)\n",
    "sns.scatterplot(results[:100] / eigenvalues_illegal[:100])\n"
   ]
  },
  {
   "cell_type": "code",
   "execution_count": 22,
   "metadata": {},
   "outputs": [
    {
     "name": "stderr",
     "output_type": "stream",
     "text": [
      "[nltk_data] Downloading package words to /home/maolee/nltk_data...\n",
      "[nltk_data]   Package words is already up-to-date!\n"
     ]
    },
    {
     "data": {
      "application/vnd.jupyter.widget-view+json": {
       "model_id": "d3f749da8ee84256aa5a10fb574eb482",
       "version_major": 2,
       "version_minor": 0
      },
      "text/plain": [
       "Batches:   0%|          | 0/233 [00:00<?, ?it/s]"
      ]
     },
     "metadata": {},
     "output_type": "display_data"
    },
    {
     "data": {
      "application/vnd.jupyter.widget-view+json": {
       "model_id": "5222dfb410754625a086965ae9235fc0",
       "version_major": 2,
       "version_minor": 0
      },
      "text/plain": [
       "Batches:   0%|          | 0/7398 [00:00<?, ?it/s]"
      ]
     },
     "metadata": {},
     "output_type": "display_data"
    }
   ],
   "source": [
    "import nltk\n",
    "import torch\n",
    "import re\n",
    "from nltk.corpus import words\n",
    "from sentence_transformers import SentenceTransformer\n",
    "from tqdm.notebook import tqdm\n",
    "\n",
    "nltk.download(\"words\")\n",
    "candidates = words.words()\n",
    "# nltk.download(\"words\")\n",
    "# fetch out all unqiue words in the random data\n",
    "unique_words = set()\n",
    "pattern = re.compile(r\"[^a-zA-Z]\")\n",
    "for sentence in illegal[\"Message\"]:\n",
    "    words = sentence.split()\n",
    "    for word in words:\n",
    "        word = pattern.sub(\"\", word)\n",
    "        unique_words.add(word.lower())\n",
    "\n",
    "\n",
    "# Replace non-alphabetic characters with an empty string\n",
    "\n",
    "words = list(unique_words.intersection(candidates))\n",
    "# words = list(unique_words)\n",
    "\n",
    "word_precomputed_embeddings = model.encode(words, show_progress_bar=True)\n",
    "word_embeddings = {\n",
    "    words[i]: torch.tensor(word_precomputed_embeddings[i]) for i in range(len(words))\n",
    "}\n",
    "\n",
    "# candidates_precomputed_embeddings = model.encode(candidates, show_progress_bar=True)\n",
    "# candidates_embeddings = {\n",
    "#     candidates[i]: torch.tensor(candidates_precomputed_embeddings[i]) for i in range(len(candidates))\n",
    "# }\n"
   ]
  },
  {
   "cell_type": "code",
   "execution_count": 24,
   "metadata": {},
   "outputs": [
    {
     "name": "stdout",
     "output_type": "stream",
     "text": [
      "discussion electorate, Similarity: 0.46957199701210445\n",
      "discussion re electorate, Similarity: 0.5012336538089107\n",
      "discussion re electorate thing, Similarity: 0.526610934157143\n",
      "discussion re electorate democrat thing, Similarity: 0.539246244064933\n",
      "discussion re electorate democrat thing wondering, Similarity: 0.5517732014319342\n",
      "discussion re electorate democrat thing wondering b, Similarity: 0.5640850948813951\n",
      "discussion re electorate democrat thing various wondering b, Similarity: 0.5750149772510433\n",
      "discussion re electorate biti democrat thing various wondering b, Similarity: 0.5827301375184141\n",
      "discussion re electorate biti democrat thing various wondering b previous, Similarity: 0.5903182109898921\n",
      "Reconstructed Sentence:  discussion re electorate biti democrat thing various wondering b previous\n"
     ]
    }
   ],
   "source": [
    "target_embedding = torch.tensor(eigenvectors_illegal[:, 0])\n",
    "reconstructed_sentence = reconstruct_sentence(target_embedding, word_embeddings, model)\n",
    "print(\"Reconstructed Sentence: \", reconstructed_sentence)"
   ]
  },
  {
   "cell_type": "code",
   "execution_count": 25,
   "metadata": {},
   "outputs": [
    {
     "name": "stdout",
     "output_type": "stream",
     "text": [
      "rove crushing, Similarity: 0.3429270056630366\n",
      "democrat rove crushing, Similarity: 0.4088734250975064\n",
      "democrat rove crushing collusion, Similarity: 0.44404450775459836\n",
      "democrat rove crushing collusion delta, Similarity: 0.47181464488538033\n",
      "democrat trump rove crushing collusion delta, Similarity: 0.4929172945666594\n",
      "democrat hopeful trump rove crushing collusion delta, Similarity: 0.5140308614436924\n",
      "democrat hopeful oversee trump rove crushing collusion delta, Similarity: 0.5337875274866992\n",
      "democrat hopeful oversee trump rove crushing collusion mad delta, Similarity: 0.5502594255409257\n",
      "democrat hopeful oversee trump rove crushing collusion mad cellular delta, Similarity: 0.5637964032770891\n",
      "Reconstructed Sentence:  democrat hopeful oversee trump rove crushing collusion mad cellular delta\n"
     ]
    }
   ],
   "source": [
    "target_embedding = torch.tensor(eigenvectors_illegal[:, 1])\n",
    "reconstructed_sentence = reconstruct_sentence(target_embedding, word_embeddings, model)\n",
    "print(\"Reconstructed Sentence: \", reconstructed_sentence)"
   ]
  },
  {
   "cell_type": "markdown",
   "metadata": {},
   "source": [
    "## COVID"
   ]
  },
  {
   "cell_type": "code",
   "execution_count": 26,
   "metadata": {},
   "outputs": [
    {
     "data": {
      "application/vnd.jupyter.widget-view+json": {
       "model_id": "595feaf713c5402fa77ef00a36742a3d",
       "version_major": 2,
       "version_minor": 0
      },
      "text/plain": [
       "Batches:   0%|          | 0/558 [00:00<?, ?it/s]"
      ]
     },
     "metadata": {},
     "output_type": "display_data"
    },
    {
     "data": {
      "application/vnd.jupyter.widget-view+json": {
       "model_id": "977c1b04f7f44039978c10b72b387c46",
       "version_major": 2,
       "version_minor": 0
      },
      "text/plain": [
       "Batches:   0%|          | 0/4 [00:00<?, ?it/s]"
      ]
     },
     "metadata": {},
     "output_type": "display_data"
    },
    {
     "data": {
      "text/plain": [
       "<AxesSubplot: >"
      ]
     },
     "execution_count": 26,
     "metadata": {},
     "output_type": "execute_result"
    },
    {
     "data": {
      "image/png": "[encoded data removed]",
      "text/plain": [
       "<Figure size 1920x1440 with 1 Axes>"
      ]
     },
     "metadata": {},
     "output_type": "display_data"
    }
   ],
   "source": [
    "covid = pd.read_csv(\"../data/covid.csv\")\n",
    "# encode the raw text\n",
    "covid_embedding = model.encode(covid.Message.tolist(), show_progress_bar=True)\n",
    "# read the summary data\n",
    "import re\n",
    "\n",
    "covid_summary = pd.read_csv(\"../data/covid_sample_summaries.csv\")\n",
    "# clean the summary data\n",
    "\n",
    "pattern_paragraph = re.compile(r\"\\s*\\([^)]*\\)\")\n",
    "covid_summary[\"summary\"] = covid_summary[\"summary\"].apply(\n",
    "    lambda x: pattern_paragraph.sub(\"\", x)\n",
    ")\n",
    "# encode the summary\n",
    "covid_summary_embedding = model.encode(\n",
    "    covid_summary.summary.tolist(), show_progress_bar=True\n",
    ")\n",
    "\n",
    "# calculate the covariance matrix\n",
    "cov_covid_matrix = np.cov(covid_embedding.T)\n",
    "cov_covid_summary_matrix = np.cov(covid_summary_embedding.T)\n",
    "\n",
    "# eigen decomposition\n",
    "eigenvalues_covid, eigenvectors_covid = np.linalg.eig(cov_covid_matrix)\n",
    "eigenvalues_covid_summary, eigenvectors_covid_summary = np.linalg.eig(\n",
    "    cov_covid_summary_matrix\n",
    ")\n",
    "\n",
    "# sort the eigenvalues\n",
    "idx_covid = eigenvalues_covid.argsort()[::-1]\n",
    "eigenvalues_covid = eigenvalues_covid[idx_covid]\n",
    "eigenvectors_covid = eigenvectors_covid[:, idx_covid]\n",
    "\n",
    "idx_covid_summary = eigenvalues_covid_summary.argsort()[::-1]\n",
    "eigenvalues_covid_summary = eigenvalues_covid_summary[idx_covid_summary]\n",
    "eigenvectors_covid_summary = eigenvectors_covid_summary[:, idx_covid_summary]\n",
    "import matplotlib.pyplot as plt\n",
    "import seaborn as sns\n",
    "\n",
    "# do the same to covid\n",
    "results = np.array(\n",
    "    [\n",
    "        np.dot(\n",
    "            np.dot(eigenvectors_covid[:, i].T, cov_covid_summary_matrix),\n",
    "            eigenvectors_covid[:, i],\n",
    "        )\n",
    "        for i in range(eigenvectors_covid.shape[1])\n",
    "    ]\n",
    ")\n",
    "\n",
    "plt.figure(dpi=300)\n",
    "sns.scatterplot(results[:100] / eigenvalues_covid[:100])\n"
   ]
  },
  {
   "cell_type": "code",
   "execution_count": 27,
   "metadata": {},
   "outputs": [
    {
     "name": "stderr",
     "output_type": "stream",
     "text": [
      "[nltk_data] Downloading package words to /home/maolee/nltk_data...\n",
      "[nltk_data]   Package words is already up-to-date!\n"
     ]
    },
    {
     "data": {
      "application/vnd.jupyter.widget-view+json": {
       "model_id": "ce714955e9384db2a6523fb21889e1dd",
       "version_major": 2,
       "version_minor": 0
      },
      "text/plain": [
       "Batches:   0%|          | 0/272 [00:00<?, ?it/s]"
      ]
     },
     "metadata": {},
     "output_type": "display_data"
    }
   ],
   "source": [
    "import nltk\n",
    "import torch\n",
    "import re\n",
    "from nltk.corpus import words\n",
    "from tqdm.notebook import tqdm\n",
    "\n",
    "nltk.download(\"words\")\n",
    "candidates = words.words()\n",
    "# nltk.download(\"words\")\n",
    "# fetch out all unqiue words in the random data\n",
    "unique_words = set()\n",
    "pattern = re.compile(r\"[^a-zA-Z]\")\n",
    "for sentence in covid[\"Message\"]:\n",
    "    words = sentence.split()\n",
    "    for word in words:\n",
    "        word = pattern.sub(\"\", word)\n",
    "        unique_words.add(word.lower())\n",
    "\n",
    "\n",
    "# Replace non-alphabetic characters with an empty string\n",
    "\n",
    "words = list(unique_words.intersection(candidates))\n",
    "# words = list(unique_words)\n",
    "\n",
    "word_precomputed_embeddings = model.encode(words, show_progress_bar=True)\n",
    "word_embeddings = {\n",
    "    words[i]: torch.tensor(word_precomputed_embeddings[i]) for i in range(len(words))\n",
    "}\n",
    "\n",
    "# candidates_precomputed_embeddings = model.encode(candidates, show_progress_bar=True)\n",
    "# candidates_embeddings = {\n",
    "#     candidates[i]: torch.tensor(candidates_precomputed_embeddings[i]) for i in range(len(candidates))\n",
    "# }"
   ]
  },
  {
   "cell_type": "code",
   "execution_count": 28,
   "metadata": {},
   "outputs": [
    {
     "name": "stdout",
     "output_type": "stream",
     "text": [
      "damn unbelievable, Similarity: 0.37390783575349806\n",
      "whew damn unbelievable, Similarity: 0.3917463012361111\n",
      "whew damn kirk unbelievable, Similarity: 0.4097959155341553\n",
      "forum whew damn kirk unbelievable, Similarity: 0.44927244691378865\n",
      "slightly forum whew damn kirk unbelievable, Similarity: 0.46999246884506546\n",
      "sweet slightly forum whew damn kirk unbelievable, Similarity: 0.47781115281799025\n",
      "sweet slightly news forum whew damn kirk unbelievable, Similarity: 0.48809797432012\n",
      "sweet slightly news forum fan whew damn kirk unbelievable, Similarity: 0.5002824512591686\n",
      "sweet slightly news forum fan whew damn negligent kirk unbelievable, Similarity: 0.5118057416897259\n",
      "Reconstructed Sentence:  sweet slightly news forum fan whew damn negligent kirk unbelievable\n"
     ]
    }
   ],
   "source": [
    "target_embedding = torch.tensor(eigenvectors_covid[:, 0])\n",
    "reconstructed_sentence = reconstruct_sentence(target_embedding, word_embeddings, model)\n",
    "print(\"Reconstructed Sentence: \", reconstructed_sentence)"
   ]
  },
  {
   "cell_type": "code",
   "execution_count": 29,
   "metadata": {},
   "outputs": [
    {
     "name": "stdout",
     "output_type": "stream",
     "text": [
      "census implausible, Similarity: 0.42288377547379075\n",
      "census just implausible, Similarity: 0.4767523893066278\n",
      "abolish census just implausible, Similarity: 0.5102919969957512\n",
      "abolish census just implausible partly, Similarity: 0.5342410730043033\n",
      "abolish census just woe implausible partly, Similarity: 0.5472916561951913\n",
      "abolish census just woe implausible partly because, Similarity: 0.5559243276088713\n",
      "abolish census seem just woe implausible partly because, Similarity: 0.5648747709601581\n",
      "abolish census seem just woe implausible partly because demographic, Similarity: 0.5746673583340509\n",
      "abolish census anyway seem just woe implausible partly because demographic, Similarity: 0.5856377420143187\n",
      "Reconstructed Sentence:  abolish census anyway seem just woe implausible partly because demographic\n"
     ]
    }
   ],
   "source": [
    "target_embedding = torch.tensor(eigenvectors_covid[:, 1])\n",
    "reconstructed_sentence = reconstruct_sentence(target_embedding, word_embeddings, model)\n",
    "print(\"Reconstructed Sentence: \", reconstructed_sentence)"
   ]
  },
  {
   "cell_type": "code",
   "execution_count": 30,
   "metadata": {},
   "outputs": [],
   "source": [
    "random = pd.read_csv(\"../data/random.csv\")"
   ]
  },
  {
   "cell_type": "code",
   "execution_count": 6,
   "metadata": {},
   "outputs": [],
   "source": [
    "def fastLexRank(embeddings: list[float]):\n",
    "    # sum in column\n",
    "    z = embeddings.sum(axis=0)\n",
    "    # normalize the sum\n",
    "    z = z / np.sqrt((z**2).sum(axis=0))\n",
    "    ap = np.dot(embeddings, z)\n",
    "    # normalize the scores by its sum\n",
    "    return ap\n",
    "\n",
    "\n",
    "#random_embedding = model.encode(random[\"Message\"])"
   ]
  },
  {
   "cell_type": "code",
   "execution_count": 35,
   "metadata": {},
   "outputs": [],
   "source": [
    "ap = fastLexRank(random_embedding)"
   ]
  },
  {
   "cell_type": "code",
   "execution_count": 37,
   "metadata": {},
   "outputs": [],
   "source": [
    "random[\"Typicality\"] = ap"
   ]
  },
  {
   "cell_type": "code",
   "execution_count": 39,
   "metadata": {},
   "outputs": [
    {
     "ename": "AttributeError",
     "evalue": "'Series' object has no attribute 'sort'",
     "output_type": "error",
     "traceback": [
      "\u001b[0;31m---------------------------------------------------------------------------\u001b[0m",
      "\u001b[0;31mAttributeError\u001b[0m                            Traceback (most recent call last)",
      "Cell \u001b[0;32mIn[39], line 1\u001b[0m\n\u001b[0;32m----> 1\u001b[0m \u001b[43mrandom\u001b[49m\u001b[43m[\u001b[49m\u001b[38;5;124;43m'\u001b[39;49m\u001b[38;5;124;43mTypicality\u001b[39;49m\u001b[38;5;124;43m'\u001b[39;49m\u001b[43m]\u001b[49m\u001b[38;5;241;43m.\u001b[39;49m\u001b[43msort\u001b[49m()\n",
      "File \u001b[0;32m~/.local/lib/python3.10/site-packages/pandas/core/generic.py:5902\u001b[0m, in \u001b[0;36mNDFrame.__getattr__\u001b[0;34m(self, name)\u001b[0m\n\u001b[1;32m   5895\u001b[0m \u001b[38;5;28;01mif\u001b[39;00m (\n\u001b[1;32m   5896\u001b[0m     name \u001b[38;5;129;01mnot\u001b[39;00m \u001b[38;5;129;01min\u001b[39;00m \u001b[38;5;28mself\u001b[39m\u001b[38;5;241m.\u001b[39m_internal_names_set\n\u001b[1;32m   5897\u001b[0m     \u001b[38;5;129;01mand\u001b[39;00m name \u001b[38;5;129;01mnot\u001b[39;00m \u001b[38;5;129;01min\u001b[39;00m \u001b[38;5;28mself\u001b[39m\u001b[38;5;241m.\u001b[39m_metadata\n\u001b[1;32m   5898\u001b[0m     \u001b[38;5;129;01mand\u001b[39;00m name \u001b[38;5;129;01mnot\u001b[39;00m \u001b[38;5;129;01min\u001b[39;00m \u001b[38;5;28mself\u001b[39m\u001b[38;5;241m.\u001b[39m_accessors\n\u001b[1;32m   5899\u001b[0m     \u001b[38;5;129;01mand\u001b[39;00m \u001b[38;5;28mself\u001b[39m\u001b[38;5;241m.\u001b[39m_info_axis\u001b[38;5;241m.\u001b[39m_can_hold_identifiers_and_holds_name(name)\n\u001b[1;32m   5900\u001b[0m ):\n\u001b[1;32m   5901\u001b[0m     \u001b[38;5;28;01mreturn\u001b[39;00m \u001b[38;5;28mself\u001b[39m[name]\n\u001b[0;32m-> 5902\u001b[0m \u001b[38;5;28;01mreturn\u001b[39;00m \u001b[38;5;28;43mobject\u001b[39;49m\u001b[38;5;241;43m.\u001b[39;49m\u001b[38;5;21;43m__getattribute__\u001b[39;49m\u001b[43m(\u001b[49m\u001b[38;5;28;43mself\u001b[39;49m\u001b[43m,\u001b[49m\u001b[43m \u001b[49m\u001b[43mname\u001b[49m\u001b[43m)\u001b[49m\n",
      "\u001b[0;31mAttributeError\u001b[0m: 'Series' object has no attribute 'sort'"
     ]
    }
   ],
   "source": [
    "random[\"Typicality\"].sort()"
   ]
  },
  {
   "cell_type": "code",
   "execution_count": 40,
   "metadata": {},
   "outputs": [],
   "source": [
    "random.to_csv(\"../data/typicality_example.csv\", index=False)"
   ]
  },
  {
   "cell_type": "code",
   "execution_count": 4,
   "metadata": {},
   "outputs": [],
   "source": [
    "trump_embedding = model.encode(trump[\"Message\"])"
   ]
  },
  {
   "cell_type": "code",
   "execution_count": 7,
   "metadata": {},
   "outputs": [],
   "source": [
    "ap_trump = fastLexRank(trump_embedding)"
   ]
  },
  {
   "cell_type": "code",
   "execution_count": 8,
   "metadata": {},
   "outputs": [],
   "source": [
    "trump['ap'] = ap_trump"
   ]
  },
  {
   "cell_type": "code",
   "execution_count": 49,
   "metadata": {},
   "outputs": [
    {
     "data": {
      "text/plain": [
       "'Trump says hes signing an order that will exclude people who are in the US from being counted by the Census for political representation. Wants to redraw dustrict borders. Keep an eye/ ear out for NPRs to give you the deets. SMH.'"
      ]
     },
     "execution_count": 49,
     "metadata": {},
     "output_type": "execute_result"
    }
   ],
   "source": [
    "trump.sort_values(by='ap')[-5:]['Message'][13223]"
   ]
  },
  {
   "cell_type": "code",
   "execution_count": 10,
   "metadata": {},
   "outputs": [
    {
     "data": {
      "text/plain": [
       "\"You must get Trump's Attention immediately on the Census, about to be completed Sep !! This is a Major Trump Campaign Plus, as the Dems blocked the Citizenship Question from the on going Census Count! The Census Count is now totally Invalid as it mingles All\""
      ]
     },
     "execution_count": 10,
     "metadata": {},
     "output_type": "execute_result"
    }
   ],
   "source": [
    "trump.sort_values(by='ap')[-5:]['Message'][24589]"
   ]
  },
  {
   "cell_type": "code",
   "execution_count": 11,
   "metadata": {},
   "outputs": [
    {
     "data": {
      "text/plain": [
       "13223    Trump says hes signing an order that will excl...\n",
       "24589    You must get Trump's Attention immediately on ...\n",
       "16734    Trump Signs Order Excluding Illegal Immigrants...\n",
       "13263    Trump isnt done trying to meddle with the Cens...\n",
       "22020    The Trump admin is politicizing the census. Th...\n",
       "Name: Message, dtype: object"
      ]
     },
     "execution_count": 11,
     "metadata": {},
     "output_type": "execute_result"
    }
   ],
   "source": [
    "trump.sort_values(by='ap')[-5:]['Message']"
   ]
  },
  {
   "cell_type": "code",
   "execution_count": 12,
   "metadata": {},
   "outputs": [
    {
     "data": {
      "text/plain": [
       "'Trump Signs Order Excluding Illegal Immigrants from Census to Prevent Inflated Congressional Districts --TRUMP TRIED TO GET THIS ON THE CENSUS... NOWHW HAS TO EO IT.'"
      ]
     },
     "execution_count": 12,
     "metadata": {},
     "output_type": "execute_result"
    }
   ],
   "source": [
    "trump.sort_values(by='ap')[-5:]['Message'][16734]"
   ]
  },
  {
   "cell_type": "code",
   "execution_count": 17,
   "metadata": {},
   "outputs": [
    {
     "data": {
      "text/plain": [
       "True"
      ]
     },
     "execution_count": 17,
     "metadata": {},
     "output_type": "execute_result"
    }
   ],
   "source": [
    "'trump' in words"
   ]
  },
  {
   "cell_type": "code",
   "execution_count": null,
   "metadata": {},
   "outputs": [],
   "source": []
  }
 ],
 "metadata": {
  "kernelspec": {
   "display_name": "Python 3 (ipykernel)",
   "language": "python",
   "name": "python3"
  },
  "language_info": {
   "codemirror_mode": {
    "name": "ipython",
    "version": 3
   },
   "file_extension": ".py",
   "mimetype": "text/x-python",
   "name": "python",
   "nbconvert_exporter": "python",
   "pygments_lexer": "ipython3",
   "version": "3.10.9"
  }
 },
 "nbformat": 4,
 "nbformat_minor": 2
}
